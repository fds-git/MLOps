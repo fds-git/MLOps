{
 "cells": [
  {
   "cell_type": "code",
   "execution_count": null,
   "id": "a3b3e29b",
   "metadata": {},
   "outputs": [],
   "source": [
    "import findspark\n",
    "findspark.init()\n",
    "findspark.find()\n",
    "import pyspark\n",
    "from pyspark.sql import SparkSession"
   ]
  },
  {
   "cell_type": "code",
   "execution_count": null,
   "id": "95c76a5c",
   "metadata": {},
   "outputs": [],
   "source": [
    "!hdfs dfs -ls /user/testdata/"
   ]
  },
  {
   "cell_type": "code",
   "execution_count": null,
   "id": "2871f60f",
   "metadata": {},
   "outputs": [],
   "source": [
    "spark = SparkSession\\\n",
    "        .builder\\\n",
    "        .appName(\"trans_feature_engineering\")\\\n",
    "        .getOrCreate()\n",
    "\n",
    "data = spark.read.parquet('/user/testdata/transactions_17_10_2021-22_10_2021.parquet')"
   ]
  },
  {
   "cell_type": "code",
   "execution_count": null,
   "id": "804d8fbc",
   "metadata": {},
   "outputs": [],
   "source": [
    "data"
   ]
  },
  {
   "cell_type": "code",
   "execution_count": null,
   "id": "628498e3",
   "metadata": {},
   "outputs": [],
   "source": [
    "data.printSchema()"
   ]
  },
  {
   "cell_type": "code",
   "execution_count": null,
   "id": "021be34a",
   "metadata": {},
   "outputs": [],
   "source": [
    "spark.conf.set('spark.sql.repl.eagerEval.enabled', True)  # to pretty print pyspark.DataFrame in jupyter\n",
    "data.limit(10)"
   ]
  },
  {
   "cell_type": "code",
   "execution_count": null,
   "id": "644bcf90",
   "metadata": {},
   "outputs": [],
   "source": [
    "!hdfs dfs -ls /user/processed_data/"
   ]
  },
  {
   "cell_type": "code",
   "execution_count": null,
   "id": "04ca46f3",
   "metadata": {},
   "outputs": [],
   "source": [
    "# Проверка, что сохраненный spark'ом датафрейм номально открывается\n",
    "data_processed = spark.read.parquet('/user/processed_data/transactions_17_10_2021-22_10_2021.parquet')\n",
    "data_processed.limit(10)"
   ]
  },
  {
   "cell_type": "code",
   "execution_count": null,
   "id": "0c4976f3",
   "metadata": {},
   "outputs": [],
   "source": []
  },
  {
   "cell_type": "code",
   "execution_count": null,
   "id": "a0ae8c83",
   "metadata": {},
   "outputs": [],
   "source": []
  }
 ],
 "metadata": {
  "kernelspec": {
   "display_name": "Python 3 (ipykernel)",
   "language": "python",
   "name": "python3"
  },
  "language_info": {
   "codemirror_mode": {
    "name": "ipython",
    "version": 3
   },
   "file_extension": ".py",
   "mimetype": "text/x-python",
   "name": "python",
   "nbconvert_exporter": "python",
   "pygments_lexer": "ipython3",
   "version": "3.10.6"
  }
 },
 "nbformat": 4,
 "nbformat_minor": 5
}
