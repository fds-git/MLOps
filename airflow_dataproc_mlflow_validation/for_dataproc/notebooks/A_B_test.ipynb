{
 "cells": [
  {
   "cell_type": "markdown",
   "id": "7fdeadb0",
   "metadata": {},
   "source": [
    "## A/B тестирование результатов работы двух моделей"
   ]
  },
  {
   "cell_type": "code",
   "execution_count": 2,
   "id": "02844ce3",
   "metadata": {},
   "outputs": [],
   "source": [
    "import pandas as pd\n",
    "from sklearn.metrics import f1_score\n",
    "import numpy as np\n",
    "import seaborn as sns\n",
    "from scipy.stats import ttest_ind"
   ]
  },
  {
   "cell_type": "code",
   "execution_count": 3,
   "id": "27f1db2c",
   "metadata": {},
   "outputs": [],
   "source": [
    "model_a_result = pd.read_csv('../data/lr_pred_target.csv')\n",
    "model_b_result = pd.read_csv('../data/rf_pred_target.csv')"
   ]
  },
  {
   "cell_type": "code",
   "execution_count": 4,
   "id": "0baa9e2c",
   "metadata": {},
   "outputs": [
    {
     "data": {
      "text/plain": [
       "0.5198358413132694"
      ]
     },
     "execution_count": 4,
     "metadata": {},
     "output_type": "execute_result"
    }
   ],
   "source": [
    "f1_score(model_a_result['TX_FRAUD'], model_a_result['prediction'], average='macro')"
   ]
  },
  {
   "cell_type": "code",
   "execution_count": 5,
   "id": "4567f3e9",
   "metadata": {},
   "outputs": [
    {
     "data": {
      "text/plain": [
       "0.9124929338609383"
      ]
     },
     "execution_count": 5,
     "metadata": {},
     "output_type": "execute_result"
    }
   ],
   "source": [
    "f1_score(model_b_result['TX_FRAUD'], model_b_result['prediction'], average='macro')"
   ]
  },
  {
   "cell_type": "code",
   "execution_count": 6,
   "id": "cf6a86bd",
   "metadata": {},
   "outputs": [],
   "source": [
    "def get_bootstrap(data: pd.DataFrame, pred_name: str, target_name: str, metric: object, bootstrap_iterations: int):\n",
    "    \n",
    "    np.random.seed(42)\n",
    "\n",
    "    scores = pd.DataFrame(data={\n",
    "        \"metric\": 0.0,\n",
    "    }, index=range(bootstrap_iterations))\n",
    "\n",
    "    for i in range(bootstrap_iterations):\n",
    "        sample = data.sample(frac=1.0, replace=True)\n",
    "        scores.loc[i, \"metric\"] = metric(sample[pred_name], sample[target_name])\n",
    "    return scores"
   ]
  },
  {
   "cell_type": "code",
   "execution_count": 7,
   "id": "5143c1fd",
   "metadata": {},
   "outputs": [],
   "source": [
    "model_a_boot_res = get_bootstrap(model_a_result, 'prediction', 'TX_FRAUD', f1_score, 1000)\n",
    "model_b_boot_res = get_bootstrap(model_b_result, 'prediction', 'TX_FRAUD', f1_score, 1000)"
   ]
  },
  {
   "cell_type": "code",
   "execution_count": 8,
   "id": "7b594b6b",
   "metadata": {},
   "outputs": [
    {
     "data": {
      "text/plain": [
       "<matplotlib.axes._subplots.AxesSubplot at 0x7efe7c6d6310>"
      ]
     },
     "execution_count": 8,
     "metadata": {},
     "output_type": "execute_result"
    },
    {
     "data": {
      "image/png": "[encoded data removed]",
      "text/plain": [
       "<Figure size 936x576 with 1 Axes>"
      ]
     },
     "metadata": {},
     "output_type": "display_data"
    }
   ],
   "source": [
    "sns.set(rc={'figure.figsize':(13, 8)})\n",
    "\n",
    "ax = sns.kdeplot(\n",
    "    data=model_a_boot_res[\"metric\"],\n",
    "    alpha=0.3,\n",
    "    color=\"red\",\n",
    "    label='model A',\n",
    ")\n",
    "\n",
    "ax.set(title='Metric distribution')\n",
    "\n",
    "sns.kdeplot(\n",
    "    data=model_b_boot_res[\"metric\"],\n",
    "    alpha=0.3,\n",
    "    color=\"blue\",\n",
    "    label='model B',\n",
    "    ax=ax,\n",
    ")"
   ]
  },
  {
   "cell_type": "code",
   "execution_count": 9,
   "id": "d8dcebd7",
   "metadata": {},
   "outputs": [
    {
     "data": {
      "text/html": [
       "<div>\n",
       "<style scoped>\n",
       "    .dataframe tbody tr th:only-of-type {\n",
       "        vertical-align: middle;\n",
       "    }\n",
       "\n",
       "    .dataframe tbody tr th {\n",
       "        vertical-align: top;\n",
       "    }\n",
       "\n",
       "    .dataframe thead th {\n",
       "        text-align: right;\n",
       "    }\n",
       "</style>\n",
       "<table border=\"1\" class=\"dataframe\">\n",
       "  <thead>\n",
       "    <tr style=\"text-align: right;\">\n",
       "      <th></th>\n",
       "      <th>metric</th>\n",
       "    </tr>\n",
       "  </thead>\n",
       "  <tbody>\n",
       "    <tr>\n",
       "      <th>0</th>\n",
       "      <td>0.857143</td>\n",
       "    </tr>\n",
       "    <tr>\n",
       "      <th>1</th>\n",
       "      <td>0.845638</td>\n",
       "    </tr>\n",
       "    <tr>\n",
       "      <th>2</th>\n",
       "      <td>0.875817</td>\n",
       "    </tr>\n",
       "    <tr>\n",
       "      <th>3</th>\n",
       "      <td>0.843537</td>\n",
       "    </tr>\n",
       "    <tr>\n",
       "      <th>4</th>\n",
       "      <td>0.812121</td>\n",
       "    </tr>\n",
       "    <tr>\n",
       "      <th>...</th>\n",
       "      <td>...</td>\n",
       "    </tr>\n",
       "    <tr>\n",
       "      <th>995</th>\n",
       "      <td>0.881890</td>\n",
       "    </tr>\n",
       "    <tr>\n",
       "      <th>996</th>\n",
       "      <td>0.878049</td>\n",
       "    </tr>\n",
       "    <tr>\n",
       "      <th>997</th>\n",
       "      <td>0.877698</td>\n",
       "    </tr>\n",
       "    <tr>\n",
       "      <th>998</th>\n",
       "      <td>0.833333</td>\n",
       "    </tr>\n",
       "    <tr>\n",
       "      <th>999</th>\n",
       "      <td>0.850394</td>\n",
       "    </tr>\n",
       "  </tbody>\n",
       "</table>\n",
       "<p>1000 rows × 1 columns</p>\n",
       "</div>"
      ],
      "text/plain": [
       "       metric\n",
       "0    0.857143\n",
       "1    0.845638\n",
       "2    0.875817\n",
       "3    0.843537\n",
       "4    0.812121\n",
       "..        ...\n",
       "995  0.881890\n",
       "996  0.878049\n",
       "997  0.877698\n",
       "998  0.833333\n",
       "999  0.850394\n",
       "\n",
       "[1000 rows x 1 columns]"
      ]
     },
     "execution_count": 9,
     "metadata": {},
     "output_type": "execute_result"
    }
   ],
   "source": [
    "model_b_boot_res"
   ]
  },
  {
   "cell_type": "code",
   "execution_count": 10,
   "id": "4de4bab2",
   "metadata": {},
   "outputs": [],
   "source": [
    "def commit_ttest(metric_a: pd.Series, metric_b: pd.Series, alpha: float):\n",
    "\n",
    "    pvalue = ttest_ind(metric_a, metric_b, alternative=\"less\").pvalue\n",
    "\n",
    "    print(f\"pvalue: {pvalue:g}\")\n",
    "    if pvalue < alpha:\n",
    "        print(\"Reject null hypothesis.\")\n",
    "    else:\n",
    "        print(\"Accept null hypothesis.\")"
   ]
  },
  {
   "cell_type": "code",
   "execution_count": 11,
   "id": "3d5789b5",
   "metadata": {},
   "outputs": [
    {
     "name": "stdout",
     "output_type": "stream",
     "text": [
      "pvalue: 0\n",
      "Reject null hypothesis.\n"
     ]
    }
   ],
   "source": [
    "commit_ttest(model_a_boot_res['metric'], model_b_boot_res['metric'], 0.001)"
   ]
  }
 ],
 "metadata": {
  "kernelspec": {
   "display_name": "Python 3",
   "language": "python",
   "name": "python3"
  },
  "language_info": {
   "codemirror_mode": {
    "name": "ipython",
    "version": 3
   },
   "file_extension": ".py",
   "mimetype": "text/x-python",
   "name": "python",
   "nbconvert_exporter": "python",
   "pygments_lexer": "ipython3",
   "version": "3.8.10"
  }
 },
 "nbformat": 4,
 "nbformat_minor": 5
}
