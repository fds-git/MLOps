{
 "cells": [
  {
   "cell_type": "markdown",
   "id": "7fdeadb0",
   "metadata": {},
   "source": [
    "## Обзор и препроцессинг сгенерированных данных на PySpark"
   ]
  },
  {
   "cell_type": "code",
   "execution_count": 158,
   "id": "a3b3e29b",
   "metadata": {},
   "outputs": [],
   "source": [
    "import findspark\n",
    "findspark.init()\n",
    "findspark.find()\n",
    "import pyspark\n",
    "from pyspark.sql import SparkSession\n",
    "from pyspark.ml.feature import OneHotEncoder\n",
    "from pyspark.ml.feature import MinMaxScaler\n",
    "from pyspark.ml.feature import VectorAssembler\n",
    "from pyspark.sql.functions import hour\n",
    "from pyspark.ml.classification import LogisticRegression\n",
    "from pyspark.ml.tuning import TrainValidationSplit\n",
    "from pyspark.ml.evaluation import BinaryClassificationEvaluator\n",
    "from pyspark.ml import Pipeline\n",
    "from pyspark.ml.feature import MinMaxScaler"
   ]
  },
  {
   "cell_type": "code",
   "execution_count": 47,
   "id": "95c76a5c",
   "metadata": {
    "scrolled": true
   },
   "outputs": [
    {
     "name": "stdout",
     "output_type": "stream",
     "text": [
      "Found 52 items\r\n",
      "drwxr-xr-x   - ubuntu hadoop          0 2022-12-22 05:48 /user/testdata/02_06_2019-08_06_2019\r\n",
      "drwxr-xr-x   - ubuntu hadoop          0 2022-12-21 07:56 /user/testdata/02_09_2018-08_09_2018\r\n",
      "drwxr-xr-x   - ubuntu hadoop          0 2022-12-21 08:46 /user/testdata/02_12_2018-08_12_2018\r\n",
      "drwxr-xr-x   - ubuntu hadoop          0 2022-12-21 08:55 /user/testdata/03_02_2019-09_02_2019\r\n",
      "drwxr-xr-x   - ubuntu hadoop          0 2022-12-21 08:59 /user/testdata/03_03_2019-09_03_2019\r\n",
      "drwxr-xr-x   - ubuntu hadoop          0 2022-12-22 05:57 /user/testdata/04_08_2019-10_08_2019\r\n",
      "drwxr-xr-x   - ubuntu hadoop          0 2022-12-21 08:42 /user/testdata/04_11_2018-10_11_2018\r\n",
      "drwxr-xr-x   - ubuntu hadoop          0 2022-12-22 05:44 /user/testdata/05_05_2019-11_05_2019\r\n",
      "drwxr-xr-x   - ubuntu hadoop          0 2022-12-21 07:44 /user/testdata/05_08_2018-11_08_2018\r\n",
      "drwxr-xr-x   - ubuntu hadoop          0 2022-12-21 08:51 /user/testdata/06_01_2019-12_01_2019\r\n",
      "drwxr-xr-x   - ubuntu hadoop          0 2022-12-22 05:31 /user/testdata/07_04_2019-13_04_2019\r\n",
      "drwxr-xr-x   - ubuntu hadoop          0 2022-12-22 05:53 /user/testdata/07_07_2019-13_07_2019\r\n",
      "drwxr-xr-x   - ubuntu hadoop          0 2022-12-21 08:38 /user/testdata/07_10_2018-13_10_2018\r\n",
      "drwxr-xr-x   - ubuntu hadoop          0 2022-12-22 05:49 /user/testdata/09_06_2019-15_06_2019\r\n",
      "drwxr-xr-x   - ubuntu hadoop          0 2022-12-21 08:34 /user/testdata/09_09_2018-15_09_2018\r\n",
      "drwxr-xr-x   - ubuntu hadoop          0 2022-12-21 08:47 /user/testdata/09_12_2018-15_12_2018\r\n",
      "drwxr-xr-x   - ubuntu hadoop          0 2022-12-21 08:56 /user/testdata/10_02_2019-16_02_2019\r\n",
      "drwxr-xr-x   - ubuntu hadoop          0 2022-12-21 09:00 /user/testdata/10_03_2019-16_03_2019\r\n",
      "drwxr-xr-x   - ubuntu hadoop          0 2022-12-22 05:58 /user/testdata/11_08_2019-17_08_2019\r\n",
      "drwxr-xr-x   - ubuntu hadoop          0 2022-12-21 08:43 /user/testdata/11_11_2018-17_11_2018\r\n",
      "drwxr-xr-x   - ubuntu hadoop          0 2022-12-22 05:45 /user/testdata/12_05_2019-18_05_2019\r\n",
      "drwxr-xr-x   - ubuntu hadoop          0 2022-12-21 07:45 /user/testdata/12_08_2018-18_08_2018\r\n",
      "drwxr-xr-x   - ubuntu hadoop          0 2022-12-21 08:52 /user/testdata/13_01_2019-19_01_2019\r\n",
      "drwxr-xr-x   - ubuntu hadoop          0 2022-12-22 05:32 /user/testdata/14_04_2019-20_04_2019\r\n",
      "drwxr-xr-x   - ubuntu hadoop          0 2022-12-22 05:54 /user/testdata/14_07_2019-20_07_2019\r\n",
      "drwxr-xr-x   - ubuntu hadoop          0 2022-12-21 08:39 /user/testdata/14_10_2018-20_10_2018\r\n",
      "drwxr-xr-x   - ubuntu hadoop          0 2022-12-22 05:50 /user/testdata/16_06_2019-22_06_2019\r\n",
      "drwxr-xr-x   - ubuntu hadoop          0 2022-12-21 08:35 /user/testdata/16_09_2018-22_09_2018\r\n",
      "drwxr-xr-x   - ubuntu hadoop          0 2022-12-21 08:48 /user/testdata/16_12_2018-22_12_2018\r\n",
      "drwxr-xr-x   - ubuntu hadoop          0 2022-12-21 08:57 /user/testdata/17_02_2019-23_02_2019\r\n",
      "drwxr-xr-x   - ubuntu hadoop          0 2022-12-22 05:59 /user/testdata/18_08_2019-24_08_2019\r\n",
      "drwxr-xr-x   - ubuntu hadoop          0 2022-12-21 08:44 /user/testdata/18_11_2018-24_11_2018\r\n",
      "drwxr-xr-x   - ubuntu hadoop          0 2022-12-22 05:46 /user/testdata/19_05_2019-25_05_2019\r\n",
      "drwxr-xr-x   - ubuntu hadoop          0 2022-12-21 07:46 /user/testdata/19_08_2018-25_08_2018\r\n",
      "drwxr-xr-x   - ubuntu hadoop          0 2022-12-21 08:53 /user/testdata/20_01_2019-26_01_2019\r\n",
      "drwxr-xr-x   - ubuntu hadoop          0 2022-12-22 05:33 /user/testdata/21_04_2019-27_04_2019\r\n",
      "drwxr-xr-x   - ubuntu hadoop          0 2022-12-22 05:55 /user/testdata/21_07_2019-27_07_2019\r\n",
      "drwxr-xr-x   - ubuntu hadoop          0 2022-12-21 08:40 /user/testdata/21_10_2018-27_10_2018\r\n",
      "drwxr-xr-x   - ubuntu hadoop          0 2022-12-22 05:51 /user/testdata/23_06_2019-29_06_2019\r\n",
      "drwxr-xr-x   - ubuntu hadoop          0 2022-12-21 08:36 /user/testdata/23_09_2018-29_09_2018\r\n",
      "drwxr-xr-x   - ubuntu hadoop          0 2022-12-21 08:49 /user/testdata/23_12_2018-29_12_2018\r\n",
      "drwxr-xr-x   - ubuntu hadoop          0 2022-12-21 08:58 /user/testdata/24_02_2019-02_03_2019\r\n",
      "drwxr-xr-x   - ubuntu hadoop          0 2022-12-21 08:45 /user/testdata/25_11_2018-01_12_2018\r\n",
      "drwxr-xr-x   - ubuntu hadoop          0 2022-12-22 05:47 /user/testdata/26_05_2019-01_06_2019\r\n",
      "drwxr-xr-x   - ubuntu hadoop          0 2022-12-21 08:54 /user/testdata/27_01_2019-02_02_2019\r\n",
      "drwxr-xr-x   - ubuntu hadoop          0 2022-12-22 05:56 /user/testdata/28_07_2019-03_08_2019\r\n",
      "drwxr-xr-x   - ubuntu hadoop          0 2022-12-21 08:41 /user/testdata/28_10_2018-03_11_2018\r\n",
      "drwxr-xr-x   - ubuntu hadoop          0 2022-12-21 07:44 /user/testdata/29_07_2018-04_08_2018\r\n",
      "drwxr-xr-x   - ubuntu hadoop          0 2022-12-22 05:52 /user/testdata/30_06_2019-06_07_2019\r\n",
      "drwxr-xr-x   - ubuntu hadoop          0 2022-12-21 08:37 /user/testdata/30_09_2018-06_10_2018\r\n",
      "drwxr-xr-x   - ubuntu hadoop          0 2022-12-21 08:50 /user/testdata/30_12_2018-05_01_2019\r\n",
      "drwxr-xr-x   - ubuntu hadoop          0 2022-12-22 05:30 /user/testdata/31_03_2019-06_04_2019\r\n"
     ]
    }
   ],
   "source": [
    "!hdfs dfs -ls /user/testdata/"
   ]
  },
  {
   "cell_type": "code",
   "execution_count": 48,
   "id": "0e9d8526",
   "metadata": {},
   "outputs": [
    {
     "name": "stdout",
     "output_type": "stream",
     "text": [
      "Found 3 items\r\n",
      "-rw-r--r--   1 ubuntu hadoop      51401 2022-12-22 05:44 /user/testdata/05_05_2019-11_05_2019/customers.csv\r\n",
      "-rw-r--r--   1 ubuntu hadoop       3976 2022-12-22 05:44 /user/testdata/05_05_2019-11_05_2019/terminals.csv\r\n",
      "-rw-r--r--   1 ubuntu hadoop     194244 2022-12-22 05:44 /user/testdata/05_05_2019-11_05_2019/transactions.csv\r\n"
     ]
    }
   ],
   "source": [
    "!hdfs dfs -ls /user/testdata/05_05_2019-11_05_2019"
   ]
  },
  {
   "cell_type": "code",
   "execution_count": 49,
   "id": "2871f60f",
   "metadata": {},
   "outputs": [],
   "source": [
    "spark = SparkSession\\\n",
    "        .builder\\\n",
    "        .appName(\"trans_feature_engineering\")\\\n",
    "        .getOrCreate()\n",
    "\n",
    "spark.conf.set('spark.sql.repl.eagerEval.enabled', True)  # to pretty print pyspark.DataFrame in jupyter"
   ]
  },
  {
   "cell_type": "code",
   "execution_count": 73,
   "id": "51de8593",
   "metadata": {},
   "outputs": [],
   "source": [
    "customers = spark.read.csv('/user/testdata/05_05_2019-11_05_2019/customers.csv', inferSchema=True, header=True)\n",
    "terminals = spark.read.csv('/user/testdata/05_05_2019-11_05_2019/terminals.csv', inferSchema=True, header=True)\n",
    "transactions = spark.read.csv('/user/testdata/05_05_2019-11_05_2019/transactions.csv', inferSchema=True, header=True)"
   ]
  },
  {
   "cell_type": "markdown",
   "id": "89c43c3c",
   "metadata": {},
   "source": [
    "### Обзор customers"
   ]
  },
  {
   "cell_type": "code",
   "execution_count": 74,
   "id": "628498e3",
   "metadata": {},
   "outputs": [
    {
     "name": "stdout",
     "output_type": "stream",
     "text": [
      "root\n",
      " |-- CUSTOMER_ID: integer (nullable = true)\n",
      " |-- x_customer_id: double (nullable = true)\n",
      " |-- y_customer_id: double (nullable = true)\n",
      " |-- mean_amount: double (nullable = true)\n",
      " |-- std_amount: double (nullable = true)\n",
      " |-- mean_nb_tx_per_day: double (nullable = true)\n",
      " |-- available_terminals: string (nullable = true)\n",
      " |-- nb_terminals: integer (nullable = true)\n",
      "\n"
     ]
    }
   ],
   "source": [
    "customers.printSchema()"
   ]
  },
  {
   "cell_type": "code",
   "execution_count": 75,
   "id": "85c1d9c5",
   "metadata": {},
   "outputs": [
    {
     "data": {
      "text/html": [
       "<table border='1'>\n",
       "<tr><th>CUSTOMER_ID</th><th>x_customer_id</th><th>y_customer_id</th><th>mean_amount</th><th>std_amount</th><th>mean_nb_tx_per_day</th><th>available_terminals</th><th>nb_terminals</th></tr>\n",
       "<tr><td>0</td><td>54.88135039273247</td><td>71.51893663724195</td><td>62.262520726806166</td><td>31.131260363403083</td><td>2.1795327319875875</td><td>[29, 87]</td><td>2</td></tr>\n",
       "<tr><td>1</td><td>42.36547993389047</td><td>64.58941130666561</td><td>46.57078506995579</td><td>23.285392534977895</td><td>3.567092003128319</td><td>[5]</td><td>1</td></tr>\n",
       "<tr><td>2</td><td>96.36627605010293</td><td>38.34415188257777</td><td>80.21387861785314</td><td>40.10693930892657</td><td>2.115579679011618</td><td>[]</td><td>0</td></tr>\n",
       "<tr><td>3</td><td>56.80445610939323</td><td>92.5596638292661</td><td>11.74842552879926</td><td>5.87421276439963</td><td>0.34851719880616283</td><td>[65, 94]</td><td>2</td></tr>\n",
       "<tr><td>4</td><td>2.021839744032572</td><td>83.2619845547938</td><td>78.9248913402358</td><td>39.4624456701179</td><td>3.4800485929872766</td><td>[]</td><td>0</td></tr>\n",
       "<tr><td>5</td><td>97.8618342232764</td><td>79.91585642167236</td><td>48.84053941402853</td><td>24.420269707014263</td><td>3.122116705145822</td><td>[79]</td><td>1</td></tr>\n",
       "<tr><td>6</td><td>11.827442586893323</td><td>63.99210213275238</td><td>18.618562303859406</td><td>9.309281151929703</td><td>3.7786756681983356</td><td>[]</td><td>0</td></tr>\n",
       "<tr><td>7</td><td>52.184832175007166</td><td>41.46619399905236</td><td>30.132783149939563</td><td>15.066391574969781</td><td>3.0969347577368667</td><td>[]</td><td>0</td></tr>\n",
       "<tr><td>8</td><td>45.615033221654855</td><td>56.84339488686485</td><td>6.785031041453738</td><td>3.392515520726869</td><td>2.4705419883035082</td><td>[8, 46]</td><td>2</td></tr>\n",
       "<tr><td>9</td><td>61.20957227224214</td><td>61.69339968747569</td><td>94.6560674588893</td><td>47.32803372944465</td><td>2.7272811964139336</td><td>[84]</td><td>1</td></tr>\n",
       "</table>\n"
      ],
      "text/plain": [
       "+-----------+------------------+-----------------+------------------+------------------+-------------------+-------------------+------------+\n",
       "|CUSTOMER_ID|     x_customer_id|    y_customer_id|       mean_amount|        std_amount| mean_nb_tx_per_day|available_terminals|nb_terminals|\n",
       "+-----------+------------------+-----------------+------------------+------------------+-------------------+-------------------+------------+\n",
       "|          0| 54.88135039273247|71.51893663724195|62.262520726806166|31.131260363403083| 2.1795327319875875|           [29, 87]|           2|\n",
       "|          1| 42.36547993389047|64.58941130666561| 46.57078506995579|23.285392534977895|  3.567092003128319|                [5]|           1|\n",
       "|          2| 96.36627605010293|38.34415188257777| 80.21387861785314| 40.10693930892657|  2.115579679011618|                 []|           0|\n",
       "|          3| 56.80445610939323| 92.5596638292661| 11.74842552879926|  5.87421276439963|0.34851719880616283|           [65, 94]|           2|\n",
       "|          4| 2.021839744032572| 83.2619845547938|  78.9248913402358|  39.4624456701179| 3.4800485929872766|                 []|           0|\n",
       "|          5|  97.8618342232764|79.91585642167236| 48.84053941402853|24.420269707014263|  3.122116705145822|               [79]|           1|\n",
       "|          6|11.827442586893323|63.99210213275238|18.618562303859406| 9.309281151929703| 3.7786756681983356|                 []|           0|\n",
       "|          7|52.184832175007166|41.46619399905236|30.132783149939563|15.066391574969781| 3.0969347577368667|                 []|           0|\n",
       "|          8|45.615033221654855|56.84339488686485| 6.785031041453738| 3.392515520726869| 2.4705419883035082|            [8, 46]|           2|\n",
       "|          9| 61.20957227224214|61.69339968747569|  94.6560674588893| 47.32803372944465| 2.7272811964139336|               [84]|           1|\n",
       "+-----------+------------------+-----------------+------------------+------------------+-------------------+-------------------+------------+"
      ]
     },
     "execution_count": 75,
     "metadata": {},
     "output_type": "execute_result"
    }
   ],
   "source": [
    "customers.limit(10)"
   ]
  },
  {
   "cell_type": "markdown",
   "id": "dbe1e4ca",
   "metadata": {},
   "source": [
    "### Обзор terminals"
   ]
  },
  {
   "cell_type": "code",
   "execution_count": 76,
   "id": "d5eafb99",
   "metadata": {},
   "outputs": [
    {
     "name": "stdout",
     "output_type": "stream",
     "text": [
      "root\n",
      " |-- TERMINAL_ID: integer (nullable = true)\n",
      " |-- x_terminal_id: double (nullable = true)\n",
      " |-- y_terminal_id: double (nullable = true)\n",
      "\n"
     ]
    }
   ],
   "source": [
    "terminals.printSchema()"
   ]
  },
  {
   "cell_type": "code",
   "execution_count": 77,
   "id": "4bf17373",
   "metadata": {},
   "outputs": [
    {
     "data": {
      "text/html": [
       "<table border='1'>\n",
       "<tr><th>TERMINAL_ID</th><th>x_terminal_id</th><th>y_terminal_id</th></tr>\n",
       "<tr><td>0</td><td>41.7022004702574</td><td>72.0324493442158</td></tr>\n",
       "<tr><td>1</td><td>0.011437481734488664</td><td>30.233257263183976</td></tr>\n",
       "<tr><td>2</td><td>14.675589081711305</td><td>9.233859476879779</td></tr>\n",
       "<tr><td>3</td><td>18.62602113776709</td><td>34.556072704304775</td></tr>\n",
       "<tr><td>4</td><td>39.67674742306699</td><td>53.88167340033569</td></tr>\n",
       "<tr><td>5</td><td>41.91945144032948</td><td>68.52195003967594</td></tr>\n",
       "<tr><td>6</td><td>20.445224973151742</td><td>87.81174363909454</td></tr>\n",
       "<tr><td>7</td><td>2.7387593197926163</td><td>67.04675101784022</td></tr>\n",
       "<tr><td>8</td><td>41.730480236712694</td><td>55.868982844575164</td></tr>\n",
       "<tr><td>9</td><td>14.038693859523377</td><td>19.81014890848788</td></tr>\n",
       "</table>\n"
      ],
      "text/plain": [
       "+-----------+--------------------+------------------+\n",
       "|TERMINAL_ID|       x_terminal_id|     y_terminal_id|\n",
       "+-----------+--------------------+------------------+\n",
       "|          0|    41.7022004702574|  72.0324493442158|\n",
       "|          1|0.011437481734488664|30.233257263183976|\n",
       "|          2|  14.675589081711305| 9.233859476879779|\n",
       "|          3|   18.62602113776709|34.556072704304775|\n",
       "|          4|   39.67674742306699| 53.88167340033569|\n",
       "|          5|   41.91945144032948| 68.52195003967594|\n",
       "|          6|  20.445224973151742| 87.81174363909454|\n",
       "|          7|  2.7387593197926163| 67.04675101784022|\n",
       "|          8|  41.730480236712694|55.868982844575164|\n",
       "|          9|  14.038693859523377| 19.81014890848788|\n",
       "+-----------+--------------------+------------------+"
      ]
     },
     "execution_count": 77,
     "metadata": {},
     "output_type": "execute_result"
    }
   ],
   "source": [
    "terminals.limit(10)"
   ]
  },
  {
   "cell_type": "markdown",
   "id": "c0e6e3ff",
   "metadata": {},
   "source": [
    "### Обзор transactions"
   ]
  },
  {
   "cell_type": "code",
   "execution_count": 78,
   "id": "c842d96a",
   "metadata": {},
   "outputs": [
    {
     "name": "stdout",
     "output_type": "stream",
     "text": [
      "root\n",
      " |-- TRANSACTION_ID: integer (nullable = true)\n",
      " |-- TX_DATETIME: string (nullable = true)\n",
      " |-- CUSTOMER_ID: integer (nullable = true)\n",
      " |-- TERMINAL_ID: integer (nullable = true)\n",
      " |-- TX_AMOUNT: double (nullable = true)\n",
      " |-- TX_TIME_SECONDS: integer (nullable = true)\n",
      " |-- TX_TIME_DAYS: integer (nullable = true)\n",
      " |-- TX_FRAUD: integer (nullable = true)\n",
      " |-- TX_FRAUD_SCENARIO: integer (nullable = true)\n",
      "\n"
     ]
    }
   ],
   "source": [
    "transactions.printSchema()"
   ]
  },
  {
   "cell_type": "code",
   "execution_count": 79,
   "id": "f59cebd3",
   "metadata": {},
   "outputs": [
    {
     "data": {
      "text/html": [
       "<table border='1'>\n",
       "<tr><th>TRANSACTION_ID</th><th>TX_DATETIME</th><th>CUSTOMER_ID</th><th>TERMINAL_ID</th><th>TX_AMOUNT</th><th>TX_TIME_SECONDS</th><th>TX_TIME_DAYS</th><th>TX_FRAUD</th><th>TX_FRAUD_SCENARIO</th></tr>\n",
       "<tr><td>0</td><td>2019-05-05 00:32:35</td><td>183</td><td>47</td><td>39.3</td><td>1955</td><td>0</td><td>0</td><td>0</td></tr>\n",
       "<tr><td>1</td><td>2019-05-05 00:43:59</td><td>382</td><td>43</td><td>15.35</td><td>2639</td><td>0</td><td>0</td><td>0</td></tr>\n",
       "<tr><td>2</td><td>2019-05-05 00:45:51</td><td>381</td><td>58</td><td>23.15</td><td>2751</td><td>0</td><td>0</td><td>0</td></tr>\n",
       "<tr><td>3</td><td>2019-05-05 00:57:25</td><td>426</td><td>50</td><td>82.58</td><td>3445</td><td>0</td><td>0</td><td>0</td></tr>\n",
       "<tr><td>4</td><td>2019-05-05 01:11:00</td><td>8</td><td>8</td><td>2.08</td><td>4260</td><td>0</td><td>0</td><td>0</td></tr>\n",
       "<tr><td>5</td><td>2019-05-05 01:26:30</td><td>408</td><td>60</td><td>23.41</td><td>5190</td><td>0</td><td>0</td><td>0</td></tr>\n",
       "<tr><td>6</td><td>2019-05-05 01:38:25</td><td>230</td><td>33</td><td>18.93</td><td>5905</td><td>0</td><td>0</td><td>0</td></tr>\n",
       "<tr><td>7</td><td>2019-05-05 01:55:28</td><td>474</td><td>18</td><td>10.67</td><td>6928</td><td>0</td><td>0</td><td>0</td></tr>\n",
       "<tr><td>8</td><td>2019-05-05 01:56:23</td><td>398</td><td>37</td><td>8.8</td><td>6983</td><td>0</td><td>0</td><td>0</td></tr>\n",
       "<tr><td>9</td><td>2019-05-05 01:56:44</td><td>55</td><td>81</td><td>35.06</td><td>7004</td><td>0</td><td>0</td><td>0</td></tr>\n",
       "</table>\n"
      ],
      "text/plain": [
       "+--------------+-------------------+-----------+-----------+---------+---------------+------------+--------+-----------------+\n",
       "|TRANSACTION_ID|        TX_DATETIME|CUSTOMER_ID|TERMINAL_ID|TX_AMOUNT|TX_TIME_SECONDS|TX_TIME_DAYS|TX_FRAUD|TX_FRAUD_SCENARIO|\n",
       "+--------------+-------------------+-----------+-----------+---------+---------------+------------+--------+-----------------+\n",
       "|             0|2019-05-05 00:32:35|        183|         47|     39.3|           1955|           0|       0|                0|\n",
       "|             1|2019-05-05 00:43:59|        382|         43|    15.35|           2639|           0|       0|                0|\n",
       "|             2|2019-05-05 00:45:51|        381|         58|    23.15|           2751|           0|       0|                0|\n",
       "|             3|2019-05-05 00:57:25|        426|         50|    82.58|           3445|           0|       0|                0|\n",
       "|             4|2019-05-05 01:11:00|          8|          8|     2.08|           4260|           0|       0|                0|\n",
       "|             5|2019-05-05 01:26:30|        408|         60|    23.41|           5190|           0|       0|                0|\n",
       "|             6|2019-05-05 01:38:25|        230|         33|    18.93|           5905|           0|       0|                0|\n",
       "|             7|2019-05-05 01:55:28|        474|         18|    10.67|           6928|           0|       0|                0|\n",
       "|             8|2019-05-05 01:56:23|        398|         37|      8.8|           6983|           0|       0|                0|\n",
       "|             9|2019-05-05 01:56:44|         55|         81|    35.06|           7004|           0|       0|                0|\n",
       "+--------------+-------------------+-----------+-----------+---------+---------------+------------+--------+-----------------+"
      ]
     },
     "execution_count": 79,
     "metadata": {},
     "output_type": "execute_result"
    }
   ],
   "source": [
    "transactions.limit(10)"
   ]
  },
  {
   "cell_type": "markdown",
   "id": "b9a73528",
   "metadata": {},
   "source": [
    "### Препроцессинг данных (предварительный). Промежуточный итог будет сохранен в HDFS"
   ]
  },
  {
   "cell_type": "code",
   "execution_count": 80,
   "id": "0c8a483f",
   "metadata": {},
   "outputs": [],
   "source": [
    "# Удаляем вспомогательные при генерации столбцы, чтобы не было ликов при обучении\n",
    "customers = customers.drop(\"available_terminals\",\"nb_terminals\")\n",
    "transactions = transactions.drop(\"TX_FRAUD_SCENARIO\")"
   ]
  },
  {
   "cell_type": "code",
   "execution_count": 81,
   "id": "870fa56c",
   "metadata": {},
   "outputs": [],
   "source": [
    "# Удаляем мусорные признаки\n",
    "transactions = transactions.drop(\"TX_TIME_SECONDS\", \"TX_TIME_DAYS\")"
   ]
  },
  {
   "cell_type": "code",
   "execution_count": 82,
   "id": "7f51403f",
   "metadata": {},
   "outputs": [],
   "source": [
    "# Сводим все в одну таблицу\n",
    "result = transactions.join(customers, transactions.CUSTOMER_ID == customers.CUSTOMER_ID, \"left\")\n",
    "result = result.join(terminals, result.TERMINAL_ID == terminals.TERMINAL_ID, \"left\")"
   ]
  },
  {
   "cell_type": "code",
   "execution_count": 83,
   "id": "5e0d33b6",
   "metadata": {},
   "outputs": [],
   "source": [
    "# Работаем с временными признаками\n",
    "result = result.withColumn('day_of_week', dayofweek(result.TX_DATETIME))\n",
    "result = result.withColumn('hour', hour(result.TX_DATETIME))\n",
    "result = result.drop(\"TX_DATETIME\")"
   ]
  },
  {
   "cell_type": "code",
   "execution_count": 84,
   "id": "a74ddab4",
   "metadata": {},
   "outputs": [],
   "source": [
    "# Удаляем потенциально полезные признаки (надо проверить), чтобы не раздувать пространство\n",
    "result = result.drop(\"TRANSACTION_ID\", \"CUSTOMER_ID\", \"TERMINAL_ID\")"
   ]
  },
  {
   "cell_type": "code",
   "execution_count": 85,
   "id": "c82ca623",
   "metadata": {},
   "outputs": [
    {
     "data": {
      "text/html": [
       "<table border='1'>\n",
       "<tr><th>TX_AMOUNT</th><th>TX_FRAUD</th><th>x_customer_id</th><th>y_customer_id</th><th>mean_amount</th><th>std_amount</th><th>mean_nb_tx_per_day</th><th>x_terminal_id</th><th>y_terminal_id</th><th>day_of_week</th><th>hour</th></tr>\n",
       "<tr><td>39.3</td><td>0</td><td>36.49118360212381</td><td>26.090449938105976</td><td>52.11717806047961</td><td>26.058589030239805</td><td>2.726959780277445</td><td>40.81368027612812</td><td>23.70269802430277</td><td>1</td><td>0</td></tr>\n",
       "<tr><td>15.35</td><td>0</td><td>42.83785131058563</td><td>92.31590211737402</td><td>14.983995953654924</td><td>7.491997976827462</td><td>3.930295554723651</td><td>42.809118987129494</td><td>96.48400471483856</td><td>1</td><td>0</td></tr>\n",
       "<tr><td>23.15</td><td>0</td><td>77.05440616163654</td><td>90.8248379234579</td><td>19.28322690278018</td><td>9.64161345139009</td><td>2.233133696676994</td><td>75.38761884612464</td><td>92.30245355464834</td><td>1</td><td>0</td></tr>\n",
       "<tr><td>82.58</td><td>0</td><td>31.019549824420313</td><td>51.54330866863324</td><td>44.51556488982905</td><td>22.257782444914525</td><td>0.9250198119187538</td><td>32.664490177209615</td><td>52.70581022576093</td><td>1</td><td>0</td></tr>\n",
       "<tr><td>2.08</td><td>0</td><td>45.615033221654855</td><td>56.84339488686485</td><td>6.785031041453738</td><td>3.392515520726869</td><td>2.4705419883035082</td><td>41.730480236712694</td><td>55.868982844575164</td><td>1</td><td>1</td></tr>\n",
       "<tr><td>23.41</td><td>0</td><td>4.276313794779885</td><td>0.036734375145786036</td><td>31.0045997919041</td><td>15.50229989595205</td><td>1.8483901185097995</td><td>1.9880133839795588</td><td>2.621098687771928</td><td>1</td><td>1</td></tr>\n",
       "<tr><td>18.93</td><td>0</td><td>65.73189166171419</td><td>51.732608351608015</td><td>51.071736290016695</td><td>25.535868145008347</td><td>3.6046486825966464</td><td>66.37946452197887</td><td>51.48891120583086</td><td>1</td><td>1</td></tr>\n",
       "<tr><td>10.67</td><td>0</td><td>71.81865260891838</td><td>80.19572403734452</td><td>7.500526851988695</td><td>3.7502634259943477</td><td>2.875515661085698</td><td>68.65009276815837</td><td>83.46256718973729</td><td>1</td><td>1</td></tr>\n",
       "<tr><td>8.8</td><td>0</td><td>37.305452930520325</td><td>19.685205466531375</td><td>14.382189245102728</td><td>7.191094622551364</td><td>2.9944240233183113</td><td>39.767683698553355</td><td>16.53541971169328</td><td>1</td><td>1</td></tr>\n",
       "<tr><td>35.06</td><td>0</td><td>62.89818435911487</td><td>87.26506554473953</td><td>30.986493307485397</td><td>15.493246653742698</td><td>3.192187335650255</td><td>61.99557183813798</td><td>82.89808995501787</td><td>1</td><td>1</td></tr>\n",
       "</table>\n"
      ],
      "text/plain": [
       "+---------+--------+------------------+--------------------+------------------+------------------+------------------+------------------+------------------+-----------+----+\n",
       "|TX_AMOUNT|TX_FRAUD|     x_customer_id|       y_customer_id|       mean_amount|        std_amount|mean_nb_tx_per_day|     x_terminal_id|     y_terminal_id|day_of_week|hour|\n",
       "+---------+--------+------------------+--------------------+------------------+------------------+------------------+------------------+------------------+-----------+----+\n",
       "|     39.3|       0| 36.49118360212381|  26.090449938105976| 52.11717806047961|26.058589030239805| 2.726959780277445| 40.81368027612812| 23.70269802430277|          1|   0|\n",
       "|    15.35|       0| 42.83785131058563|   92.31590211737402|14.983995953654924| 7.491997976827462| 3.930295554723651|42.809118987129494| 96.48400471483856|          1|   0|\n",
       "|    23.15|       0| 77.05440616163654|    90.8248379234579| 19.28322690278018|  9.64161345139009| 2.233133696676994| 75.38761884612464| 92.30245355464834|          1|   0|\n",
       "|    82.58|       0|31.019549824420313|   51.54330866863324| 44.51556488982905|22.257782444914525|0.9250198119187538|32.664490177209615| 52.70581022576093|          1|   0|\n",
       "|     2.08|       0|45.615033221654855|   56.84339488686485| 6.785031041453738| 3.392515520726869|2.4705419883035082|41.730480236712694|55.868982844575164|          1|   1|\n",
       "|    23.41|       0| 4.276313794779885|0.036734375145786036|  31.0045997919041| 15.50229989595205|1.8483901185097995|1.9880133839795588| 2.621098687771928|          1|   1|\n",
       "|    18.93|       0| 65.73189166171419|  51.732608351608015|51.071736290016695|25.535868145008347|3.6046486825966464| 66.37946452197887| 51.48891120583086|          1|   1|\n",
       "|    10.67|       0| 71.81865260891838|   80.19572403734452| 7.500526851988695|3.7502634259943477| 2.875515661085698| 68.65009276815837| 83.46256718973729|          1|   1|\n",
       "|      8.8|       0|37.305452930520325|  19.685205466531375|14.382189245102728| 7.191094622551364|2.9944240233183113|39.767683698553355| 16.53541971169328|          1|   1|\n",
       "|    35.06|       0| 62.89818435911487|   87.26506554473953|30.986493307485397|15.493246653742698| 3.192187335650255| 61.99557183813798| 82.89808995501787|          1|   1|\n",
       "+---------+--------+------------------+--------------------+------------------+------------------+------------------+------------------+------------------+-----------+----+"
      ]
     },
     "execution_count": 85,
     "metadata": {},
     "output_type": "execute_result"
    }
   ],
   "source": [
    "result.limit(10)"
   ]
  },
  {
   "cell_type": "markdown",
   "id": "003276aa",
   "metadata": {},
   "source": [
    "### Сохранение данных в формате parquet"
   ]
  },
  {
   "cell_type": "code",
   "execution_count": 89,
   "id": "b8393004",
   "metadata": {},
   "outputs": [
    {
     "name": "stdout",
     "output_type": "stream",
     "text": [
      "Deleted /user/processed_data/05_05_2019-11_05_2019/processed.parquet\r\n"
     ]
    }
   ],
   "source": [
    "# Удаление старой версии, если она есть\n",
    "#!hdfs dfs -rm -r /user/processed_data/05_05_2019-11_05_2019/processed.parquet"
   ]
  },
  {
   "cell_type": "code",
   "execution_count": 90,
   "id": "33dc6f7f",
   "metadata": {},
   "outputs": [],
   "source": [
    "result.write.parquet('/user/processed_data/05_05_2019-11_05_2019/processed.parquet')"
   ]
  },
  {
   "cell_type": "markdown",
   "id": "b57e8b38",
   "metadata": {},
   "source": [
    "### Проверка, что сохраненный spark'ом датафрейм номально открывается"
   ]
  },
  {
   "cell_type": "code",
   "execution_count": 145,
   "id": "e494176b",
   "metadata": {},
   "outputs": [
    {
     "data": {
      "text/html": [
       "<table border='1'>\n",
       "<tr><th>TX_AMOUNT</th><th>TX_FRAUD</th><th>x_customer_id</th><th>y_customer_id</th><th>mean_amount</th><th>std_amount</th><th>mean_nb_tx_per_day</th><th>x_terminal_id</th><th>y_terminal_id</th><th>day_of_week</th><th>hour</th></tr>\n",
       "<tr><td>39.3</td><td>0</td><td>36.49118360212381</td><td>26.090449938105976</td><td>52.11717806047961</td><td>26.058589030239805</td><td>2.726959780277445</td><td>40.81368027612812</td><td>23.70269802430277</td><td>1</td><td>0</td></tr>\n",
       "<tr><td>15.35</td><td>0</td><td>42.83785131058563</td><td>92.31590211737402</td><td>14.983995953654924</td><td>7.491997976827462</td><td>3.930295554723651</td><td>42.809118987129494</td><td>96.48400471483856</td><td>1</td><td>0</td></tr>\n",
       "<tr><td>23.15</td><td>0</td><td>77.05440616163654</td><td>90.8248379234579</td><td>19.28322690278018</td><td>9.64161345139009</td><td>2.233133696676994</td><td>75.38761884612464</td><td>92.30245355464834</td><td>1</td><td>0</td></tr>\n",
       "<tr><td>82.58</td><td>0</td><td>31.019549824420313</td><td>51.54330866863324</td><td>44.51556488982905</td><td>22.257782444914525</td><td>0.9250198119187538</td><td>32.664490177209615</td><td>52.70581022576093</td><td>1</td><td>0</td></tr>\n",
       "<tr><td>2.08</td><td>0</td><td>45.615033221654855</td><td>56.84339488686485</td><td>6.785031041453738</td><td>3.392515520726869</td><td>2.4705419883035082</td><td>41.730480236712694</td><td>55.868982844575164</td><td>1</td><td>1</td></tr>\n",
       "<tr><td>23.41</td><td>0</td><td>4.276313794779885</td><td>0.036734375145786036</td><td>31.0045997919041</td><td>15.50229989595205</td><td>1.8483901185097995</td><td>1.9880133839795588</td><td>2.621098687771928</td><td>1</td><td>1</td></tr>\n",
       "<tr><td>18.93</td><td>0</td><td>65.73189166171419</td><td>51.732608351608015</td><td>51.071736290016695</td><td>25.535868145008347</td><td>3.6046486825966464</td><td>66.37946452197887</td><td>51.48891120583086</td><td>1</td><td>1</td></tr>\n",
       "<tr><td>10.67</td><td>0</td><td>71.81865260891838</td><td>80.19572403734452</td><td>7.500526851988695</td><td>3.7502634259943477</td><td>2.875515661085698</td><td>68.65009276815837</td><td>83.46256718973729</td><td>1</td><td>1</td></tr>\n",
       "<tr><td>8.8</td><td>0</td><td>37.305452930520325</td><td>19.685205466531375</td><td>14.382189245102728</td><td>7.191094622551364</td><td>2.9944240233183113</td><td>39.767683698553355</td><td>16.53541971169328</td><td>1</td><td>1</td></tr>\n",
       "<tr><td>35.06</td><td>0</td><td>62.89818435911487</td><td>87.26506554473953</td><td>30.986493307485397</td><td>15.493246653742698</td><td>3.192187335650255</td><td>61.99557183813798</td><td>82.89808995501787</td><td>1</td><td>1</td></tr>\n",
       "</table>\n"
      ],
      "text/plain": [
       "+---------+--------+------------------+--------------------+------------------+------------------+------------------+------------------+------------------+-----------+----+\n",
       "|TX_AMOUNT|TX_FRAUD|     x_customer_id|       y_customer_id|       mean_amount|        std_amount|mean_nb_tx_per_day|     x_terminal_id|     y_terminal_id|day_of_week|hour|\n",
       "+---------+--------+------------------+--------------------+------------------+------------------+------------------+------------------+------------------+-----------+----+\n",
       "|     39.3|       0| 36.49118360212381|  26.090449938105976| 52.11717806047961|26.058589030239805| 2.726959780277445| 40.81368027612812| 23.70269802430277|          1|   0|\n",
       "|    15.35|       0| 42.83785131058563|   92.31590211737402|14.983995953654924| 7.491997976827462| 3.930295554723651|42.809118987129494| 96.48400471483856|          1|   0|\n",
       "|    23.15|       0| 77.05440616163654|    90.8248379234579| 19.28322690278018|  9.64161345139009| 2.233133696676994| 75.38761884612464| 92.30245355464834|          1|   0|\n",
       "|    82.58|       0|31.019549824420313|   51.54330866863324| 44.51556488982905|22.257782444914525|0.9250198119187538|32.664490177209615| 52.70581022576093|          1|   0|\n",
       "|     2.08|       0|45.615033221654855|   56.84339488686485| 6.785031041453738| 3.392515520726869|2.4705419883035082|41.730480236712694|55.868982844575164|          1|   1|\n",
       "|    23.41|       0| 4.276313794779885|0.036734375145786036|  31.0045997919041| 15.50229989595205|1.8483901185097995|1.9880133839795588| 2.621098687771928|          1|   1|\n",
       "|    18.93|       0| 65.73189166171419|  51.732608351608015|51.071736290016695|25.535868145008347|3.6046486825966464| 66.37946452197887| 51.48891120583086|          1|   1|\n",
       "|    10.67|       0| 71.81865260891838|   80.19572403734452| 7.500526851988695|3.7502634259943477| 2.875515661085698| 68.65009276815837| 83.46256718973729|          1|   1|\n",
       "|      8.8|       0|37.305452930520325|  19.685205466531375|14.382189245102728| 7.191094622551364|2.9944240233183113|39.767683698553355| 16.53541971169328|          1|   1|\n",
       "|    35.06|       0| 62.89818435911487|   87.26506554473953|30.986493307485397|15.493246653742698| 3.192187335650255| 61.99557183813798| 82.89808995501787|          1|   1|\n",
       "+---------+--------+------------------+--------------------+------------------+------------------+------------------+------------------+------------------+-----------+----+"
      ]
     },
     "execution_count": 145,
     "metadata": {},
     "output_type": "execute_result"
    }
   ],
   "source": [
    "data_processed = spark.read.parquet('/user/processed_data/05_05_2019-11_05_2019/processed.parquet')\n",
    "data_processed.limit(10)"
   ]
  },
  {
   "cell_type": "markdown",
   "id": "31e63647",
   "metadata": {},
   "source": [
    "### Препроцессинг данных (итоговый). Будет совмещен с шагом обучения. Этот артифакт необходимо сохранять."
   ]
  },
  {
   "cell_type": "code",
   "execution_count": 146,
   "id": "1636325f",
   "metadata": {},
   "outputs": [],
   "source": [
    "train_data, valid_data = data_processed.randomSplit([0.8, 0.2], seed=26)"
   ]
  },
  {
   "cell_type": "code",
   "execution_count": 147,
   "id": "ccd96eaf",
   "metadata": {},
   "outputs": [],
   "source": [
    "columns_to_scale = [\"TX_AMOUNT\", \"x_customer_id\", \"y_customer_id\", \"mean_amount\", \"std_amount\", \"mean_nb_tx_per_day\",\n",
    "                   \"x_terminal_id\", \"y_terminal_id\"]\n",
    "\n",
    "assemblers = [VectorAssembler(inputCols=[col], outputCol=col + \"_vec\") for col in columns_to_scale]\n",
    "scalers = [MinMaxScaler(inputCol=col + \"_vec\", outputCol=col + \"_scaled\") for col in columns_to_scale]\n",
    "stages = assemblers + scalers"
   ]
  },
  {
   "cell_type": "code",
   "execution_count": 148,
   "id": "5c8dcd71",
   "metadata": {},
   "outputs": [],
   "source": [
    "# one-hot преобразование hour\n",
    "stages.append(OneHotEncoder(inputCol=\"hour\", outputCol=\"hour_encoded\"))\n",
    "\n",
    "# one-hot преобразование day_of_week\n",
    "stages.append(OneHotEncoder(inputCol=\"day_of_week\", outputCol=\"day_of_week_encoded\"))\n",
    "\n",
    "# Собираем все признаки вместе\n",
    "stages.append(VectorAssembler(inputCols=[\n",
    "    \"hour_encoded\",\n",
    "    \"day_of_week_encoded\",\n",
    "    \"TX_AMOUNT_scaled\",\n",
    "    \"x_customer_id_scaled\",\n",
    "    \"y_customer_id_scaled\",\n",
    "    \"mean_amount_scaled\",\n",
    "    \"std_amount_scaled\",\n",
    "    \"mean_nb_tx_per_day_scaled\",\n",
    "    \"x_terminal_id_scaled\",\n",
    "    \"y_terminal_id_scaled\"\n",
    "    ],\n",
    "    outputCol=\"Features\",\n",
    "))\n",
    "\n",
    "stages.append(LogisticRegression(featuresCol='Features', labelCol='TX_FRAUD'))\n",
    "\n",
    "pipeline = Pipeline(stages=stages)\n",
    "\n",
    "scalerModel = pipeline.fit(train_data)\n",
    "valid_data = scalerModel.transform(valid_data)"
   ]
  },
  {
   "cell_type": "code",
   "execution_count": 150,
   "id": "9b5c219b",
   "metadata": {},
   "outputs": [
    {
     "data": {
      "text/html": [
       "<table border='1'>\n",
       "<tr><th>TX_AMOUNT</th><th>TX_FRAUD</th><th>x_customer_id</th><th>y_customer_id</th><th>mean_amount</th><th>std_amount</th><th>mean_nb_tx_per_day</th><th>x_terminal_id</th><th>y_terminal_id</th><th>day_of_week</th><th>hour</th><th>TX_AMOUNT_vec</th><th>x_customer_id_vec</th><th>y_customer_id_vec</th><th>mean_amount_vec</th><th>std_amount_vec</th><th>mean_nb_tx_per_day_vec</th><th>x_terminal_id_vec</th><th>y_terminal_id_vec</th><th>TX_AMOUNT_scaled</th><th>x_customer_id_scaled</th><th>y_customer_id_scaled</th><th>mean_amount_scaled</th><th>std_amount_scaled</th><th>mean_nb_tx_per_day_scaled</th><th>x_terminal_id_scaled</th><th>y_terminal_id_scaled</th><th>hour_encoded</th><th>day_of_week_encoded</th><th>Features</th><th>rawPrediction</th><th>probability</th><th>prediction</th></tr>\n",
       "<tr><td>0.05</td><td>0</td><td>69.77284017849593</td><td>97.03753278372166</td><td>21.651174358493567</td><td>10.825587179246783</td><td>0.8078657136968128</td><td>69.0896917516924</td><td>99.73228504514805</td><td>3</td><td>13</td><td>[0.05]</td><td>[69.77284017849593]</td><td>[97.03753278372166]</td><td>[21.651174358493567]</td><td>[10.825587179246783]</td><td>[0.8078657136968128]</td><td>[69.0896917516924]</td><td>[99.73228504514805]</td><td>[4.35394685282208...</td><td>[0.7074728432802446]</td><td>[0.9714849688071363]</td><td>[0.1747608334150926]</td><td>[0.1747608334150926]</td><td>[0.1983454853821229]</td><td>[0.697802268630947]</td><td>[1.0]</td><td>(23,[13],[1.0])</td><td>(7,[3],[1.0])</td><td>(38,[13,26,30,31,...</td><td>[4.38175585227650...</td><td>[0.98765101883058...</td><td>0.0</td></tr>\n",
       "<tr><td>0.92</td><td>0</td><td>85.90026396580586</td><td>15.202722720956952</td><td>5.063100766069427</td><td>2.5315503830347135</td><td>3.7666711815590257</td><td>90.34019152878835</td><td>13.747470414623752</td><td>1</td><td>15</td><td>[0.92]</td><td>[85.90026396580586]</td><td>[15.202722720956952]</td><td>[5.063100766069427]</td><td>[2.5315503830347135]</td><td>[3.7666711815590257]</td><td>[90.34019152878835]</td><td>[13.747470414623752]</td><td>[0.00130618405584...</td><td>[0.8716354457350997]</td><td>[0.15189080870242...</td><td>[0.0]</td><td>[0.0]</td><td>[0.9420759992203321]</td><td>[0.913326598054459]</td><td>[0.12685106267845...</td><td>(23,[15],[1.0])</td><td>(7,[1],[1.0])</td><td>(38,[15,24,30,31,...</td><td>[5.57276449811888...</td><td>[0.99621442412645...</td><td>0.0</td></tr>\n",
       "<tr><td>1.6</td><td>0</td><td>85.90026396580586</td><td>15.202722720956952</td><td>5.063100766069427</td><td>2.5315503830347135</td><td>3.7666711815590257</td><td>90.34019152878835</td><td>13.747470414623752</td><td>5</td><td>8</td><td>[1.6]</td><td>[85.90026396580586]</td><td>[15.202722720956952]</td><td>[5.063100766069427]</td><td>[2.5315503830347135]</td><td>[3.7666711815590257]</td><td>[90.34019152878835]</td><td>[13.747470414623752]</td><td>[0.00229307867581...</td><td>[0.8716354457350997]</td><td>[0.15189080870242...</td><td>[0.0]</td><td>[0.0]</td><td>[0.9420759992203321]</td><td>[0.913326598054459]</td><td>[0.12685106267845...</td><td>(23,[8],[1.0])</td><td>(7,[5],[1.0])</td><td>(38,[8,28,30,31,3...</td><td>[3.77245148088268...</td><td>[0.97752129106014...</td><td>0.0</td></tr>\n",
       "<tr><td>1.96</td><td>0</td><td>5.68480764332403</td><td>69.69972417249873</td><td>78.97606261440482</td><td>39.48803130720241</td><td>3.1096302473950126</td><td>1.9366957870297075</td><td>67.8835532939891</td><td>4</td><td>11</td><td>[1.96]</td><td>[5.68480764332403]</td><td>[69.69972417249873]</td><td>[78.97606261440482]</td><td>[39.48803130720241]</td><td>[3.1096302473950126]</td><td>[1.9366957870297075]</td><td>[67.8835532939891]</td><td>[0.00281555229815...</td><td>[0.05511457788489...</td><td>[0.6976906229702742]</td><td>[0.7786974624161508]</td><td>[0.7786974624161508]</td><td>[0.7769210416246898]</td><td>[0.01673101967787...</td><td>[0.6765860762384962]</td><td>(23,[11],[1.0])</td><td>(7,[4],[1.0])</td><td>(38,[11,27,30,31,...</td><td>[1.60652929160586...</td><td>[0.83292896645340...</td><td>0.0</td></tr>\n",
       "<tr><td>2.13</td><td>0</td><td>14.038395779934687</td><td>22.73624490775018</td><td>11.540936626870526</td><td>5.770468313435263</td><td>2.8228401759584307</td><td>14.038693859523377</td><td>19.81014890848788</td><td>3</td><td>6</td><td>[2.13]</td><td>[14.038395779934687]</td><td>[22.73624490775018]</td><td>[11.540936626870526]</td><td>[5.770468313435263]</td><td>[2.8228401759584307]</td><td>[14.038693859523377]</td><td>[19.81014890848788]</td><td>[0.00306227595315...</td><td>[0.14014655735213...</td><td>[0.2273407399062686]</td><td>[0.0682461400627495]</td><td>[0.0682461400627495]</td><td>[0.7048329880131982]</td><td>[0.13947048682537...</td><td>[0.18841566925446...</td><td>(23,[6],[1.0])</td><td>(7,[3],[1.0])</td><td>(38,[6,26,30,31,3...</td><td>[1.90532196516836...</td><td>[0.87049268220898...</td><td>0.0</td></tr>\n",
       "<tr><td>2.25</td><td>0</td><td>8.379135291008454</td><td>51.61237007410931</td><td>25.886773780952662</td><td>12.943386890476331</td><td>1.097182815371006</td><td>7.002214371922233</td><td>48.63451109370318</td><td>2</td><td>16</td><td>[2.25]</td><td>[8.379135291008454]</td><td>[51.61237007410931]</td><td>[25.886773780952662]</td><td>[12.943386890476331]</td><td>[1.097182815371006]</td><td>[7.002214371922233]</td><td>[48.63451109370318]</td><td>[0.00323643382726...</td><td>[0.08254039891763...</td><td>[0.5165416745042586]</td><td>[0.21938427211381...</td><td>[0.21938427211381...</td><td>[0.27106873773091...</td><td>[0.06810592886320...</td><td>[0.4811180646615925]</td><td>(23,[16],[1.0])</td><td>(7,[2],[1.0])</td><td>(38,[16,25,30,31,...</td><td>[2.09444467172924...</td><td>[0.89036205660618...</td><td>0.0</td></tr>\n",
       "<tr><td>2.28</td><td>0</td><td>85.90026396580586</td><td>15.202722720956952</td><td>5.063100766069427</td><td>2.5315503830347135</td><td>3.7666711815590257</td><td>90.34019152878835</td><td>13.747470414623752</td><td>5</td><td>6</td><td>[2.28]</td><td>[85.90026396580586]</td><td>[15.202722720956952]</td><td>[5.063100766069427]</td><td>[2.5315503830347135]</td><td>[3.7666711815590257]</td><td>[90.34019152878835]</td><td>[13.747470414623752]</td><td>[0.00327997329579...</td><td>[0.8716354457350997]</td><td>[0.15189080870242...</td><td>[0.0]</td><td>[0.0]</td><td>[0.9420759992203321]</td><td>[0.913326598054459]</td><td>[0.12685106267845...</td><td>(23,[6],[1.0])</td><td>(7,[5],[1.0])</td><td>(38,[6,28,30,31,3...</td><td>[2.94040768736527...</td><td>[0.94980816589657...</td><td>0.0</td></tr>\n",
       "<tr><td>2.83</td><td>0</td><td>77.05440616163654</td><td>90.8248379234579</td><td>19.28322690278018</td><td>9.64161345139009</td><td>2.233133696676994</td><td>75.38761884612464</td><td>92.30245355464834</td><td>5</td><td>19</td><td>[2.83]</td><td>[77.05440616163654]</td><td>[90.8248379234579]</td><td>[19.28322690278018]</td><td>[9.64161345139009]</td><td>[2.233133696676994]</td><td>[75.38761884612464]</td><td>[92.30245355464834]</td><td>[0.00407819688547...</td><td>[0.7815926058352345]</td><td>[0.909263422473988]</td><td>[0.14981372496769...</td><td>[0.14981372496769...</td><td>[0.5566033366848235]</td><td>[0.7616763670297363]</td><td>[0.9245523817399148]</td><td>(23,[19],[1.0])</td><td>(7,[5],[1.0])</td><td>(38,[19,28,30,31,...</td><td>[3.73110351263206...</td><td>[0.97659456926518...</td><td>0.0</td></tr>\n",
       "<tr><td>2.88</td><td>0</td><td>61.434629997963086</td><td>22.149017880295773</td><td>9.203937274950611</td><td>4.601968637475306</td><td>1.7250313873675927</td><td>56.81004619199421</td><td>20.329323466099048</td><td>1</td><td>7</td><td>[2.88]</td><td>[61.434629997963086]</td><td>[22.149017880295773]</td><td>[9.203937274950611]</td><td>[4.601968637475306]</td><td>[1.7250313873675927]</td><td>[56.81004619199421]</td><td>[20.329323466099048]</td><td>[0.00415076266635...</td><td>[0.622597397511348]</td><td>[0.2214595282068934]</td><td>[0.04362508010925...</td><td>[0.04362508010925...</td><td>[0.42888585214938...</td><td>[0.5732610859494527]</td><td>[0.19368772473554...</td><td>(23,[7],[1.0])</td><td>(7,[1],[1.0])</td><td>(38,[7,24,30,31,3...</td><td>[4.29806393172957...</td><td>[0.98658748704185...</td><td>0.0</td></tr>\n",
       "<tr><td>3.08</td><td>0</td><td>67.15276967657582</td><td>84.29732964010842</td><td>6.544014924350119</td><td>3.2720074621750594</td><td>2.5712135012340482</td><td>68.65009276815837</td><td>83.46256718973729</td><td>6</td><td>5</td><td>[3.08]</td><td>[67.15276967657582]</td><td>[84.29732964010842]</td><td>[6.544014924350119]</td><td>[3.2720074621750594]</td><td>[2.5712135012340482]</td><td>[68.65009276815837]</td><td>[83.46256718973729]</td><td>[0.00444102578987...</td><td>[0.6808028928974161]</td><td>[0.8438889483966956]</td><td>[0.01560191972113...</td><td>[0.01560191972113...</td><td>[0.6415836672582996]</td><td>[0.693343819317508]</td><td>[0.834786096626296]</td><td>(23,[5],[1.0])</td><td>(7,[6],[1.0])</td><td>(38,[5,29,30,31,3...</td><td>[3.21077394782330...</td><td>[0.96123771295564...</td><td>0.0</td></tr>\n",
       "</table>\n"
      ],
      "text/plain": [
       "+---------+--------+------------------+------------------+------------------+------------------+------------------+------------------+------------------+-----------+----+-------------+--------------------+--------------------+--------------------+--------------------+----------------------+--------------------+--------------------+--------------------+--------------------+--------------------+--------------------+--------------------+-------------------------+--------------------+--------------------+---------------+-------------------+--------------------+--------------------+--------------------+----------+\n",
       "|TX_AMOUNT|TX_FRAUD|     x_customer_id|     y_customer_id|       mean_amount|        std_amount|mean_nb_tx_per_day|     x_terminal_id|     y_terminal_id|day_of_week|hour|TX_AMOUNT_vec|   x_customer_id_vec|   y_customer_id_vec|     mean_amount_vec|      std_amount_vec|mean_nb_tx_per_day_vec|   x_terminal_id_vec|   y_terminal_id_vec|    TX_AMOUNT_scaled|x_customer_id_scaled|y_customer_id_scaled|  mean_amount_scaled|   std_amount_scaled|mean_nb_tx_per_day_scaled|x_terminal_id_scaled|y_terminal_id_scaled|   hour_encoded|day_of_week_encoded|            Features|       rawPrediction|         probability|prediction|\n",
       "+---------+--------+------------------+------------------+------------------+------------------+------------------+------------------+------------------+-----------+----+-------------+--------------------+--------------------+--------------------+--------------------+----------------------+--------------------+--------------------+--------------------+--------------------+--------------------+--------------------+--------------------+-------------------------+--------------------+--------------------+---------------+-------------------+--------------------+--------------------+--------------------+----------+\n",
       "|     0.05|       0| 69.77284017849593| 97.03753278372166|21.651174358493567|10.825587179246783|0.8078657136968128|  69.0896917516924| 99.73228504514805|          3|  13|       [0.05]| [69.77284017849593]| [97.03753278372166]|[21.651174358493567]|[10.825587179246783]|  [0.8078657136968128]|  [69.0896917516924]| [99.73228504514805]|[4.35394685282208...|[0.7074728432802446]|[0.9714849688071363]|[0.1747608334150926]|[0.1747608334150926]|     [0.1983454853821229]| [0.697802268630947]|               [1.0]|(23,[13],[1.0])|      (7,[3],[1.0])|(38,[13,26,30,31,...|[4.38175585227650...|[0.98765101883058...|       0.0|\n",
       "|     0.92|       0| 85.90026396580586|15.202722720956952| 5.063100766069427|2.5315503830347135|3.7666711815590257| 90.34019152878835|13.747470414623752|          1|  15|       [0.92]| [85.90026396580586]|[15.202722720956952]| [5.063100766069427]|[2.5315503830347135]|  [3.7666711815590257]| [90.34019152878835]|[13.747470414623752]|[0.00130618405584...|[0.8716354457350997]|[0.15189080870242...|               [0.0]|               [0.0]|     [0.9420759992203321]| [0.913326598054459]|[0.12685106267845...|(23,[15],[1.0])|      (7,[1],[1.0])|(38,[15,24,30,31,...|[5.57276449811888...|[0.99621442412645...|       0.0|\n",
       "|      1.6|       0| 85.90026396580586|15.202722720956952| 5.063100766069427|2.5315503830347135|3.7666711815590257| 90.34019152878835|13.747470414623752|          5|   8|        [1.6]| [85.90026396580586]|[15.202722720956952]| [5.063100766069427]|[2.5315503830347135]|  [3.7666711815590257]| [90.34019152878835]|[13.747470414623752]|[0.00229307867581...|[0.8716354457350997]|[0.15189080870242...|               [0.0]|               [0.0]|     [0.9420759992203321]| [0.913326598054459]|[0.12685106267845...| (23,[8],[1.0])|      (7,[5],[1.0])|(38,[8,28,30,31,3...|[3.77245148088268...|[0.97752129106014...|       0.0|\n",
       "|     1.96|       0|  5.68480764332403| 69.69972417249873| 78.97606261440482| 39.48803130720241|3.1096302473950126|1.9366957870297075|  67.8835532939891|          4|  11|       [1.96]|  [5.68480764332403]| [69.69972417249873]| [78.97606261440482]| [39.48803130720241]|  [3.1096302473950126]|[1.9366957870297075]|  [67.8835532939891]|[0.00281555229815...|[0.05511457788489...|[0.6976906229702742]|[0.7786974624161508]|[0.7786974624161508]|     [0.7769210416246898]|[0.01673101967787...|[0.6765860762384962]|(23,[11],[1.0])|      (7,[4],[1.0])|(38,[11,27,30,31,...|[1.60652929160586...|[0.83292896645340...|       0.0|\n",
       "|     2.13|       0|14.038395779934687| 22.73624490775018|11.540936626870526| 5.770468313435263|2.8228401759584307|14.038693859523377| 19.81014890848788|          3|   6|       [2.13]|[14.038395779934687]| [22.73624490775018]|[11.540936626870526]| [5.770468313435263]|  [2.8228401759584307]|[14.038693859523377]| [19.81014890848788]|[0.00306227595315...|[0.14014655735213...|[0.2273407399062686]|[0.0682461400627495]|[0.0682461400627495]|     [0.7048329880131982]|[0.13947048682537...|[0.18841566925446...| (23,[6],[1.0])|      (7,[3],[1.0])|(38,[6,26,30,31,3...|[1.90532196516836...|[0.87049268220898...|       0.0|\n",
       "|     2.25|       0| 8.379135291008454| 51.61237007410931|25.886773780952662|12.943386890476331| 1.097182815371006| 7.002214371922233| 48.63451109370318|          2|  16|       [2.25]| [8.379135291008454]| [51.61237007410931]|[25.886773780952662]|[12.943386890476331]|   [1.097182815371006]| [7.002214371922233]| [48.63451109370318]|[0.00323643382726...|[0.08254039891763...|[0.5165416745042586]|[0.21938427211381...|[0.21938427211381...|     [0.27106873773091...|[0.06810592886320...|[0.4811180646615925]|(23,[16],[1.0])|      (7,[2],[1.0])|(38,[16,25,30,31,...|[2.09444467172924...|[0.89036205660618...|       0.0|\n",
       "|     2.28|       0| 85.90026396580586|15.202722720956952| 5.063100766069427|2.5315503830347135|3.7666711815590257| 90.34019152878835|13.747470414623752|          5|   6|       [2.28]| [85.90026396580586]|[15.202722720956952]| [5.063100766069427]|[2.5315503830347135]|  [3.7666711815590257]| [90.34019152878835]|[13.747470414623752]|[0.00327997329579...|[0.8716354457350997]|[0.15189080870242...|               [0.0]|               [0.0]|     [0.9420759992203321]| [0.913326598054459]|[0.12685106267845...| (23,[6],[1.0])|      (7,[5],[1.0])|(38,[6,28,30,31,3...|[2.94040768736527...|[0.94980816589657...|       0.0|\n",
       "|     2.83|       0| 77.05440616163654|  90.8248379234579| 19.28322690278018|  9.64161345139009| 2.233133696676994| 75.38761884612464| 92.30245355464834|          5|  19|       [2.83]| [77.05440616163654]|  [90.8248379234579]| [19.28322690278018]|  [9.64161345139009]|   [2.233133696676994]| [75.38761884612464]| [92.30245355464834]|[0.00407819688547...|[0.7815926058352345]| [0.909263422473988]|[0.14981372496769...|[0.14981372496769...|     [0.5566033366848235]|[0.7616763670297363]|[0.9245523817399148]|(23,[19],[1.0])|      (7,[5],[1.0])|(38,[19,28,30,31,...|[3.73110351263206...|[0.97659456926518...|       0.0|\n",
       "|     2.88|       0|61.434629997963086|22.149017880295773| 9.203937274950611| 4.601968637475306|1.7250313873675927| 56.81004619199421|20.329323466099048|          1|   7|       [2.88]|[61.434629997963086]|[22.149017880295773]| [9.203937274950611]| [4.601968637475306]|  [1.7250313873675927]| [56.81004619199421]|[20.329323466099048]|[0.00415076266635...| [0.622597397511348]|[0.2214595282068934]|[0.04362508010925...|[0.04362508010925...|     [0.42888585214938...|[0.5732610859494527]|[0.19368772473554...| (23,[7],[1.0])|      (7,[1],[1.0])|(38,[7,24,30,31,3...|[4.29806393172957...|[0.98658748704185...|       0.0|\n",
       "|     3.08|       0| 67.15276967657582| 84.29732964010842| 6.544014924350119|3.2720074621750594|2.5712135012340482| 68.65009276815837| 83.46256718973729|          6|   5|       [3.08]| [67.15276967657582]| [84.29732964010842]| [6.544014924350119]|[3.2720074621750594]|  [2.5712135012340482]| [68.65009276815837]| [83.46256718973729]|[0.00444102578987...|[0.6808028928974161]|[0.8438889483966956]|[0.01560191972113...|[0.01560191972113...|     [0.6415836672582996]| [0.693343819317508]| [0.834786096626296]| (23,[5],[1.0])|      (7,[6],[1.0])|(38,[5,29,30,31,3...|[3.21077394782330...|[0.96123771295564...|       0.0|\n",
       "+---------+--------+------------------+------------------+------------------+------------------+------------------+------------------+------------------+-----------+----+-------------+--------------------+--------------------+--------------------+--------------------+----------------------+--------------------+--------------------+--------------------+--------------------+--------------------+--------------------+--------------------+-------------------------+--------------------+--------------------+---------------+-------------------+--------------------+--------------------+--------------------+----------+"
      ]
     },
     "execution_count": 150,
     "metadata": {},
     "output_type": "execute_result"
    }
   ],
   "source": [
    "valid_data.limit(10)"
   ]
  },
  {
   "cell_type": "code",
   "execution_count": 155,
   "id": "1c14c515",
   "metadata": {},
   "outputs": [
    {
     "data": {
      "text/plain": [
       "0.5235590778097983"
      ]
     },
     "execution_count": 155,
     "metadata": {},
     "output_type": "execute_result"
    }
   ],
   "source": [
    "evaluator = BinaryClassificationEvaluator(labelCol=\"TX_FRAUD\", rawPredictionCol=\"prediction\", metricName='areaUnderROC')\n",
    "valid_roc = evaluator.evaluate(valid_data)\n",
    "valid_roc"
   ]
  },
  {
   "cell_type": "code",
   "execution_count": 156,
   "id": "1bbb8338",
   "metadata": {},
   "outputs": [
    {
     "data": {
      "text/plain": [
       "0.5207199387838426"
      ]
     },
     "execution_count": 156,
     "metadata": {},
     "output_type": "execute_result"
    }
   ],
   "source": [
    "train_data = scalerModel.transform(train_data)\n",
    "train_roc = evaluator.evaluate(train_data)\n",
    "train_roc"
   ]
  }
 ],
 "metadata": {
  "kernelspec": {
   "display_name": "Python 3",
   "language": "python",
   "name": "python3"
  },
  "language_info": {
   "codemirror_mode": {
    "name": "ipython",
    "version": 3
   },
   "file_extension": ".py",
   "mimetype": "text/x-python",
   "name": "python",
   "nbconvert_exporter": "python",
   "pygments_lexer": "ipython3",
   "version": "3.8.10"
  }
 },
 "nbformat": 4,
 "nbformat_minor": 5
}
