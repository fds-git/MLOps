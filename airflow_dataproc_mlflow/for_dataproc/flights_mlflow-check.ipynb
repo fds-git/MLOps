{
 "cells": [
  {
   "cell_type": "markdown",
   "id": "66db7b32",
   "metadata": {},
   "source": [
    "## Проверка загруженной модели"
   ]
  },
  {
   "cell_type": "code",
   "execution_count": 29,
   "id": "7908caf4",
   "metadata": {},
   "outputs": [
    {
     "name": "stdout",
     "output_type": "stream",
     "text": [
      "total 120\r\n",
      "drwxrwxr-x 4 ubuntu ubuntu  4096 Dec 20 06:31 .\r\n",
      "drwxrwxr-x 3 ubuntu ubuntu  4096 Dec 20 06:07 ..\r\n",
      "drwxr-xr-x 3 ubuntu ubuntu  4096 Dec 20 06:22 Dima_flights_LR_only2\r\n",
      "-rw-rw-r-- 1 ubuntu ubuntu  2765 Dec 20 06:07 flights_LR_only_solution.py\r\n",
      "-rw-rw-r-- 1 ubuntu ubuntu   183 Dec 20 06:07 flights_LR_only_solution.sh\r\n",
      "-rw-rw-r-- 1 ubuntu ubuntu 18454 Dec 20 06:31 flights_mlflow-check.ipynb\r\n",
      "-rw-rw-r-- 1 ubuntu ubuntu  3934 Dec 20 06:21 flights_pipeline_solution.py\r\n",
      "-rw-rw-r-- 1 ubuntu ubuntu   180 Dec 20 06:07 flights_pipeline_solution.sh\r\n",
      "-rw-rw-r-- 1 ubuntu ubuntu  5782 Dec 20 06:07 flights_pipe_withHP_solution.py\r\n",
      "-rw-rw-r-- 1 ubuntu ubuntu   189 Dec 20 06:07 flights_pipe_withHP_solution.sh\r\n",
      "drwxrwxr-x 2 ubuntu ubuntu  4096 Dec 20 06:11 .ipynb_checkpoints\r\n",
      "-rw-rw-r-- 1 ubuntu ubuntu 49342 Dec 20 06:07 mlflow-spark-1.27.0.jar\r\n",
      "-rw-rw-r-- 1 ubuntu ubuntu   363 Dec 20 06:12 mlflow_test.py\r\n"
     ]
    }
   ],
   "source": [
    "!ls -la"
   ]
  },
  {
   "cell_type": "code",
   "execution_count": 8,
   "id": "e36abad3",
   "metadata": {},
   "outputs": [],
   "source": [
    "APP_NAME='Flights_Spark_TrainValidationSplit'"
   ]
  },
  {
   "cell_type": "code",
   "execution_count": 9,
   "id": "7854d0fc",
   "metadata": {},
   "outputs": [],
   "source": [
    "S3_DATA='s3a://mlflowbucket/flights_larger.csv'"
   ]
  },
  {
   "cell_type": "markdown",
   "id": "f68af937",
   "metadata": {},
   "source": [
    "### Используйте свой путь до директории с моделью"
   ]
  },
  {
   "cell_type": "code",
   "execution_count": 28,
   "id": "7bca4aad",
   "metadata": {},
   "outputs": [],
   "source": [
    "# Модель лежит локально (если в HDFS не найдет, то будет искать локально)\n",
    "# saved_model_path = 'Dima_flights_LR_only2'\n",
    "\n",
    "# Модель лежит в S3\n",
    "saved_model_path = 's3://mlflowbucket/artifacts/1/57428478da124244879f81c3ebaacf78/artifacts/Dima_flights_LR_only2'"
   ]
  },
  {
   "cell_type": "code",
   "execution_count": 29,
   "id": "8ea8bb6d",
   "metadata": {},
   "outputs": [
    {
     "name": "stdout",
     "output_type": "stream",
     "text": [
      "Defaulting to user installation because normal site-packages is not writeable\n",
      "Requirement already satisfied: findspark in /home/ubuntu/.local/lib/python3.8/site-packages (2.0.1)\n"
     ]
    }
   ],
   "source": [
    "! pip install findspark"
   ]
  },
  {
   "cell_type": "code",
   "execution_count": 30,
   "id": "f3fa08c3",
   "metadata": {},
   "outputs": [
    {
     "data": {
      "text/plain": [
       "'/usr/lib/spark'"
      ]
     },
     "execution_count": 30,
     "metadata": {},
     "output_type": "execute_result"
    }
   ],
   "source": [
    "import findspark\n",
    "findspark.init()\n",
    "findspark.find()"
   ]
  },
  {
   "cell_type": "code",
   "execution_count": 31,
   "id": "3cf349d8",
   "metadata": {},
   "outputs": [],
   "source": [
    "from pyspark.ml.feature import VectorAssembler\n",
    "from pyspark.ml.evaluation import RegressionEvaluator\n",
    "from pyspark.sql import SparkSession"
   ]
  },
  {
   "cell_type": "code",
   "execution_count": 32,
   "id": "a742d416",
   "metadata": {},
   "outputs": [],
   "source": [
    "#! pip install mlflow"
   ]
  },
  {
   "cell_type": "code",
   "execution_count": 33,
   "id": "648d3107",
   "metadata": {},
   "outputs": [],
   "source": [
    "import mlflow"
   ]
  },
  {
   "cell_type": "code",
   "execution_count": 34,
   "id": "077e6ab1",
   "metadata": {},
   "outputs": [],
   "source": [
    "from datetime import datetime"
   ]
  },
  {
   "cell_type": "code",
   "execution_count": 10,
   "id": "5904d87e",
   "metadata": {},
   "outputs": [
    {
     "name": "stdout",
     "output_type": "stream",
     "text": [
      "credentials\r\n"
     ]
    }
   ],
   "source": [
    "!ls $HOME/.aws"
   ]
  },
  {
   "cell_type": "code",
   "execution_count": 35,
   "id": "2ce6ac41",
   "metadata": {},
   "outputs": [],
   "source": [
    "spark = SparkSession\\\n",
    "    .builder\\\n",
    "    .appName(APP_NAME)\\\n",
    "    .config(\"spark.jars\", \"mlflow-spark-1.27.0.jar\")\\\n",
    "    .getOrCreate()"
   ]
  },
  {
   "cell_type": "code",
   "execution_count": 11,
   "id": "511bd9a0",
   "metadata": {},
   "outputs": [],
   "source": [
    "# spark.stop()"
   ]
  },
  {
   "cell_type": "code",
   "execution_count": 36,
   "id": "ad7505ac",
   "metadata": {},
   "outputs": [],
   "source": [
    "data = (spark.read.format('csv')\n",
    "        .options(header='true', inferSchema='true')\n",
    "        .load(S3_DATA))"
   ]
  },
  {
   "cell_type": "code",
   "execution_count": 37,
   "id": "29577b48",
   "metadata": {},
   "outputs": [],
   "source": [
    "assembler = VectorAssembler(inputCols=[\"mile\"], outputCol=\"features\")\n",
    "out_data = assembler.transform(data)"
   ]
  },
  {
   "cell_type": "code",
   "execution_count": 38,
   "id": "5ee09bf3",
   "metadata": {},
   "outputs": [
    {
     "name": "stdout",
     "output_type": "stream",
     "text": [
      "+---+---+---+-------+------+---+----+------+--------+-----+--------+\n",
      "|mon|dom|dow|carrier|flight|org|mile|depart|duration|delay|features|\n",
      "+---+---+---+-------+------+---+----+------+--------+-----+--------+\n",
      "| 10| 10|  1|     OO|  5836|ORD| 157|  8.18|      51|   27| [157.0]|\n",
      "|  1|  4|  1|     OO|  5866|ORD| 466|  15.5|     102|   NA| [466.0]|\n",
      "| 11| 22|  1|     OO|  6016|ORD| 738|  7.17|     127|  -19| [738.0]|\n",
      "|  2| 14|  5|     B6|   199|JFK|2248| 21.17|     365|   60|[2248.0]|\n",
      "|  5| 25|  3|     WN|  1675|SJC| 386| 12.92|      85|   22| [386.0]|\n",
      "|  3| 28|  1|     B6|   377|LGA|1076| 13.33|     182|   70|[1076.0]|\n",
      "|  5| 28|  6|     B6|   904|ORD| 740|  9.58|     130|   47| [740.0]|\n",
      "|  1| 19|  2|     UA|   820|SFO| 679| 12.75|     123|  135| [679.0]|\n",
      "|  8|  5|  5|     US|  2175|LGA| 214|  13.0|      71|  -10| [214.0]|\n",
      "|  5| 27|  5|     AA|  1240|ORD|1197| 14.42|     195|  -11|[1197.0]|\n",
      "|  8| 20|  6|     B6|   119|JFK|1182| 14.67|     198|   20|[1182.0]|\n",
      "|  2|  3|  1|     AA|  1881|JFK|1090| 15.92|     200|   -9|[1090.0]|\n",
      "|  8| 26|  5|     B6|    35|JFK|1028| 20.58|     193|  102|[1028.0]|\n",
      "|  4|  9|  5|     AA|   336|ORD| 733|  20.5|     125|   32| [733.0]|\n",
      "|  3|  8|  2|     UA|   678|ORD| 733| 10.95|     129|   55| [733.0]|\n",
      "|  8| 10|  3|     OH|  6347|LGA| 292| 11.75|     102|    8| [292.0]|\n",
      "|  8| 14|  0|     UA|   624|ORD| 612| 17.92|     109|   57| [612.0]|\n",
      "|  4|  8|  4|     OH|  5585|JFK| 301| 13.25|      88|   23| [301.0]|\n",
      "|  1| 14|  4|     UA|  1524|SFO| 414| 14.87|      91|   27| [414.0]|\n",
      "|  1|  2|  6|     AA|  1341|ORD|1846|   7.5|     275|   26|[1846.0]|\n",
      "+---+---+---+-------+------+---+----+------+--------+-----+--------+\n",
      "only showing top 20 rows\n",
      "\n"
     ]
    }
   ],
   "source": [
    "out_data.show()"
   ]
  },
  {
   "cell_type": "code",
   "execution_count": 39,
   "id": "c33498d1",
   "metadata": {},
   "outputs": [],
   "source": [
    "evaluator = RegressionEvaluator(labelCol='duration')"
   ]
  },
  {
   "cell_type": "code",
   "execution_count": 40,
   "id": "b9d86912",
   "metadata": {},
   "outputs": [
    {
     "name": "stderr",
     "output_type": "stream",
     "text": [
      "2022/12/20 11:14:31 INFO mlflow.spark: URI 's3://mlflowbucket/artifacts/79cb2d2a17dc48cfb4bd59826a919cf7/artifacts/Dima_flights_LR_only2/sparkml' does not point to the current DFS.\n",
      "2022/12/20 11:14:31 INFO mlflow.spark: File 's3://mlflowbucket/artifacts/79cb2d2a17dc48cfb4bd59826a919cf7/artifacts/Dima_flights_LR_only2/sparkml' not found on DFS. Will attempt to upload the file.\n",
      "2022/12/20 11:14:31 INFO mlflow.spark: Copied SparkML model to /tmp/mlflow/cac8f8c8-d11f-425f-822f-b7690acf6ebc\n"
     ]
    }
   ],
   "source": [
    "saved_model_path = 's3://mlflowbucket/artifacts/79cb2d2a17dc48cfb4bd59826a919cf7/artifacts/Dima_flights_LR_only2'\n",
    "loaded_model = mlflow.spark.load_model(model_uri=saved_model_path)"
   ]
  },
  {
   "cell_type": "code",
   "execution_count": 41,
   "id": "09f7b6d6",
   "metadata": {},
   "outputs": [
    {
     "data": {
      "text/plain": [
       "PipelineModel_d58c881dc114"
      ]
     },
     "execution_count": 41,
     "metadata": {},
     "output_type": "execute_result"
    }
   ],
   "source": [
    "loaded_model"
   ]
  },
  {
   "cell_type": "code",
   "execution_count": 42,
   "id": "8924d103",
   "metadata": {},
   "outputs": [],
   "source": [
    "# Предсказываем на сырых данных, так как в модели заложен функционал предобработки данных\n",
    "data = (spark.read.format('csv')\n",
    "        .options(header='true', inferSchema='true')\n",
    "        .load(S3_DATA))\n",
    "\n",
    "prediction = loaded_model.transform(data).select(\"features\", \"duration\", \"prediction\")"
   ]
  },
  {
   "cell_type": "code",
   "execution_count": 43,
   "id": "1798e6cc",
   "metadata": {},
   "outputs": [
    {
     "data": {
      "text/plain": [
       "DataFrame[features: vector, duration: int, prediction: double]"
      ]
     },
     "execution_count": 43,
     "metadata": {},
     "output_type": "execute_result"
    }
   ],
   "source": [
    "prediction"
   ]
  },
  {
   "cell_type": "code",
   "execution_count": 44,
   "id": "a80c64a2",
   "metadata": {},
   "outputs": [
    {
     "name": "stdout",
     "output_type": "stream",
     "text": [
      "+--------------------+--------+------------------+\n",
      "|            features|duration|        prediction|\n",
      "+--------------------+--------+------------------+\n",
      "|(8,[0,1],[157.0,1...|      51| 62.97125064283171|\n",
      "|(8,[0,1],[466.0,1...|     102| 99.92322767816631|\n",
      "|(8,[0,1],[738.0,1...|     127|132.45053432415665|\n",
      "|(8,[0,3],[2248.0,...|     365|337.57326889367556|\n",
      "|(8,[0,6],[386.0,1...|      85| 80.13234215938485|\n",
      "|(8,[0,4],[1076.0,...|     182| 191.5073855195266|\n",
      "|(8,[0,1],[740.0,1...|     130|132.68970569655363|\n",
      "|(8,[0,2],[679.0,1...|     123|117.44261305149053|\n",
      "|(8,[0,4],[214.0,1...|      71| 88.42452401642484|\n",
      "|(8,[0,1],[1197.0,...|     195|187.34036428926535|\n",
      "|(8,[0,3],[1182.0,...|     198| 210.0949274060811|\n",
      "|(8,[0,3],[1090.0,...|     200|199.09304427581966|\n",
      "|(8,[0,3],[1028.0,...|     193|191.67873173151307|\n",
      "|(8,[0,1],[733.0,1...|     125| 131.8526058931642|\n",
      "|(8,[0,1],[733.0,1...|     129| 131.8526058931642|\n",
      "|(8,[0,4],[292.0,1...|     102| 97.75220753990737|\n",
      "|(8,[0,1],[612.0,1...|     109|117.38273786314642|\n",
      "|(8,[0,3],[301.0,1...|      88|104.73993786520799|\n",
      "|(8,[0,2],[414.0,1...|      91| 85.75240620888965|\n",
      "|(8,[0,1],[1846.0,...|     275|264.95147463208787|\n",
      "+--------------------+--------+------------------+\n",
      "only showing top 20 rows\n",
      "\n"
     ]
    }
   ],
   "source": [
    "prediction.show()"
   ]
  },
  {
   "cell_type": "code",
   "execution_count": 60,
   "id": "798ff909",
   "metadata": {},
   "outputs": [
    {
     "data": {
      "text/plain": [
       "11.209003907667439"
      ]
     },
     "execution_count": 60,
     "metadata": {},
     "output_type": "execute_result"
    }
   ],
   "source": [
    "evaluator.evaluate(prediction)"
   ]
  },
  {
   "cell_type": "code",
   "execution_count": 20,
   "id": "592df936",
   "metadata": {},
   "outputs": [],
   "source": [
    "spark.stop()"
   ]
  }
 ],
 "metadata": {
  "kernelspec": {
   "display_name": "Python 3 (ipykernel)",
   "language": "python",
   "name": "python3"
  },
  "language_info": {
   "codemirror_mode": {
    "name": "ipython",
    "version": 3
   },
   "file_extension": ".py",
   "mimetype": "text/x-python",
   "name": "python",
   "nbconvert_exporter": "python",
   "pygments_lexer": "ipython3",
   "version": "3.10.6"
  }
 },
 "nbformat": 4,
 "nbformat_minor": 5
}
