{
 "cells": [
  {
   "cell_type": "markdown",
   "id": "7fdeadb0",
   "metadata": {},
   "source": [
    "## Обзор и препроцессинг сгенерированных данных на PySpark"
   ]
  },
  {
   "cell_type": "code",
   "execution_count": 1,
   "id": "a3b3e29b",
   "metadata": {},
   "outputs": [],
   "source": [
    "import findspark\n",
    "findspark.init()\n",
    "findspark.find()\n",
    "import pyspark\n",
    "from pyspark.sql import SparkSession\n",
    "from pyspark.ml.feature import OneHotEncoder\n",
    "from pyspark.ml.feature import MinMaxScaler\n",
    "from pyspark.ml.feature import VectorAssembler\n",
    "from pyspark.sql.functions import dayofweek\n",
    "from pyspark.sql.functions import hour\n",
    "import kafka\n",
    "from pyspark.ml import Pipeline\n",
    "from pyspark.sql.functions import to_json,col\n",
    "import mlflow\n",
    "from pyspark.sql.types import StructType, StructField, StringType, IntegerType, DoubleType\n",
    "import pyspark.sql.functions as F\n",
    "from pyspark.sql.functions import json_tuple"
   ]
  },
  {
   "cell_type": "code",
   "execution_count": 2,
   "id": "fd7f892e",
   "metadata": {},
   "outputs": [],
   "source": [
    "import json\n",
    "import re\n",
    "\n",
    "from pyspark.sql.functions import *\n",
    "from pyspark.sql.types import *"
   ]
  },
  {
   "cell_type": "code",
   "execution_count": 3,
   "id": "37b70f24",
   "metadata": {},
   "outputs": [],
   "source": [
    "from onnxmltools import convert_sparkml"
   ]
  },
  {
   "cell_type": "code",
   "execution_count": 4,
   "id": "0831fd2f",
   "metadata": {},
   "outputs": [],
   "source": []
  },
  {
   "cell_type": "code",
   "execution_count": 5,
   "id": "eb09cde8",
   "metadata": {},
   "outputs": [],
   "source": [
    "def read_kafka_topic(topic, kafka_broker):\n",
    "\n",
    "    df_json = (spark.read\n",
    "               .format(\"kafka\")\n",
    "               .option(\"kafka.bootstrap.servers\", kafka_broker)\n",
    "               .option(\"subscribe\", topic)\n",
    "               .option(\"startingOffsets\", \"earliest\")\n",
    "               .option(\"endingOffsets\", \"latest\")\n",
    "               .option(\"failOnDataLoss\", \"false\")\n",
    "               .load()\n",
    "               # filter out empty values\n",
    "               .withColumn(\"value\", expr(\"string(value)\"))\n",
    "               .filter(col(\"value\").isNotNull())\n",
    "               # get latest version of each record\n",
    "               .select(\"key\", expr(\"struct(offset, value) r\"))\n",
    "               .groupBy(\"key\").agg(expr(\"max(r) r\")) \n",
    "               .select(\"r.value\"))\n",
    "    \n",
    "    # decode the json values\n",
    "    df_read = spark.read.json(\n",
    "      df_json.rdd.map(lambda x: x.value), multiLine=True)\n",
    "    \n",
    "    # drop corrupt records\n",
    "    if \"_corrupt_record\" in df_read.columns:\n",
    "        df_read = (df_read\n",
    "                   .filter(col(\"_corrupt_record\").isNotNull())\n",
    "                   .drop(\"_corrupt_record\"))\n",
    " \n",
    "    return df_read"
   ]
  },
  {
   "cell_type": "code",
   "execution_count": 6,
   "id": "42291ef2",
   "metadata": {},
   "outputs": [],
   "source": [
    "#data_processed.show()"
   ]
  },
  {
   "cell_type": "code",
   "execution_count": 7,
   "id": "7f2a3c5c",
   "metadata": {},
   "outputs": [],
   "source": [
    "SCHEMA = StructType([\n",
    "    StructField(\"TX_AMOUNT\", DoubleType()),\n",
    "    StructField(\"TX_FRAUD\", IntegerType()),\n",
    "    StructField(\"x_customer_id\", DoubleType()),\n",
    "    StructField(\"y_customer_id\", DoubleType()),\n",
    "    StructField(\"mean_amount\", DoubleType()),\n",
    "    StructField(\"std_amount\", DoubleType()),\n",
    "    StructField(\"mean_nb_tx_per_day\", DoubleType()),\n",
    "    StructField(\"x_terminal_id\", DoubleType()),\n",
    "    StructField(\"y_terminal_id\", DoubleType()),\n",
    "    StructField(\"day_of_week\", IntegerType()),\n",
    "    StructField(\"hour\", IntegerType()),\n",
    "])"
   ]
  },
  {
   "cell_type": "markdown",
   "id": "722a52dc",
   "metadata": {},
   "source": [
    "Отсюда\n",
    "https://medium.com/data-arena/enabling-streaming-data-with-spark-structured-streaming-and-kafka-93ce91e5b435"
   ]
  },
  {
   "cell_type": "code",
   "execution_count": 8,
   "id": "5a9a59fd",
   "metadata": {},
   "outputs": [],
   "source": [
    "# Создаем сессию (версии должны соответствовать реальным)\n",
    "spark = (SparkSession\n",
    "         .builder\n",
    "         .master('local')\n",
    "         .appName('wiki-changes-event-consumer')\n",
    "         # Add kafka package\n",
    "         .config(\"spark.jars.packages\", \"org.apache.spark:spark-sql-kafka-0-10_2.12:3.0.3\")\n",
    "         .getOrCreate())\n",
    "sc = spark.sparkContext"
   ]
  },
  {
   "cell_type": "code",
   "execution_count": 10,
   "id": "c58bf3aa",
   "metadata": {},
   "outputs": [],
   "source": [
    "data_processed = spark.read.parquet('/user/processed_data/11_11_2018-17_11_2018/processed.parquet')"
   ]
  },
  {
   "cell_type": "code",
   "execution_count": 11,
   "id": "941edbc1",
   "metadata": {},
   "outputs": [
    {
     "data": {
      "text/plain": [
       "DataFrame[TX_AMOUNT: double, TX_FRAUD: int, x_customer_id: double, y_customer_id: double, mean_amount: double, std_amount: double, mean_nb_tx_per_day: double, x_terminal_id: double, y_terminal_id: double, day_of_week: int, hour: int]"
      ]
     },
     "execution_count": 11,
     "metadata": {},
     "output_type": "execute_result"
    }
   ],
   "source": [
    "data_processed"
   ]
  },
  {
   "cell_type": "code",
   "execution_count": null,
   "id": "ef0f95b2",
   "metadata": {},
   "outputs": [],
   "source": [
    "\n",
    "\n",
    "#initial_types = buildInitialTypesSimple(test_df.drop(\"label\"))\n",
    "#onnx_model = convert_sparkml(model, 'Pyspark model', initial_types, spark_session = spark)"
   ]
  },
  {
   "cell_type": "code",
   "execution_count": 12,
   "id": "f727d07f",
   "metadata": {},
   "outputs": [
    {
     "data": {
      "text/plain": [
       "StructType(List(StructField(TX_AMOUNT,DoubleType,true),StructField(TX_FRAUD,IntegerType,true),StructField(x_customer_id,DoubleType,true),StructField(y_customer_id,DoubleType,true),StructField(mean_amount,DoubleType,true),StructField(std_amount,DoubleType,true),StructField(mean_nb_tx_per_day,DoubleType,true),StructField(x_terminal_id,DoubleType,true),StructField(y_terminal_id,DoubleType,true),StructField(day_of_week,IntegerType,true),StructField(hour,IntegerType,true)))"
      ]
     },
     "execution_count": 12,
     "metadata": {},
     "output_type": "execute_result"
    }
   ],
   "source": [
    "data_processed.schema"
   ]
  },
  {
   "cell_type": "code",
   "execution_count": 82,
   "id": "c6e024da",
   "metadata": {},
   "outputs": [
    {
     "data": {
      "text/plain": [
       "pyspark.sql.dataframe.DataFrame"
      ]
     },
     "execution_count": 82,
     "metadata": {},
     "output_type": "execute_result"
    }
   ],
   "source": [
    "type(data_processed)"
   ]
  },
  {
   "cell_type": "code",
   "execution_count": 11,
   "id": "f7b91b62",
   "metadata": {},
   "outputs": [],
   "source": [
    "# Create stream dataframe setting kafka server, topic and offset option\n",
    "df = (spark\n",
    "  .readStream\n",
    "  .format(\"kafka\")\n",
    "  .option(\"kafka.bootstrap.servers\", \"rc1b-gp5vr3anrc8k7fso.mdb.yandexcloud.net:9091\") # kafka server\n",
    "  .option(\"subscribe\", \"features\") # topic\n",
    "  .option(\"startingOffsets\", \"earliest\") # start from beginning\n",
    "  .option(\"partition.assignment.strategy\", \"RoundRobinAssignor\") \\\n",
    "  .load())"
   ]
  },
  {
   "cell_type": "code",
   "execution_count": 12,
   "id": "22f97909",
   "metadata": {},
   "outputs": [
    {
     "ename": "StreamingQueryException",
     "evalue": "Missing required configuration \"partition.assignment.strategy\" which has no default value.\n=== Streaming Query ===\nIdentifier: [id = 369da3de-6ce7-40fb-98b8-a4c285ba0479, runId = a70dbaf9-c4e4-4167-a49d-9ac2d91e8065]\nCurrent Committed Offsets: {}\nCurrent Available Offsets: {}\n\nCurrent State: ACTIVE\nThread State: RUNNABLE\n\nLogical Plan:\nWriteToMicroBatchDataSource ConsoleWriter[numRows=20, truncate=true]\n+- StreamingDataSourceV2Relation [key#35, value#36, topic#37, partition#38, offset#39L, timestamp#40, timestampType#41], org.apache.spark.sql.kafka010.KafkaSourceProvider$KafkaScan@4d34242c, KafkaV2[Subscribe[features]]\n",
     "output_type": "error",
     "traceback": [
      "\u001b[0;31m---------------------------------------------------------------------------\u001b[0m",
      "\u001b[0;31mStreamingQueryException\u001b[0m                   Traceback (most recent call last)",
      "\u001b[0;32m<ipython-input-12-5ab0e6807ca0>\u001b[0m in \u001b[0;36m<module>\u001b[0;34m\u001b[0m\n\u001b[0;32m----> 1\u001b[0;31m \u001b[0mdf\u001b[0m\u001b[0;34m.\u001b[0m\u001b[0mwriteStream\u001b[0m\u001b[0;34m.\u001b[0m\u001b[0mformat\u001b[0m\u001b[0;34m(\u001b[0m\u001b[0;34m\"console\"\u001b[0m\u001b[0;34m)\u001b[0m\u001b[0;34m.\u001b[0m\u001b[0moutputMode\u001b[0m\u001b[0;34m(\u001b[0m\u001b[0;34m\"append\"\u001b[0m\u001b[0;34m)\u001b[0m\u001b[0;34m.\u001b[0m\u001b[0mstart\u001b[0m\u001b[0;34m(\u001b[0m\u001b[0;34m)\u001b[0m\u001b[0;34m.\u001b[0m\u001b[0mawaitTermination\u001b[0m\u001b[0;34m(\u001b[0m\u001b[0;34m)\u001b[0m\u001b[0;34m\u001b[0m\u001b[0;34m\u001b[0m\u001b[0m\n\u001b[0m",
      "\u001b[0;32m/usr/lib/spark/python/pyspark/sql/streaming.py\u001b[0m in \u001b[0;36mawaitTermination\u001b[0;34m(self, timeout)\u001b[0m\n\u001b[1;32m    101\u001b[0m             \u001b[0;32mreturn\u001b[0m \u001b[0mself\u001b[0m\u001b[0;34m.\u001b[0m\u001b[0m_jsq\u001b[0m\u001b[0;34m.\u001b[0m\u001b[0mawaitTermination\u001b[0m\u001b[0;34m(\u001b[0m\u001b[0mint\u001b[0m\u001b[0;34m(\u001b[0m\u001b[0mtimeout\u001b[0m \u001b[0;34m*\u001b[0m \u001b[0;36m1000\u001b[0m\u001b[0;34m)\u001b[0m\u001b[0;34m)\u001b[0m\u001b[0;34m\u001b[0m\u001b[0;34m\u001b[0m\u001b[0m\n\u001b[1;32m    102\u001b[0m         \u001b[0;32melse\u001b[0m\u001b[0;34m:\u001b[0m\u001b[0;34m\u001b[0m\u001b[0;34m\u001b[0m\u001b[0m\n\u001b[0;32m--> 103\u001b[0;31m             \u001b[0;32mreturn\u001b[0m \u001b[0mself\u001b[0m\u001b[0;34m.\u001b[0m\u001b[0m_jsq\u001b[0m\u001b[0;34m.\u001b[0m\u001b[0mawaitTermination\u001b[0m\u001b[0;34m(\u001b[0m\u001b[0;34m)\u001b[0m\u001b[0;34m\u001b[0m\u001b[0;34m\u001b[0m\u001b[0m\n\u001b[0m\u001b[1;32m    104\u001b[0m \u001b[0;34m\u001b[0m\u001b[0m\n\u001b[1;32m    105\u001b[0m     \u001b[0;34m@\u001b[0m\u001b[0mproperty\u001b[0m\u001b[0;34m\u001b[0m\u001b[0;34m\u001b[0m\u001b[0m\n",
      "\u001b[0;32m/usr/lib/spark/python/lib/py4j-0.10.9-src.zip/py4j/java_gateway.py\u001b[0m in \u001b[0;36m__call__\u001b[0;34m(self, *args)\u001b[0m\n\u001b[1;32m   1302\u001b[0m \u001b[0;34m\u001b[0m\u001b[0m\n\u001b[1;32m   1303\u001b[0m         \u001b[0manswer\u001b[0m \u001b[0;34m=\u001b[0m \u001b[0mself\u001b[0m\u001b[0;34m.\u001b[0m\u001b[0mgateway_client\u001b[0m\u001b[0;34m.\u001b[0m\u001b[0msend_command\u001b[0m\u001b[0;34m(\u001b[0m\u001b[0mcommand\u001b[0m\u001b[0;34m)\u001b[0m\u001b[0;34m\u001b[0m\u001b[0;34m\u001b[0m\u001b[0m\n\u001b[0;32m-> 1304\u001b[0;31m         return_value = get_return_value(\n\u001b[0m\u001b[1;32m   1305\u001b[0m             answer, self.gateway_client, self.target_id, self.name)\n\u001b[1;32m   1306\u001b[0m \u001b[0;34m\u001b[0m\u001b[0m\n",
      "\u001b[0;32m/usr/lib/spark/python/pyspark/sql/utils.py\u001b[0m in \u001b[0;36mdeco\u001b[0;34m(*a, **kw)\u001b[0m\n\u001b[1;32m    132\u001b[0m                 \u001b[0;31m# Hide where the exception came from that shows a non-Pythonic\u001b[0m\u001b[0;34m\u001b[0m\u001b[0;34m\u001b[0m\u001b[0;34m\u001b[0m\u001b[0m\n\u001b[1;32m    133\u001b[0m                 \u001b[0;31m# JVM exception message.\u001b[0m\u001b[0;34m\u001b[0m\u001b[0;34m\u001b[0m\u001b[0;34m\u001b[0m\u001b[0m\n\u001b[0;32m--> 134\u001b[0;31m                 \u001b[0mraise_from\u001b[0m\u001b[0;34m(\u001b[0m\u001b[0mconverted\u001b[0m\u001b[0;34m)\u001b[0m\u001b[0;34m\u001b[0m\u001b[0;34m\u001b[0m\u001b[0m\n\u001b[0m\u001b[1;32m    135\u001b[0m             \u001b[0;32melse\u001b[0m\u001b[0;34m:\u001b[0m\u001b[0;34m\u001b[0m\u001b[0;34m\u001b[0m\u001b[0m\n\u001b[1;32m    136\u001b[0m                 \u001b[0;32mraise\u001b[0m\u001b[0;34m\u001b[0m\u001b[0;34m\u001b[0m\u001b[0m\n",
      "\u001b[0;32m/usr/lib/spark/python/pyspark/sql/utils.py\u001b[0m in \u001b[0;36mraise_from\u001b[0;34m(e)\u001b[0m\n",
      "\u001b[0;31mStreamingQueryException\u001b[0m: Missing required configuration \"partition.assignment.strategy\" which has no default value.\n=== Streaming Query ===\nIdentifier: [id = 369da3de-6ce7-40fb-98b8-a4c285ba0479, runId = a70dbaf9-c4e4-4167-a49d-9ac2d91e8065]\nCurrent Committed Offsets: {}\nCurrent Available Offsets: {}\n\nCurrent State: ACTIVE\nThread State: RUNNABLE\n\nLogical Plan:\nWriteToMicroBatchDataSource ConsoleWriter[numRows=20, truncate=true]\n+- StreamingDataSourceV2Relation [key#35, value#36, topic#37, partition#38, offset#39L, timestamp#40, timestampType#41], org.apache.spark.sql.kafka010.KafkaSourceProvider$KafkaScan@4d34242c, KafkaV2[Subscribe[features]]\n"
     ]
    }
   ],
   "source": [
    "df.writeStream.format(\"console\").outputMode(\"append\").start().awaitTermination()"
   ]
  },
  {
   "cell_type": "code",
   "execution_count": 93,
   "id": "67b1e3d5",
   "metadata": {},
   "outputs": [],
   "source": [
    "#df = read_kafka_topic(\"features\", \"rc1b-gp5vr3anrc8k7fso.mdb.yandexcloud.net:9091\")"
   ]
  },
  {
   "cell_type": "code",
   "execution_count": 95,
   "id": "31b58f98",
   "metadata": {},
   "outputs": [
    {
     "data": {
      "text/plain": [
       "DataFrame[key: binary, value: binary, topic: string, partition: int, offset: bigint, timestamp: timestamp, timestampType: int]"
      ]
     },
     "execution_count": 95,
     "metadata": {},
     "output_type": "execute_result"
    }
   ],
   "source": [
    "df"
   ]
  },
  {
   "cell_type": "code",
   "execution_count": 104,
   "id": "73e5b42e",
   "metadata": {},
   "outputs": [
    {
     "ename": "NameError",
     "evalue": "name 'writeStream' is not defined",
     "output_type": "error",
     "traceback": [
      "\u001b[0;31m---------------------------------------------------------------------------\u001b[0m",
      "\u001b[0;31mNameError\u001b[0m                                 Traceback (most recent call last)",
      "\u001b[0;32m<ipython-input-104-d4cd71f3ee57>\u001b[0m in \u001b[0;36m<module>\u001b[0;34m\u001b[0m\n\u001b[0;32m----> 1\u001b[0;31m \u001b[0mwriteStream\u001b[0m\u001b[0;34m.\u001b[0m\u001b[0mstart\u001b[0m\u001b[0;34m(\u001b[0m\u001b[0;34m)\u001b[0m\u001b[0;34m\u001b[0m\u001b[0;34m\u001b[0m\u001b[0m\n\u001b[0m",
      "\u001b[0;31mNameError\u001b[0m: name 'writeStream' is not defined"
     ]
    }
   ],
   "source": [
    "writeStream.start()"
   ]
  },
  {
   "cell_type": "code",
   "execution_count": 103,
   "id": "4a42a967",
   "metadata": {},
   "outputs": [
    {
     "ename": "AnalysisException",
     "evalue": "Queries with streaming sources must be executed with writeStream.start();;\nkafka",
     "output_type": "error",
     "traceback": [
      "\u001b[0;31m---------------------------------------------------------------------------\u001b[0m",
      "\u001b[0;31mAnalysisException\u001b[0m                         Traceback (most recent call last)",
      "\u001b[0;32m<ipython-input-103-74cd292110b3>\u001b[0m in \u001b[0;36m<module>\u001b[0;34m\u001b[0m\n\u001b[0;32m----> 1\u001b[0;31m \u001b[0mdfd\u001b[0m \u001b[0;34m=\u001b[0m \u001b[0mspark\u001b[0m\u001b[0;34m.\u001b[0m\u001b[0mread\u001b[0m\u001b[0;34m.\u001b[0m\u001b[0mjson\u001b[0m\u001b[0;34m(\u001b[0m\u001b[0mdf\u001b[0m\u001b[0;34m.\u001b[0m\u001b[0mselect\u001b[0m\u001b[0;34m(\u001b[0m\u001b[0;34m\"value\"\u001b[0m\u001b[0;34m)\u001b[0m\u001b[0;34m.\u001b[0m\u001b[0mrdd\u001b[0m\u001b[0;34m)\u001b[0m\u001b[0;34m.\u001b[0m\u001b[0mstart\u001b[0m\u001b[0;34m(\u001b[0m\u001b[0;34m)\u001b[0m\u001b[0;34m\u001b[0m\u001b[0;34m\u001b[0m\u001b[0m\n\u001b[0m",
      "\u001b[0;32m/usr/lib/spark/python/pyspark/sql/dataframe.py\u001b[0m in \u001b[0;36mrdd\u001b[0;34m(self)\u001b[0m\n\u001b[1;32m     92\u001b[0m         \"\"\"\n\u001b[1;32m     93\u001b[0m         \u001b[0;32mif\u001b[0m \u001b[0mself\u001b[0m\u001b[0;34m.\u001b[0m\u001b[0m_lazy_rdd\u001b[0m \u001b[0;32mis\u001b[0m \u001b[0;32mNone\u001b[0m\u001b[0;34m:\u001b[0m\u001b[0;34m\u001b[0m\u001b[0;34m\u001b[0m\u001b[0m\n\u001b[0;32m---> 94\u001b[0;31m             \u001b[0mjrdd\u001b[0m \u001b[0;34m=\u001b[0m \u001b[0mself\u001b[0m\u001b[0;34m.\u001b[0m\u001b[0m_jdf\u001b[0m\u001b[0;34m.\u001b[0m\u001b[0mjavaToPython\u001b[0m\u001b[0;34m(\u001b[0m\u001b[0;34m)\u001b[0m\u001b[0;34m\u001b[0m\u001b[0;34m\u001b[0m\u001b[0m\n\u001b[0m\u001b[1;32m     95\u001b[0m             \u001b[0mself\u001b[0m\u001b[0;34m.\u001b[0m\u001b[0m_lazy_rdd\u001b[0m \u001b[0;34m=\u001b[0m \u001b[0mRDD\u001b[0m\u001b[0;34m(\u001b[0m\u001b[0mjrdd\u001b[0m\u001b[0;34m,\u001b[0m \u001b[0mself\u001b[0m\u001b[0;34m.\u001b[0m\u001b[0msql_ctx\u001b[0m\u001b[0;34m.\u001b[0m\u001b[0m_sc\u001b[0m\u001b[0;34m,\u001b[0m \u001b[0mBatchedSerializer\u001b[0m\u001b[0;34m(\u001b[0m\u001b[0mPickleSerializer\u001b[0m\u001b[0;34m(\u001b[0m\u001b[0;34m)\u001b[0m\u001b[0;34m)\u001b[0m\u001b[0;34m)\u001b[0m\u001b[0;34m\u001b[0m\u001b[0;34m\u001b[0m\u001b[0m\n\u001b[1;32m     96\u001b[0m         \u001b[0;32mreturn\u001b[0m \u001b[0mself\u001b[0m\u001b[0;34m.\u001b[0m\u001b[0m_lazy_rdd\u001b[0m\u001b[0;34m\u001b[0m\u001b[0;34m\u001b[0m\u001b[0m\n",
      "\u001b[0;32m/usr/lib/spark/python/lib/py4j-0.10.9-src.zip/py4j/java_gateway.py\u001b[0m in \u001b[0;36m__call__\u001b[0;34m(self, *args)\u001b[0m\n\u001b[1;32m   1302\u001b[0m \u001b[0;34m\u001b[0m\u001b[0m\n\u001b[1;32m   1303\u001b[0m         \u001b[0manswer\u001b[0m \u001b[0;34m=\u001b[0m \u001b[0mself\u001b[0m\u001b[0;34m.\u001b[0m\u001b[0mgateway_client\u001b[0m\u001b[0;34m.\u001b[0m\u001b[0msend_command\u001b[0m\u001b[0;34m(\u001b[0m\u001b[0mcommand\u001b[0m\u001b[0;34m)\u001b[0m\u001b[0;34m\u001b[0m\u001b[0;34m\u001b[0m\u001b[0m\n\u001b[0;32m-> 1304\u001b[0;31m         return_value = get_return_value(\n\u001b[0m\u001b[1;32m   1305\u001b[0m             answer, self.gateway_client, self.target_id, self.name)\n\u001b[1;32m   1306\u001b[0m \u001b[0;34m\u001b[0m\u001b[0m\n",
      "\u001b[0;32m/usr/lib/spark/python/pyspark/sql/utils.py\u001b[0m in \u001b[0;36mdeco\u001b[0;34m(*a, **kw)\u001b[0m\n\u001b[1;32m    132\u001b[0m                 \u001b[0;31m# Hide where the exception came from that shows a non-Pythonic\u001b[0m\u001b[0;34m\u001b[0m\u001b[0;34m\u001b[0m\u001b[0;34m\u001b[0m\u001b[0m\n\u001b[1;32m    133\u001b[0m                 \u001b[0;31m# JVM exception message.\u001b[0m\u001b[0;34m\u001b[0m\u001b[0;34m\u001b[0m\u001b[0;34m\u001b[0m\u001b[0m\n\u001b[0;32m--> 134\u001b[0;31m                 \u001b[0mraise_from\u001b[0m\u001b[0;34m(\u001b[0m\u001b[0mconverted\u001b[0m\u001b[0;34m)\u001b[0m\u001b[0;34m\u001b[0m\u001b[0;34m\u001b[0m\u001b[0m\n\u001b[0m\u001b[1;32m    135\u001b[0m             \u001b[0;32melse\u001b[0m\u001b[0;34m:\u001b[0m\u001b[0;34m\u001b[0m\u001b[0;34m\u001b[0m\u001b[0m\n\u001b[1;32m    136\u001b[0m                 \u001b[0;32mraise\u001b[0m\u001b[0;34m\u001b[0m\u001b[0;34m\u001b[0m\u001b[0m\n",
      "\u001b[0;32m/usr/lib/spark/python/pyspark/sql/utils.py\u001b[0m in \u001b[0;36mraise_from\u001b[0;34m(e)\u001b[0m\n",
      "\u001b[0;31mAnalysisException\u001b[0m: Queries with streaming sources must be executed with writeStream.start();;\nkafka"
     ]
    }
   ],
   "source": [
    "dfd = spark.read.json(df.select(\"value\").rdd).start()"
   ]
  },
  {
   "cell_type": "code",
   "execution_count": 96,
   "id": "c7d926ad",
   "metadata": {},
   "outputs": [],
   "source": [
    "dd = df.select(F.from_json(\n",
    "            # decode string as iso-8859-1\n",
    "F.decode(F.col(\"value\"), \"iso-8859-1\"), SCHEMA).alias(\"value\"))"
   ]
  },
  {
   "cell_type": "code",
   "execution_count": 100,
   "id": "b0bcb395",
   "metadata": {},
   "outputs": [
    {
     "data": {
      "text/plain": [
       "DataFrame[value: struct<TX_AMOUNT:double,TX_FRAUD:int,x_customer_id:double,y_customer_id:double,mean_amount:double,std_amount:double,mean_nb_tx_per_day:double,x_terminal_id:double,y_terminal_id:double,day_of_week:int,hour:int>]"
      ]
     },
     "execution_count": 100,
     "metadata": {},
     "output_type": "execute_result"
    }
   ],
   "source": [
    "dd"
   ]
  },
  {
   "cell_type": "code",
   "execution_count": 57,
   "id": "44612630",
   "metadata": {},
   "outputs": [
    {
     "data": {
      "text/plain": [
       "StructType(List(StructField(value,StructType(List(StructField(TX_AMOUNT,DoubleType,true),StructField(TX_FRAUD,IntegerType,true),StructField(x_customer_id,DoubleType,true),StructField(y_customer_id,DoubleType,true),StructField(mean_amount,DoubleType,true),StructField(std_amount,DoubleType,true),StructField(mean_nb_tx_per_day,DoubleType,true),StructField(x_terminal_id,DoubleType,true),StructField(y_terminal_id,DoubleType,true),StructField(day_of_week,IntegerType,true),StructField(hour,IntegerType,true))),true)))"
      ]
     },
     "execution_count": 57,
     "metadata": {},
     "output_type": "execute_result"
    }
   ],
   "source": [
    "dd.schema"
   ]
  },
  {
   "cell_type": "code",
   "execution_count": 79,
   "id": "53717774",
   "metadata": {},
   "outputs": [],
   "source": [
    "# Преобразуем byte JSON в таблицу"
   ]
  },
  {
   "cell_type": "code",
   "execution_count": 38,
   "id": "2f46ddb4",
   "metadata": {},
   "outputs": [
    {
     "data": {
      "text/plain": [
       "pyspark.sql.dataframe.DataFrame"
      ]
     },
     "execution_count": 38,
     "metadata": {},
     "output_type": "execute_result"
    }
   ],
   "source": [
    "type(df)"
   ]
  },
  {
   "cell_type": "code",
   "execution_count": null,
   "id": "e3aa0f0b",
   "metadata": {},
   "outputs": [],
   "source": []
  },
  {
   "cell_type": "code",
   "execution_count": 15,
   "id": "826b6752",
   "metadata": {},
   "outputs": [
    {
     "data": {
      "text/plain": [
       "StructType(List(StructField(key,BinaryType,true),StructField(value,BinaryType,true),StructField(topic,StringType,true),StructField(partition,IntegerType,true),StructField(offset,LongType,true),StructField(timestamp,TimestampType,true),StructField(timestampType,IntegerType,true)))"
      ]
     },
     "execution_count": 15,
     "metadata": {},
     "output_type": "execute_result"
    }
   ],
   "source": [
    "df.schema"
   ]
  },
  {
   "cell_type": "code",
   "execution_count": 33,
   "id": "9ae65586",
   "metadata": {},
   "outputs": [],
   "source": [
    "asd = df.select(F.from_json(F.col(\"value\").cast(\"string\"), SCHEMA).alias(\"parsed_value\"))"
   ]
  },
  {
   "cell_type": "code",
   "execution_count": 23,
   "id": "3d7ec5b8",
   "metadata": {},
   "outputs": [
    {
     "data": {
      "text/plain": [
       "StructType(List(StructField(parsed_value,StructType(List(StructField(TX_AMOUNT,DoubleType,true),StructField(TX_FRAUD,IntegerType,true),StructField(x_customer_id,DoubleType,true),StructField(y_customer_id,DoubleType,true),StructField(mean_amount,DoubleType,true),StructField(std_amount,DoubleType,true),StructField(mean_nb_tx_per_day,DoubleType,true),StructField(x_terminal_id,DoubleType,true),StructField(y_terminal_id,DoubleType,true),StructField(day_of_week,IntegerType,true),StructField(hour,IntegerType,true))),true)))"
      ]
     },
     "execution_count": 23,
     "metadata": {},
     "output_type": "execute_result"
    }
   ],
   "source": [
    "asd.schema"
   ]
  },
  {
   "cell_type": "code",
   "execution_count": 25,
   "id": "70e966b6",
   "metadata": {},
   "outputs": [],
   "source": [
    "df = df.select(F.from_json(\n",
    "            # decode string as iso-8859-1\n",
    "F.decode(F.col(\"value\"), \"iso-8859-1\"), SCHEMA).alias(\"value\"))"
   ]
  },
  {
   "cell_type": "code",
   "execution_count": 26,
   "id": "4ab00b1d",
   "metadata": {},
   "outputs": [
    {
     "data": {
      "text/plain": [
       "DataFrame[value: struct<TX_AMOUNT:double,TX_FRAUD:int,x_customer_id:double,y_customer_id:double,mean_amount:double,std_amount:double,mean_nb_tx_per_day:double,x_terminal_id:double,y_terminal_id:double,day_of_week:int,hour:int>]"
      ]
     },
     "execution_count": 26,
     "metadata": {},
     "output_type": "execute_result"
    }
   ],
   "source": [
    "df"
   ]
  },
  {
   "cell_type": "code",
   "execution_count": 28,
   "id": "70cbbdc5",
   "metadata": {},
   "outputs": [
    {
     "data": {
      "text/plain": [
       "DataFrame[value: struct<TX_AMOUNT:double,TX_FRAUD:int,x_customer_id:double,y_customer_id:double,mean_amount:double,std_amount:double,mean_nb_tx_per_day:double,x_terminal_id:double,y_terminal_id:double,day_of_week:int,hour:int>]"
      ]
     },
     "execution_count": 28,
     "metadata": {},
     "output_type": "execute_result"
    }
   ],
   "source": [
    "df"
   ]
  },
  {
   "cell_type": "code",
   "execution_count": 36,
   "id": "37ac970d",
   "metadata": {},
   "outputs": [
    {
     "ename": "NameError",
     "evalue": "name 'col' is not defined",
     "output_type": "error",
     "traceback": [
      "\u001b[0;31m---------------------------------------------------------------------------\u001b[0m",
      "\u001b[0;31mNameError\u001b[0m                                 Traceback (most recent call last)",
      "\u001b[0;32m<ipython-input-36-c98a2c541eaa>\u001b[0m in \u001b[0;36m<module>\u001b[0;34m\u001b[0m\n\u001b[0;32m----> 1\u001b[0;31m \u001b[0mdf\u001b[0m\u001b[0;34m.\u001b[0m\u001b[0mselect\u001b[0m\u001b[0;34m(\u001b[0m\u001b[0mjson_tuple\u001b[0m\u001b[0;34m(\u001b[0m\u001b[0mcol\u001b[0m\u001b[0;34m(\u001b[0m\u001b[0;34m\"value\"\u001b[0m\u001b[0;34m)\u001b[0m\u001b[0;34m,\u001b[0m\u001b[0;34m\"TX_AMOUNT\"\u001b[0m\u001b[0;34m,\u001b[0m\u001b[0;34m\"TX_FRAUD\"\u001b[0m\u001b[0;34m,\u001b[0m\u001b[0;34m\"x_customer_id\"\u001b[0m\u001b[0;34m)\u001b[0m\u001b[0;34m)\u001b[0m\u001b[0;31m \u001b[0m\u001b[0;31m\\\u001b[0m\u001b[0;34m\u001b[0m\u001b[0;34m\u001b[0m\u001b[0m\n\u001b[0m\u001b[1;32m      2\u001b[0m     \u001b[0;34m.\u001b[0m\u001b[0mtoDF\u001b[0m\u001b[0;34m(\u001b[0m\u001b[0;34m\"TX_AMOUNT\"\u001b[0m\u001b[0;34m,\u001b[0m\u001b[0;34m\"TX_FRAUD\"\u001b[0m\u001b[0;34m,\u001b[0m\u001b[0;34m\"x_customer_id\"\u001b[0m\u001b[0;34m)\u001b[0m\u001b[0;31m \u001b[0m\u001b[0;31m\\\u001b[0m\u001b[0;34m\u001b[0m\u001b[0;34m\u001b[0m\u001b[0m\n\u001b[1;32m      3\u001b[0m     \u001b[0;34m.\u001b[0m\u001b[0mshow\u001b[0m\u001b[0;34m(\u001b[0m\u001b[0mtruncate\u001b[0m\u001b[0;34m=\u001b[0m\u001b[0;32mFalse\u001b[0m\u001b[0;34m)\u001b[0m\u001b[0;34m\u001b[0m\u001b[0;34m\u001b[0m\u001b[0m\n",
      "\u001b[0;31mNameError\u001b[0m: name 'col' is not defined"
     ]
    }
   ],
   "source": [
    "df.select(json_tuple(col(\"value\"),\"TX_AMOUNT\",\"TX_FRAUD\",\"x_customer_id\")) \\\n",
    "    .toDF(\"TX_AMOUNT\",\"TX_FRAUD\",\"x_customer_id\") \\\n",
    "    .show(truncate=False)"
   ]
  },
  {
   "cell_type": "code",
   "execution_count": 66,
   "id": "d08e6f70",
   "metadata": {},
   "outputs": [
    {
     "data": {
      "text/plain": [
       "StructType(List(StructField(key,BinaryType,true),StructField(value,BinaryType,true),StructField(topic,StringType,true),StructField(partition,IntegerType,true),StructField(offset,LongType,true),StructField(timestamp,TimestampType,true),StructField(timestampType,IntegerType,true)))"
      ]
     },
     "execution_count": 66,
     "metadata": {},
     "output_type": "execute_result"
    }
   ],
   "source": [
    "df.schema"
   ]
  },
  {
   "cell_type": "code",
   "execution_count": 71,
   "id": "798ba299",
   "metadata": {},
   "outputs": [],
   "source": [
    "df = df.select(F.from_json(\n",
    "            # decode string as iso-8859-1\n",
    "F.decode(F.col(\"value\"), \"iso-8859-1\"), SCHEMA).alias(\"value\"))"
   ]
  },
  {
   "cell_type": "code",
   "execution_count": 77,
   "id": "5d6f0593",
   "metadata": {},
   "outputs": [
    {
     "ename": "AnalysisException",
     "evalue": "Queries with streaming sources must be executed with writeStream.start();;\nkafka",
     "output_type": "error",
     "traceback": [
      "\u001b[0;31m---------------------------------------------------------------------------\u001b[0m",
      "\u001b[0;31mAnalysisException\u001b[0m                         Traceback (most recent call last)",
      "\u001b[0;32m<ipython-input-77-1a6ce2362cd4>\u001b[0m in \u001b[0;36m<module>\u001b[0;34m\u001b[0m\n\u001b[0;32m----> 1\u001b[0;31m \u001b[0mdf\u001b[0m\u001b[0;34m.\u001b[0m\u001b[0mshow\u001b[0m\u001b[0;34m(\u001b[0m\u001b[0;34m)\u001b[0m\u001b[0;34m\u001b[0m\u001b[0;34m\u001b[0m\u001b[0m\n\u001b[0m",
      "\u001b[0;32m/usr/lib/spark/python/pyspark/sql/dataframe.py\u001b[0m in \u001b[0;36mshow\u001b[0;34m(self, n, truncate, vertical)\u001b[0m\n\u001b[1;32m    438\u001b[0m         \"\"\"\n\u001b[1;32m    439\u001b[0m         \u001b[0;32mif\u001b[0m \u001b[0misinstance\u001b[0m\u001b[0;34m(\u001b[0m\u001b[0mtruncate\u001b[0m\u001b[0;34m,\u001b[0m \u001b[0mbool\u001b[0m\u001b[0;34m)\u001b[0m \u001b[0;32mand\u001b[0m \u001b[0mtruncate\u001b[0m\u001b[0;34m:\u001b[0m\u001b[0;34m\u001b[0m\u001b[0;34m\u001b[0m\u001b[0m\n\u001b[0;32m--> 440\u001b[0;31m             \u001b[0mprint\u001b[0m\u001b[0;34m(\u001b[0m\u001b[0mself\u001b[0m\u001b[0;34m.\u001b[0m\u001b[0m_jdf\u001b[0m\u001b[0;34m.\u001b[0m\u001b[0mshowString\u001b[0m\u001b[0;34m(\u001b[0m\u001b[0mn\u001b[0m\u001b[0;34m,\u001b[0m \u001b[0;36m20\u001b[0m\u001b[0;34m,\u001b[0m \u001b[0mvertical\u001b[0m\u001b[0;34m)\u001b[0m\u001b[0;34m)\u001b[0m\u001b[0;34m\u001b[0m\u001b[0;34m\u001b[0m\u001b[0m\n\u001b[0m\u001b[1;32m    441\u001b[0m         \u001b[0;32melse\u001b[0m\u001b[0;34m:\u001b[0m\u001b[0;34m\u001b[0m\u001b[0;34m\u001b[0m\u001b[0m\n\u001b[1;32m    442\u001b[0m             \u001b[0mprint\u001b[0m\u001b[0;34m(\u001b[0m\u001b[0mself\u001b[0m\u001b[0;34m.\u001b[0m\u001b[0m_jdf\u001b[0m\u001b[0;34m.\u001b[0m\u001b[0mshowString\u001b[0m\u001b[0;34m(\u001b[0m\u001b[0mn\u001b[0m\u001b[0;34m,\u001b[0m \u001b[0mint\u001b[0m\u001b[0;34m(\u001b[0m\u001b[0mtruncate\u001b[0m\u001b[0;34m)\u001b[0m\u001b[0;34m,\u001b[0m \u001b[0mvertical\u001b[0m\u001b[0;34m)\u001b[0m\u001b[0;34m)\u001b[0m\u001b[0;34m\u001b[0m\u001b[0;34m\u001b[0m\u001b[0m\n",
      "\u001b[0;32m/usr/lib/spark/python/lib/py4j-0.10.9-src.zip/py4j/java_gateway.py\u001b[0m in \u001b[0;36m__call__\u001b[0;34m(self, *args)\u001b[0m\n\u001b[1;32m   1302\u001b[0m \u001b[0;34m\u001b[0m\u001b[0m\n\u001b[1;32m   1303\u001b[0m         \u001b[0manswer\u001b[0m \u001b[0;34m=\u001b[0m \u001b[0mself\u001b[0m\u001b[0;34m.\u001b[0m\u001b[0mgateway_client\u001b[0m\u001b[0;34m.\u001b[0m\u001b[0msend_command\u001b[0m\u001b[0;34m(\u001b[0m\u001b[0mcommand\u001b[0m\u001b[0;34m)\u001b[0m\u001b[0;34m\u001b[0m\u001b[0;34m\u001b[0m\u001b[0m\n\u001b[0;32m-> 1304\u001b[0;31m         return_value = get_return_value(\n\u001b[0m\u001b[1;32m   1305\u001b[0m             answer, self.gateway_client, self.target_id, self.name)\n\u001b[1;32m   1306\u001b[0m \u001b[0;34m\u001b[0m\u001b[0m\n",
      "\u001b[0;32m/usr/lib/spark/python/pyspark/sql/utils.py\u001b[0m in \u001b[0;36mdeco\u001b[0;34m(*a, **kw)\u001b[0m\n\u001b[1;32m    132\u001b[0m                 \u001b[0;31m# Hide where the exception came from that shows a non-Pythonic\u001b[0m\u001b[0;34m\u001b[0m\u001b[0;34m\u001b[0m\u001b[0;34m\u001b[0m\u001b[0m\n\u001b[1;32m    133\u001b[0m                 \u001b[0;31m# JVM exception message.\u001b[0m\u001b[0;34m\u001b[0m\u001b[0;34m\u001b[0m\u001b[0;34m\u001b[0m\u001b[0m\n\u001b[0;32m--> 134\u001b[0;31m                 \u001b[0mraise_from\u001b[0m\u001b[0;34m(\u001b[0m\u001b[0mconverted\u001b[0m\u001b[0;34m)\u001b[0m\u001b[0;34m\u001b[0m\u001b[0;34m\u001b[0m\u001b[0m\n\u001b[0m\u001b[1;32m    135\u001b[0m             \u001b[0;32melse\u001b[0m\u001b[0;34m:\u001b[0m\u001b[0;34m\u001b[0m\u001b[0;34m\u001b[0m\u001b[0m\n\u001b[1;32m    136\u001b[0m                 \u001b[0;32mraise\u001b[0m\u001b[0;34m\u001b[0m\u001b[0;34m\u001b[0m\u001b[0m\n",
      "\u001b[0;32m/usr/lib/spark/python/pyspark/sql/utils.py\u001b[0m in \u001b[0;36mraise_from\u001b[0;34m(e)\u001b[0m\n",
      "\u001b[0;31mAnalysisException\u001b[0m: Queries with streaming sources must be executed with writeStream.start();;\nkafka"
     ]
    }
   ],
   "source": [
    "df.show()"
   ]
  },
  {
   "cell_type": "code",
   "execution_count": 13,
   "id": "edf9fd8d",
   "metadata": {},
   "outputs": [
    {
     "name": "stderr",
     "output_type": "stream",
     "text": [
      "2023/01/06 13:17:02 INFO mlflow.spark: URI 's3://mlflowbucket/artifacts/0057be9b420a4bd69313c89200aba356/artifacts/fitted_model_name/sparkml' does not point to the current DFS.\n",
      "2023/01/06 13:17:02 INFO mlflow.spark: File 's3://mlflowbucket/artifacts/0057be9b420a4bd69313c89200aba356/artifacts/fitted_model_name/sparkml' not found on DFS. Will attempt to upload the file.\n",
      "2023/01/06 13:17:04 INFO mlflow.spark: Copied SparkML model to /tmp/mlflow/c9fbac7f-f84c-47f3-a57f-cac84c9ba9c3\n"
     ]
    }
   ],
   "source": [
    "## Модель загружена на S3 через mlflow. Чтобы скачать с S3 необходимы credentials в ~/.aws/credentials\n",
    "## same path used while #model.save in the above code snippet\n",
    "model_path =\"s3://mlflowbucket/artifacts/0057be9b420a4bd69313c89200aba356/artifacts/fitted_model_name\" \n",
    "loaded_model = mlflow.spark.load_model(model_uri=model_path)"
   ]
  },
  {
   "cell_type": "code",
   "execution_count": 14,
   "id": "5ca62598",
   "metadata": {},
   "outputs": [
    {
     "data": {
      "text/plain": [
       "pyspark.ml.pipeline.PipelineModel"
      ]
     },
     "execution_count": 14,
     "metadata": {},
     "output_type": "execute_result"
    }
   ],
   "source": [
    "type(loaded_model)"
   ]
  },
  {
   "cell_type": "code",
   "execution_count": 62,
   "id": "c1594690",
   "metadata": {},
   "outputs": [
    {
     "data": {
      "text/plain": [
       "pyspark.sql.dataframe.DataFrame"
      ]
     },
     "execution_count": 62,
     "metadata": {},
     "output_type": "execute_result"
    }
   ],
   "source": [
    "type(df)"
   ]
  },
  {
   "cell_type": "code",
   "execution_count": 46,
   "id": "a203cadd",
   "metadata": {},
   "outputs": [],
   "source": [
    "prediction = loaded_model.transform(data_processed)"
   ]
  },
  {
   "cell_type": "code",
   "execution_count": 74,
   "id": "b11c70ce",
   "metadata": {},
   "outputs": [
    {
     "ename": "IllegalArgumentException",
     "evalue": "TX_AMOUNT does not exist. Available: value",
     "output_type": "error",
     "traceback": [
      "\u001b[0;31m---------------------------------------------------------------------------\u001b[0m",
      "\u001b[0;31mIllegalArgumentException\u001b[0m                  Traceback (most recent call last)",
      "\u001b[0;32m<ipython-input-74-da8dd9f5e452>\u001b[0m in \u001b[0;36m<module>\u001b[0;34m\u001b[0m\n\u001b[0;32m----> 1\u001b[0;31m \u001b[0mprediction\u001b[0m \u001b[0;34m=\u001b[0m \u001b[0mloaded_model\u001b[0m\u001b[0;34m.\u001b[0m\u001b[0mtransform\u001b[0m\u001b[0;34m(\u001b[0m\u001b[0mdf\u001b[0m\u001b[0;34m)\u001b[0m\u001b[0;34m\u001b[0m\u001b[0;34m\u001b[0m\u001b[0m\n\u001b[0m",
      "\u001b[0;32m/usr/lib/spark/python/pyspark/ml/base.py\u001b[0m in \u001b[0;36mtransform\u001b[0;34m(self, dataset, params)\u001b[0m\n\u001b[1;32m    168\u001b[0m                 \u001b[0;32mreturn\u001b[0m \u001b[0mself\u001b[0m\u001b[0;34m.\u001b[0m\u001b[0mcopy\u001b[0m\u001b[0;34m(\u001b[0m\u001b[0mparams\u001b[0m\u001b[0;34m)\u001b[0m\u001b[0;34m.\u001b[0m\u001b[0m_transform\u001b[0m\u001b[0;34m(\u001b[0m\u001b[0mdataset\u001b[0m\u001b[0;34m)\u001b[0m\u001b[0;34m\u001b[0m\u001b[0;34m\u001b[0m\u001b[0m\n\u001b[1;32m    169\u001b[0m             \u001b[0;32melse\u001b[0m\u001b[0;34m:\u001b[0m\u001b[0;34m\u001b[0m\u001b[0;34m\u001b[0m\u001b[0m\n\u001b[0;32m--> 170\u001b[0;31m                 \u001b[0;32mreturn\u001b[0m \u001b[0mself\u001b[0m\u001b[0;34m.\u001b[0m\u001b[0m_transform\u001b[0m\u001b[0;34m(\u001b[0m\u001b[0mdataset\u001b[0m\u001b[0;34m)\u001b[0m\u001b[0;34m\u001b[0m\u001b[0;34m\u001b[0m\u001b[0m\n\u001b[0m\u001b[1;32m    171\u001b[0m         \u001b[0;32melse\u001b[0m\u001b[0;34m:\u001b[0m\u001b[0;34m\u001b[0m\u001b[0;34m\u001b[0m\u001b[0m\n\u001b[1;32m    172\u001b[0m             \u001b[0;32mraise\u001b[0m \u001b[0mValueError\u001b[0m\u001b[0;34m(\u001b[0m\u001b[0;34m\"Params must be a param map but got %s.\"\u001b[0m \u001b[0;34m%\u001b[0m \u001b[0mtype\u001b[0m\u001b[0;34m(\u001b[0m\u001b[0mparams\u001b[0m\u001b[0;34m)\u001b[0m\u001b[0;34m)\u001b[0m\u001b[0;34m\u001b[0m\u001b[0;34m\u001b[0m\u001b[0m\n",
      "\u001b[0;32m/usr/lib/spark/python/pyspark/ml/pipeline.py\u001b[0m in \u001b[0;36m_transform\u001b[0;34m(self, dataset)\u001b[0m\n\u001b[1;32m    260\u001b[0m     \u001b[0;32mdef\u001b[0m \u001b[0m_transform\u001b[0m\u001b[0;34m(\u001b[0m\u001b[0mself\u001b[0m\u001b[0;34m,\u001b[0m \u001b[0mdataset\u001b[0m\u001b[0;34m)\u001b[0m\u001b[0;34m:\u001b[0m\u001b[0;34m\u001b[0m\u001b[0;34m\u001b[0m\u001b[0m\n\u001b[1;32m    261\u001b[0m         \u001b[0;32mfor\u001b[0m \u001b[0mt\u001b[0m \u001b[0;32min\u001b[0m \u001b[0mself\u001b[0m\u001b[0;34m.\u001b[0m\u001b[0mstages\u001b[0m\u001b[0;34m:\u001b[0m\u001b[0;34m\u001b[0m\u001b[0;34m\u001b[0m\u001b[0m\n\u001b[0;32m--> 262\u001b[0;31m             \u001b[0mdataset\u001b[0m \u001b[0;34m=\u001b[0m \u001b[0mt\u001b[0m\u001b[0;34m.\u001b[0m\u001b[0mtransform\u001b[0m\u001b[0;34m(\u001b[0m\u001b[0mdataset\u001b[0m\u001b[0;34m)\u001b[0m\u001b[0;34m\u001b[0m\u001b[0;34m\u001b[0m\u001b[0m\n\u001b[0m\u001b[1;32m    263\u001b[0m         \u001b[0;32mreturn\u001b[0m \u001b[0mdataset\u001b[0m\u001b[0;34m\u001b[0m\u001b[0;34m\u001b[0m\u001b[0m\n\u001b[1;32m    264\u001b[0m \u001b[0;34m\u001b[0m\u001b[0m\n",
      "\u001b[0;32m/usr/lib/spark/python/pyspark/ml/base.py\u001b[0m in \u001b[0;36mtransform\u001b[0;34m(self, dataset, params)\u001b[0m\n\u001b[1;32m    168\u001b[0m                 \u001b[0;32mreturn\u001b[0m \u001b[0mself\u001b[0m\u001b[0;34m.\u001b[0m\u001b[0mcopy\u001b[0m\u001b[0;34m(\u001b[0m\u001b[0mparams\u001b[0m\u001b[0;34m)\u001b[0m\u001b[0;34m.\u001b[0m\u001b[0m_transform\u001b[0m\u001b[0;34m(\u001b[0m\u001b[0mdataset\u001b[0m\u001b[0;34m)\u001b[0m\u001b[0;34m\u001b[0m\u001b[0;34m\u001b[0m\u001b[0m\n\u001b[1;32m    169\u001b[0m             \u001b[0;32melse\u001b[0m\u001b[0;34m:\u001b[0m\u001b[0;34m\u001b[0m\u001b[0;34m\u001b[0m\u001b[0m\n\u001b[0;32m--> 170\u001b[0;31m                 \u001b[0;32mreturn\u001b[0m \u001b[0mself\u001b[0m\u001b[0;34m.\u001b[0m\u001b[0m_transform\u001b[0m\u001b[0;34m(\u001b[0m\u001b[0mdataset\u001b[0m\u001b[0;34m)\u001b[0m\u001b[0;34m\u001b[0m\u001b[0;34m\u001b[0m\u001b[0m\n\u001b[0m\u001b[1;32m    171\u001b[0m         \u001b[0;32melse\u001b[0m\u001b[0;34m:\u001b[0m\u001b[0;34m\u001b[0m\u001b[0;34m\u001b[0m\u001b[0m\n\u001b[1;32m    172\u001b[0m             \u001b[0;32mraise\u001b[0m \u001b[0mValueError\u001b[0m\u001b[0;34m(\u001b[0m\u001b[0;34m\"Params must be a param map but got %s.\"\u001b[0m \u001b[0;34m%\u001b[0m \u001b[0mtype\u001b[0m\u001b[0;34m(\u001b[0m\u001b[0mparams\u001b[0m\u001b[0;34m)\u001b[0m\u001b[0;34m)\u001b[0m\u001b[0;34m\u001b[0m\u001b[0;34m\u001b[0m\u001b[0m\n",
      "\u001b[0;32m/usr/lib/spark/python/pyspark/ml/wrapper.py\u001b[0m in \u001b[0;36m_transform\u001b[0;34m(self, dataset)\u001b[0m\n\u001b[1;32m    336\u001b[0m     \u001b[0;32mdef\u001b[0m \u001b[0m_transform\u001b[0m\u001b[0;34m(\u001b[0m\u001b[0mself\u001b[0m\u001b[0;34m,\u001b[0m \u001b[0mdataset\u001b[0m\u001b[0;34m)\u001b[0m\u001b[0;34m:\u001b[0m\u001b[0;34m\u001b[0m\u001b[0;34m\u001b[0m\u001b[0m\n\u001b[1;32m    337\u001b[0m         \u001b[0mself\u001b[0m\u001b[0;34m.\u001b[0m\u001b[0m_transfer_params_to_java\u001b[0m\u001b[0;34m(\u001b[0m\u001b[0;34m)\u001b[0m\u001b[0;34m\u001b[0m\u001b[0;34m\u001b[0m\u001b[0m\n\u001b[0;32m--> 338\u001b[0;31m         \u001b[0;32mreturn\u001b[0m \u001b[0mDataFrame\u001b[0m\u001b[0;34m(\u001b[0m\u001b[0mself\u001b[0m\u001b[0;34m.\u001b[0m\u001b[0m_java_obj\u001b[0m\u001b[0;34m.\u001b[0m\u001b[0mtransform\u001b[0m\u001b[0;34m(\u001b[0m\u001b[0mdataset\u001b[0m\u001b[0;34m.\u001b[0m\u001b[0m_jdf\u001b[0m\u001b[0;34m)\u001b[0m\u001b[0;34m,\u001b[0m \u001b[0mdataset\u001b[0m\u001b[0;34m.\u001b[0m\u001b[0msql_ctx\u001b[0m\u001b[0;34m)\u001b[0m\u001b[0;34m\u001b[0m\u001b[0;34m\u001b[0m\u001b[0m\n\u001b[0m\u001b[1;32m    339\u001b[0m \u001b[0;34m\u001b[0m\u001b[0m\n\u001b[1;32m    340\u001b[0m \u001b[0;34m\u001b[0m\u001b[0m\n",
      "\u001b[0;32m/usr/lib/spark/python/lib/py4j-0.10.9-src.zip/py4j/java_gateway.py\u001b[0m in \u001b[0;36m__call__\u001b[0;34m(self, *args)\u001b[0m\n\u001b[1;32m   1302\u001b[0m \u001b[0;34m\u001b[0m\u001b[0m\n\u001b[1;32m   1303\u001b[0m         \u001b[0manswer\u001b[0m \u001b[0;34m=\u001b[0m \u001b[0mself\u001b[0m\u001b[0;34m.\u001b[0m\u001b[0mgateway_client\u001b[0m\u001b[0;34m.\u001b[0m\u001b[0msend_command\u001b[0m\u001b[0;34m(\u001b[0m\u001b[0mcommand\u001b[0m\u001b[0;34m)\u001b[0m\u001b[0;34m\u001b[0m\u001b[0;34m\u001b[0m\u001b[0m\n\u001b[0;32m-> 1304\u001b[0;31m         return_value = get_return_value(\n\u001b[0m\u001b[1;32m   1305\u001b[0m             answer, self.gateway_client, self.target_id, self.name)\n\u001b[1;32m   1306\u001b[0m \u001b[0;34m\u001b[0m\u001b[0m\n",
      "\u001b[0;32m/usr/lib/spark/python/pyspark/sql/utils.py\u001b[0m in \u001b[0;36mdeco\u001b[0;34m(*a, **kw)\u001b[0m\n\u001b[1;32m    132\u001b[0m                 \u001b[0;31m# Hide where the exception came from that shows a non-Pythonic\u001b[0m\u001b[0;34m\u001b[0m\u001b[0;34m\u001b[0m\u001b[0;34m\u001b[0m\u001b[0m\n\u001b[1;32m    133\u001b[0m                 \u001b[0;31m# JVM exception message.\u001b[0m\u001b[0;34m\u001b[0m\u001b[0;34m\u001b[0m\u001b[0;34m\u001b[0m\u001b[0m\n\u001b[0;32m--> 134\u001b[0;31m                 \u001b[0mraise_from\u001b[0m\u001b[0;34m(\u001b[0m\u001b[0mconverted\u001b[0m\u001b[0;34m)\u001b[0m\u001b[0;34m\u001b[0m\u001b[0;34m\u001b[0m\u001b[0m\n\u001b[0m\u001b[1;32m    135\u001b[0m             \u001b[0;32melse\u001b[0m\u001b[0;34m:\u001b[0m\u001b[0;34m\u001b[0m\u001b[0;34m\u001b[0m\u001b[0m\n\u001b[1;32m    136\u001b[0m                 \u001b[0;32mraise\u001b[0m\u001b[0;34m\u001b[0m\u001b[0;34m\u001b[0m\u001b[0m\n",
      "\u001b[0;32m/usr/lib/spark/python/pyspark/sql/utils.py\u001b[0m in \u001b[0;36mraise_from\u001b[0;34m(e)\u001b[0m\n",
      "\u001b[0;31mIllegalArgumentException\u001b[0m: TX_AMOUNT does not exist. Available: value"
     ]
    }
   ],
   "source": [
    "prediction = loaded_model.transform(df)"
   ]
  },
  {
   "cell_type": "code",
   "execution_count": 20,
   "id": "c4cd5459",
   "metadata": {},
   "outputs": [
    {
     "data": {
      "text/plain": [
       "PipelineModel_53420d14194d"
      ]
     },
     "execution_count": 20,
     "metadata": {},
     "output_type": "execute_result"
    }
   ],
   "source": [
    "loaded_model"
   ]
  },
  {
   "cell_type": "code",
   "execution_count": 13,
   "id": "aedbad4b",
   "metadata": {},
   "outputs": [
    {
     "ename": "AnalysisException",
     "evalue": "Queries with streaming sources must be executed with writeStream.start();;\nkafka",
     "output_type": "error",
     "traceback": [
      "\u001b[0;31m---------------------------------------------------------------------------\u001b[0m",
      "\u001b[0;31mAnalysisException\u001b[0m                         Traceback (most recent call last)",
      "\u001b[0;32m<ipython-input-13-1a6ce2362cd4>\u001b[0m in \u001b[0;36m<module>\u001b[0;34m\u001b[0m\n\u001b[0;32m----> 1\u001b[0;31m \u001b[0mdf\u001b[0m\u001b[0;34m.\u001b[0m\u001b[0mshow\u001b[0m\u001b[0;34m(\u001b[0m\u001b[0;34m)\u001b[0m\u001b[0;34m\u001b[0m\u001b[0;34m\u001b[0m\u001b[0m\n\u001b[0m",
      "\u001b[0;32m/usr/lib/spark/python/pyspark/sql/dataframe.py\u001b[0m in \u001b[0;36mshow\u001b[0;34m(self, n, truncate, vertical)\u001b[0m\n\u001b[1;32m    438\u001b[0m         \"\"\"\n\u001b[1;32m    439\u001b[0m         \u001b[0;32mif\u001b[0m \u001b[0misinstance\u001b[0m\u001b[0;34m(\u001b[0m\u001b[0mtruncate\u001b[0m\u001b[0;34m,\u001b[0m \u001b[0mbool\u001b[0m\u001b[0;34m)\u001b[0m \u001b[0;32mand\u001b[0m \u001b[0mtruncate\u001b[0m\u001b[0;34m:\u001b[0m\u001b[0;34m\u001b[0m\u001b[0;34m\u001b[0m\u001b[0m\n\u001b[0;32m--> 440\u001b[0;31m             \u001b[0mprint\u001b[0m\u001b[0;34m(\u001b[0m\u001b[0mself\u001b[0m\u001b[0;34m.\u001b[0m\u001b[0m_jdf\u001b[0m\u001b[0;34m.\u001b[0m\u001b[0mshowString\u001b[0m\u001b[0;34m(\u001b[0m\u001b[0mn\u001b[0m\u001b[0;34m,\u001b[0m \u001b[0;36m20\u001b[0m\u001b[0;34m,\u001b[0m \u001b[0mvertical\u001b[0m\u001b[0;34m)\u001b[0m\u001b[0;34m)\u001b[0m\u001b[0;34m\u001b[0m\u001b[0;34m\u001b[0m\u001b[0m\n\u001b[0m\u001b[1;32m    441\u001b[0m         \u001b[0;32melse\u001b[0m\u001b[0;34m:\u001b[0m\u001b[0;34m\u001b[0m\u001b[0;34m\u001b[0m\u001b[0m\n\u001b[1;32m    442\u001b[0m             \u001b[0mprint\u001b[0m\u001b[0;34m(\u001b[0m\u001b[0mself\u001b[0m\u001b[0;34m.\u001b[0m\u001b[0m_jdf\u001b[0m\u001b[0;34m.\u001b[0m\u001b[0mshowString\u001b[0m\u001b[0;34m(\u001b[0m\u001b[0mn\u001b[0m\u001b[0;34m,\u001b[0m \u001b[0mint\u001b[0m\u001b[0;34m(\u001b[0m\u001b[0mtruncate\u001b[0m\u001b[0;34m)\u001b[0m\u001b[0;34m,\u001b[0m \u001b[0mvertical\u001b[0m\u001b[0;34m)\u001b[0m\u001b[0;34m)\u001b[0m\u001b[0;34m\u001b[0m\u001b[0;34m\u001b[0m\u001b[0m\n",
      "\u001b[0;32m/usr/lib/spark/python/lib/py4j-0.10.9-src.zip/py4j/java_gateway.py\u001b[0m in \u001b[0;36m__call__\u001b[0;34m(self, *args)\u001b[0m\n\u001b[1;32m   1302\u001b[0m \u001b[0;34m\u001b[0m\u001b[0m\n\u001b[1;32m   1303\u001b[0m         \u001b[0manswer\u001b[0m \u001b[0;34m=\u001b[0m \u001b[0mself\u001b[0m\u001b[0;34m.\u001b[0m\u001b[0mgateway_client\u001b[0m\u001b[0;34m.\u001b[0m\u001b[0msend_command\u001b[0m\u001b[0;34m(\u001b[0m\u001b[0mcommand\u001b[0m\u001b[0;34m)\u001b[0m\u001b[0;34m\u001b[0m\u001b[0;34m\u001b[0m\u001b[0m\n\u001b[0;32m-> 1304\u001b[0;31m         return_value = get_return_value(\n\u001b[0m\u001b[1;32m   1305\u001b[0m             answer, self.gateway_client, self.target_id, self.name)\n\u001b[1;32m   1306\u001b[0m \u001b[0;34m\u001b[0m\u001b[0m\n",
      "\u001b[0;32m/usr/lib/spark/python/pyspark/sql/utils.py\u001b[0m in \u001b[0;36mdeco\u001b[0;34m(*a, **kw)\u001b[0m\n\u001b[1;32m    132\u001b[0m                 \u001b[0;31m# Hide where the exception came from that shows a non-Pythonic\u001b[0m\u001b[0;34m\u001b[0m\u001b[0;34m\u001b[0m\u001b[0;34m\u001b[0m\u001b[0m\n\u001b[1;32m    133\u001b[0m                 \u001b[0;31m# JVM exception message.\u001b[0m\u001b[0;34m\u001b[0m\u001b[0;34m\u001b[0m\u001b[0;34m\u001b[0m\u001b[0m\n\u001b[0;32m--> 134\u001b[0;31m                 \u001b[0mraise_from\u001b[0m\u001b[0;34m(\u001b[0m\u001b[0mconverted\u001b[0m\u001b[0;34m)\u001b[0m\u001b[0;34m\u001b[0m\u001b[0;34m\u001b[0m\u001b[0m\n\u001b[0m\u001b[1;32m    135\u001b[0m             \u001b[0;32melse\u001b[0m\u001b[0;34m:\u001b[0m\u001b[0;34m\u001b[0m\u001b[0;34m\u001b[0m\u001b[0m\n\u001b[1;32m    136\u001b[0m                 \u001b[0;32mraise\u001b[0m\u001b[0;34m\u001b[0m\u001b[0;34m\u001b[0m\u001b[0m\n",
      "\u001b[0;32m/usr/lib/spark/python/pyspark/sql/utils.py\u001b[0m in \u001b[0;36mraise_from\u001b[0;34m(e)\u001b[0m\n",
      "\u001b[0;31mAnalysisException\u001b[0m: Queries with streaming sources must be executed with writeStream.start();;\nkafka"
     ]
    }
   ],
   "source": [
    "df.show()"
   ]
  },
  {
   "cell_type": "code",
   "execution_count": 6,
   "id": "b2d41e31",
   "metadata": {},
   "outputs": [],
   "source": [
    "spark = SparkSession\\\n",
    "        .builder\\\n",
    "        .appName(\"trans_feature_engineering\")\\\n",
    "        .config(\"spark.jars.packages\", \",\".join(packages))\\\n",
    "        .getOrCreate()"
   ]
  },
  {
   "cell_type": "code",
   "execution_count": 20,
   "id": "04a414af",
   "metadata": {},
   "outputs": [],
   "source": [
    "spark = SparkSession\\\n",
    "        .builder\\\n",
    "        .appName(\"trans_feature_engineering\")\\\n",
    "        .config(\"spark.jars.packages\", \"org.apache.spark:spark-sql-kafka-0-10_2.12:3.3.1\")\\\n",
    "        .getOrCreate()"
   ]
  },
  {
   "cell_type": "code",
   "execution_count": 24,
   "id": "c2d7c99e",
   "metadata": {},
   "outputs": [],
   "source": [
    "spark.stop()"
   ]
  },
  {
   "cell_type": "code",
   "execution_count": 21,
   "id": "28ccc262",
   "metadata": {},
   "outputs": [
    {
     "ename": "AnalysisException",
     "evalue": "Failed to find data source: kafka. Please deploy the application as per the deployment section of \"Structured Streaming + Kafka Integration Guide\".;",
     "output_type": "error",
     "traceback": [
      "\u001b[0;31m---------------------------------------------------------------------------\u001b[0m",
      "\u001b[0;31mAnalysisException\u001b[0m                         Traceback (most recent call last)",
      "\u001b[0;32m<ipython-input-21-729b0219793f>\u001b[0m in \u001b[0;36m<module>\u001b[0;34m\u001b[0m\n\u001b[0;32m----> 1\u001b[0;31m \u001b[0mdf\u001b[0m \u001b[0;34m=\u001b[0m \u001b[0mspark\u001b[0m\u001b[0;31m \u001b[0m\u001b[0;31m\\\u001b[0m\u001b[0;34m\u001b[0m\u001b[0;34m\u001b[0m\u001b[0m\n\u001b[0m\u001b[1;32m      2\u001b[0m   \u001b[0;34m.\u001b[0m\u001b[0mreadStream\u001b[0m\u001b[0;31m \u001b[0m\u001b[0;31m\\\u001b[0m\u001b[0;34m\u001b[0m\u001b[0;34m\u001b[0m\u001b[0m\n\u001b[1;32m      3\u001b[0m   \u001b[0;34m.\u001b[0m\u001b[0mformat\u001b[0m\u001b[0;34m(\u001b[0m\u001b[0;34m\"kafka\"\u001b[0m\u001b[0;34m)\u001b[0m\u001b[0;31m \u001b[0m\u001b[0;31m\\\u001b[0m\u001b[0;34m\u001b[0m\u001b[0;34m\u001b[0m\u001b[0m\n\u001b[1;32m      4\u001b[0m   \u001b[0;34m.\u001b[0m\u001b[0moption\u001b[0m\u001b[0;34m(\u001b[0m\u001b[0;34m\"kafka.bootstrap.servers\"\u001b[0m\u001b[0;34m,\u001b[0m \u001b[0;34m\"rc1b-gp5vr3anrc8k7fso.mdb.yandexcloud.net:9091\"\u001b[0m\u001b[0;34m)\u001b[0m\u001b[0;31m \u001b[0m\u001b[0;31m\\\u001b[0m\u001b[0;34m\u001b[0m\u001b[0;34m\u001b[0m\u001b[0m\n\u001b[1;32m      5\u001b[0m   \u001b[0;34m.\u001b[0m\u001b[0moption\u001b[0m\u001b[0;34m(\u001b[0m\u001b[0;34m\"subscribe\"\u001b[0m\u001b[0;34m,\u001b[0m \u001b[0;34m\"features\"\u001b[0m\u001b[0;34m)\u001b[0m\u001b[0;31m \u001b[0m\u001b[0;31m\\\u001b[0m\u001b[0;34m\u001b[0m\u001b[0;34m\u001b[0m\u001b[0m\n",
      "\u001b[0;32m/usr/lib/spark/python/pyspark/sql/streaming.py\u001b[0m in \u001b[0;36mload\u001b[0;34m(self, path, format, schema, **options)\u001b[0m\n\u001b[1;32m    418\u001b[0m             \u001b[0;32mreturn\u001b[0m \u001b[0mself\u001b[0m\u001b[0;34m.\u001b[0m\u001b[0m_df\u001b[0m\u001b[0;34m(\u001b[0m\u001b[0mself\u001b[0m\u001b[0;34m.\u001b[0m\u001b[0m_jreader\u001b[0m\u001b[0;34m.\u001b[0m\u001b[0mload\u001b[0m\u001b[0;34m(\u001b[0m\u001b[0mpath\u001b[0m\u001b[0;34m)\u001b[0m\u001b[0;34m)\u001b[0m\u001b[0;34m\u001b[0m\u001b[0;34m\u001b[0m\u001b[0m\n\u001b[1;32m    419\u001b[0m         \u001b[0;32melse\u001b[0m\u001b[0;34m:\u001b[0m\u001b[0;34m\u001b[0m\u001b[0;34m\u001b[0m\u001b[0m\n\u001b[0;32m--> 420\u001b[0;31m             \u001b[0;32mreturn\u001b[0m \u001b[0mself\u001b[0m\u001b[0;34m.\u001b[0m\u001b[0m_df\u001b[0m\u001b[0;34m(\u001b[0m\u001b[0mself\u001b[0m\u001b[0;34m.\u001b[0m\u001b[0m_jreader\u001b[0m\u001b[0;34m.\u001b[0m\u001b[0mload\u001b[0m\u001b[0;34m(\u001b[0m\u001b[0;34m)\u001b[0m\u001b[0;34m)\u001b[0m\u001b[0;34m\u001b[0m\u001b[0;34m\u001b[0m\u001b[0m\n\u001b[0m\u001b[1;32m    421\u001b[0m \u001b[0;34m\u001b[0m\u001b[0m\n\u001b[1;32m    422\u001b[0m     \u001b[0;34m@\u001b[0m\u001b[0msince\u001b[0m\u001b[0;34m(\u001b[0m\u001b[0;36m2.0\u001b[0m\u001b[0;34m)\u001b[0m\u001b[0;34m\u001b[0m\u001b[0;34m\u001b[0m\u001b[0m\n",
      "\u001b[0;32m/usr/lib/spark/python/lib/py4j-0.10.9-src.zip/py4j/java_gateway.py\u001b[0m in \u001b[0;36m__call__\u001b[0;34m(self, *args)\u001b[0m\n\u001b[1;32m   1302\u001b[0m \u001b[0;34m\u001b[0m\u001b[0m\n\u001b[1;32m   1303\u001b[0m         \u001b[0manswer\u001b[0m \u001b[0;34m=\u001b[0m \u001b[0mself\u001b[0m\u001b[0;34m.\u001b[0m\u001b[0mgateway_client\u001b[0m\u001b[0;34m.\u001b[0m\u001b[0msend_command\u001b[0m\u001b[0;34m(\u001b[0m\u001b[0mcommand\u001b[0m\u001b[0;34m)\u001b[0m\u001b[0;34m\u001b[0m\u001b[0;34m\u001b[0m\u001b[0m\n\u001b[0;32m-> 1304\u001b[0;31m         return_value = get_return_value(\n\u001b[0m\u001b[1;32m   1305\u001b[0m             answer, self.gateway_client, self.target_id, self.name)\n\u001b[1;32m   1306\u001b[0m \u001b[0;34m\u001b[0m\u001b[0m\n",
      "\u001b[0;32m/usr/lib/spark/python/pyspark/sql/utils.py\u001b[0m in \u001b[0;36mdeco\u001b[0;34m(*a, **kw)\u001b[0m\n\u001b[1;32m    132\u001b[0m                 \u001b[0;31m# Hide where the exception came from that shows a non-Pythonic\u001b[0m\u001b[0;34m\u001b[0m\u001b[0;34m\u001b[0m\u001b[0;34m\u001b[0m\u001b[0m\n\u001b[1;32m    133\u001b[0m                 \u001b[0;31m# JVM exception message.\u001b[0m\u001b[0;34m\u001b[0m\u001b[0;34m\u001b[0m\u001b[0;34m\u001b[0m\u001b[0m\n\u001b[0;32m--> 134\u001b[0;31m                 \u001b[0mraise_from\u001b[0m\u001b[0;34m(\u001b[0m\u001b[0mconverted\u001b[0m\u001b[0;34m)\u001b[0m\u001b[0;34m\u001b[0m\u001b[0;34m\u001b[0m\u001b[0m\n\u001b[0m\u001b[1;32m    135\u001b[0m             \u001b[0;32melse\u001b[0m\u001b[0;34m:\u001b[0m\u001b[0;34m\u001b[0m\u001b[0;34m\u001b[0m\u001b[0m\n\u001b[1;32m    136\u001b[0m                 \u001b[0;32mraise\u001b[0m\u001b[0;34m\u001b[0m\u001b[0;34m\u001b[0m\u001b[0m\n",
      "\u001b[0;32m/usr/lib/spark/python/pyspark/sql/utils.py\u001b[0m in \u001b[0;36mraise_from\u001b[0;34m(e)\u001b[0m\n",
      "\u001b[0;31mAnalysisException\u001b[0m: Failed to find data source: kafka. Please deploy the application as per the deployment section of \"Structured Streaming + Kafka Integration Guide\".;"
     ]
    }
   ],
   "source": [
    "df = spark \\\n",
    "  .readStream \\\n",
    "  .format(\"kafka\") \\\n",
    "  .option(\"kafka.bootstrap.servers\", \"rc1b-gp5vr3anrc8k7fso.mdb.yandexcloud.net:9091\") \\\n",
    "  .option(\"subscribe\", \"features\") \\\n",
    "  .load()"
   ]
  },
  {
   "cell_type": "code",
   "execution_count": 10,
   "id": "95c76a5c",
   "metadata": {
    "scrolled": true
   },
   "outputs": [
    {
     "name": "stdout",
     "output_type": "stream",
     "text": [
      "Found 43 items\r\n",
      "drwxr-xr-x   - ubuntu hadoop          0 2022-12-02 07:47 /user/testdata/01_04_2019-06_04_2019\r\n",
      "drwxr-xr-x   - ubuntu hadoop          0 2022-12-02 07:52 /user/testdata/01_05_2019-06_05_2019\r\n",
      "drwxr-xr-x   - ubuntu hadoop          0 2022-12-02 08:23 /user/testdata/03_11_2019-08_11_2019\r\n",
      "drwxr-xr-x   - ubuntu hadoop          0 2022-12-02 08:13 /user/testdata/04_09_2019-09_09_2019\r\n",
      "drwxr-xr-x   - ubuntu hadoop          0 2022-12-02 08:18 /user/testdata/04_10_2019-09_10_2019\r\n",
      "drwxr-xr-x   - ubuntu hadoop          0 2022-12-02 08:08 /user/testdata/05_08_2019-10_08_2019\r\n",
      "drwxr-xr-x   - ubuntu hadoop          0 2022-12-02 07:58 /user/testdata/06_06_2019-11_06_2019\r\n",
      "drwxr-xr-x   - ubuntu hadoop          0 2022-12-02 08:03 /user/testdata/06_07_2019-11_07_2019\r\n",
      "drwxr-xr-x   - ubuntu hadoop          0 2022-12-02 07:48 /user/testdata/07_04_2019-12_04_2019\r\n",
      "drwxr-xr-x   - ubuntu hadoop          0 2022-12-02 07:54 /user/testdata/07_05_2019-12_05_2019\r\n",
      "drwxr-xr-x   - ubuntu hadoop          0 2022-12-02 08:24 /user/testdata/09_11_2019-14_11_2019\r\n",
      "drwxr-xr-x   - ubuntu hadoop          0 2022-12-02 08:14 /user/testdata/10_09_2019-15_09_2019\r\n",
      "drwxr-xr-x   - ubuntu hadoop          0 2022-12-02 08:19 /user/testdata/10_10_2019-15_10_2019\r\n",
      "drwxr-xr-x   - ubuntu hadoop          0 2022-12-02 08:09 /user/testdata/11_08_2019-16_08_2019\r\n",
      "drwxr-xr-x   - ubuntu hadoop          0 2022-12-02 07:59 /user/testdata/12_06_2019-17_06_2019\r\n",
      "drwxr-xr-x   - ubuntu hadoop          0 2022-12-02 08:04 /user/testdata/12_07_2019-17_07_2019\r\n",
      "drwxr-xr-x   - ubuntu hadoop          0 2022-12-02 07:49 /user/testdata/13_04_2019-18_04_2019\r\n",
      "drwxr-xr-x   - ubuntu hadoop          0 2022-12-02 07:54 /user/testdata/13_05_2019-18_05_2019\r\n",
      "drwxr-xr-x   - ubuntu hadoop          0 2022-12-02 07:44 /user/testdata/14_03_2019-19_03_2019\r\n",
      "drwxr-xr-x   - ubuntu hadoop          0 2022-12-02 08:25 /user/testdata/15_11_2019-20_11_2019\r\n",
      "drwxr-xr-x   - ubuntu hadoop          0 2022-12-02 08:15 /user/testdata/16_09_2019-21_09_2019\r\n",
      "drwxr-xr-x   - ubuntu hadoop          0 2022-12-02 08:20 /user/testdata/16_10_2019-21_10_2019\r\n",
      "drwxr-xr-x   - ubuntu hadoop          0 2022-12-02 08:10 /user/testdata/17_08_2019-22_08_2019\r\n",
      "drwxr-xr-x   - ubuntu hadoop          0 2022-12-02 08:00 /user/testdata/18_06_2019-23_06_2019\r\n",
      "drwxr-xr-x   - ubuntu hadoop          0 2022-12-02 08:05 /user/testdata/18_07_2019-23_07_2019\r\n",
      "drwxr-xr-x   - ubuntu hadoop          0 2022-12-02 07:50 /user/testdata/19_04_2019-24_04_2019\r\n",
      "drwxr-xr-x   - ubuntu hadoop          0 2022-12-02 07:55 /user/testdata/19_05_2019-24_05_2019\r\n",
      "drwxr-xr-x   - ubuntu hadoop          0 2022-12-02 07:45 /user/testdata/20_03_2019-25_03_2019\r\n",
      "drwxr-xr-x   - ubuntu hadoop          0 2022-12-02 08:26 /user/testdata/21_11_2019-26_11_2019\r\n",
      "drwxr-xr-x   - ubuntu hadoop          0 2022-12-02 08:16 /user/testdata/22_09_2019-27_09_2019\r\n",
      "drwxr-xr-x   - ubuntu hadoop          0 2022-12-02 08:21 /user/testdata/22_10_2019-27_10_2019\r\n",
      "drwxr-xr-x   - ubuntu hadoop          0 2022-12-02 08:11 /user/testdata/23_08_2019-28_08_2019\r\n",
      "drwxr-xr-x   - ubuntu hadoop          0 2022-12-02 08:01 /user/testdata/24_06_2019-29_06_2019\r\n",
      "drwxr-xr-x   - ubuntu hadoop          0 2022-12-02 08:06 /user/testdata/24_07_2019-29_07_2019\r\n",
      "drwxr-xr-x   - ubuntu hadoop          0 2022-12-02 07:51 /user/testdata/25_04_2019-30_04_2019\r\n",
      "drwxr-xr-x   - ubuntu hadoop          0 2022-12-02 07:56 /user/testdata/25_05_2019-30_05_2019\r\n",
      "drwxr-xr-x   - ubuntu hadoop          0 2022-12-02 07:46 /user/testdata/26_03_2019-31_03_2019\r\n",
      "drwxr-xr-x   - ubuntu hadoop          0 2022-12-02 08:17 /user/testdata/28_09_2019-03_10_2019\r\n",
      "drwxr-xr-x   - ubuntu hadoop          0 2022-12-02 08:22 /user/testdata/28_10_2019-02_11_2019\r\n",
      "drwxr-xr-x   - ubuntu hadoop          0 2022-12-02 08:12 /user/testdata/29_08_2019-03_09_2019\r\n",
      "drwxr-xr-x   - ubuntu hadoop          0 2022-12-02 08:02 /user/testdata/30_06_2019-05_07_2019\r\n",
      "drwxr-xr-x   - ubuntu hadoop          0 2022-12-02 08:07 /user/testdata/30_07_2019-04_08_2019\r\n",
      "drwxr-xr-x   - ubuntu hadoop          0 2022-12-02 07:57 /user/testdata/31_05_2019-05_06_2019\r\n"
     ]
    }
   ],
   "source": [
    "!hdfs dfs -ls /user/testdata/"
   ]
  },
  {
   "cell_type": "code",
   "execution_count": 12,
   "id": "0e9d8526",
   "metadata": {},
   "outputs": [
    {
     "name": "stdout",
     "output_type": "stream",
     "text": [
      "Found 3 items\r\n",
      "-rw-r--r--   1 ubuntu hadoop      51401 2022-12-02 07:47 /user/testdata/01_04_2019-06_04_2019/customers.csv\r\n",
      "-rw-r--r--   1 ubuntu hadoop       3976 2022-12-02 07:47 /user/testdata/01_04_2019-06_04_2019/terminals.csv\r\n",
      "-rw-r--r--   1 ubuntu hadoop     168599 2022-12-02 07:47 /user/testdata/01_04_2019-06_04_2019/transactions.csv\r\n"
     ]
    }
   ],
   "source": [
    "!hdfs dfs -ls /user/testdata/01_04_2019-06_04_2019"
   ]
  },
  {
   "cell_type": "code",
   "execution_count": 19,
   "id": "2871f60f",
   "metadata": {},
   "outputs": [],
   "source": [
    "spark = SparkSession\\\n",
    "        .builder\\\n",
    "        .appName(\"trans_feature_engineering\")\\\n",
    "        .getOrCreate()\n",
    "\n",
    "spark.conf.set('spark.sql.repl.eagerEval.enabled', True)  # to pretty print pyspark.DataFrame in jupyter"
   ]
  },
  {
   "cell_type": "code",
   "execution_count": 47,
   "id": "51de8593",
   "metadata": {},
   "outputs": [],
   "source": [
    "customers = spark.read.csv('/user/testdata/01_04_2019-06_04_2019/customers.csv', inferSchema=True, header=True)\n",
    "terminals = spark.read.csv('/user/testdata/01_04_2019-06_04_2019/terminals.csv', inferSchema=True, header=True)\n",
    "transactions = spark.read.csv('/user/testdata/01_04_2019-06_04_2019/transactions.csv', inferSchema=True, header=True)"
   ]
  },
  {
   "cell_type": "markdown",
   "id": "89c43c3c",
   "metadata": {},
   "source": [
    "### Обзор customers"
   ]
  },
  {
   "cell_type": "code",
   "execution_count": 16,
   "id": "628498e3",
   "metadata": {},
   "outputs": [
    {
     "name": "stdout",
     "output_type": "stream",
     "text": [
      "root\n",
      " |-- CUSTOMER_ID: integer (nullable = true)\n",
      " |-- x_customer_id: double (nullable = true)\n",
      " |-- y_customer_id: double (nullable = true)\n",
      " |-- mean_amount: double (nullable = true)\n",
      " |-- std_amount: double (nullable = true)\n",
      " |-- mean_nb_tx_per_day: double (nullable = true)\n",
      " |-- available_terminals: string (nullable = true)\n",
      " |-- nb_terminals: integer (nullable = true)\n",
      "\n"
     ]
    }
   ],
   "source": [
    "customers.printSchema()"
   ]
  },
  {
   "cell_type": "code",
   "execution_count": 21,
   "id": "85c1d9c5",
   "metadata": {},
   "outputs": [
    {
     "data": {
      "text/html": [
       "<table border='1'>\n",
       "<tr><th>CUSTOMER_ID</th><th>x_customer_id</th><th>y_customer_id</th><th>mean_amount</th><th>std_amount</th><th>mean_nb_tx_per_day</th><th>available_terminals</th><th>nb_terminals</th></tr>\n",
       "<tr><td>0</td><td>54.88135039273247</td><td>71.51893663724195</td><td>62.262520726806166</td><td>31.131260363403083</td><td>2.1795327319875875</td><td>[29, 87]</td><td>2</td></tr>\n",
       "<tr><td>1</td><td>42.36547993389047</td><td>64.58941130666561</td><td>46.57078506995579</td><td>23.285392534977895</td><td>3.567092003128319</td><td>[5]</td><td>1</td></tr>\n",
       "<tr><td>2</td><td>96.36627605010293</td><td>38.34415188257777</td><td>80.21387861785314</td><td>40.10693930892657</td><td>2.115579679011618</td><td>[]</td><td>0</td></tr>\n",
       "<tr><td>3</td><td>56.80445610939323</td><td>92.5596638292661</td><td>11.74842552879926</td><td>5.87421276439963</td><td>0.34851719880616283</td><td>[65, 94]</td><td>2</td></tr>\n",
       "<tr><td>4</td><td>2.021839744032572</td><td>83.2619845547938</td><td>78.9248913402358</td><td>39.4624456701179</td><td>3.4800485929872766</td><td>[]</td><td>0</td></tr>\n",
       "<tr><td>5</td><td>97.8618342232764</td><td>79.91585642167236</td><td>48.84053941402853</td><td>24.420269707014263</td><td>3.122116705145822</td><td>[79]</td><td>1</td></tr>\n",
       "<tr><td>6</td><td>11.827442586893323</td><td>63.99210213275238</td><td>18.618562303859406</td><td>9.309281151929703</td><td>3.7786756681983356</td><td>[]</td><td>0</td></tr>\n",
       "<tr><td>7</td><td>52.184832175007166</td><td>41.46619399905236</td><td>30.132783149939563</td><td>15.066391574969781</td><td>3.0969347577368667</td><td>[]</td><td>0</td></tr>\n",
       "<tr><td>8</td><td>45.615033221654855</td><td>56.84339488686485</td><td>6.785031041453738</td><td>3.392515520726869</td><td>2.4705419883035082</td><td>[8, 46]</td><td>2</td></tr>\n",
       "<tr><td>9</td><td>61.20957227224214</td><td>61.69339968747569</td><td>94.6560674588893</td><td>47.32803372944465</td><td>2.7272811964139336</td><td>[84]</td><td>1</td></tr>\n",
       "</table>\n"
      ],
      "text/plain": [
       "+-----------+------------------+-----------------+------------------+------------------+-------------------+-------------------+------------+\n",
       "|CUSTOMER_ID|     x_customer_id|    y_customer_id|       mean_amount|        std_amount| mean_nb_tx_per_day|available_terminals|nb_terminals|\n",
       "+-----------+------------------+-----------------+------------------+------------------+-------------------+-------------------+------------+\n",
       "|          0| 54.88135039273247|71.51893663724195|62.262520726806166|31.131260363403083| 2.1795327319875875|           [29, 87]|           2|\n",
       "|          1| 42.36547993389047|64.58941130666561| 46.57078506995579|23.285392534977895|  3.567092003128319|                [5]|           1|\n",
       "|          2| 96.36627605010293|38.34415188257777| 80.21387861785314| 40.10693930892657|  2.115579679011618|                 []|           0|\n",
       "|          3| 56.80445610939323| 92.5596638292661| 11.74842552879926|  5.87421276439963|0.34851719880616283|           [65, 94]|           2|\n",
       "|          4| 2.021839744032572| 83.2619845547938|  78.9248913402358|  39.4624456701179| 3.4800485929872766|                 []|           0|\n",
       "|          5|  97.8618342232764|79.91585642167236| 48.84053941402853|24.420269707014263|  3.122116705145822|               [79]|           1|\n",
       "|          6|11.827442586893323|63.99210213275238|18.618562303859406| 9.309281151929703| 3.7786756681983356|                 []|           0|\n",
       "|          7|52.184832175007166|41.46619399905236|30.132783149939563|15.066391574969781| 3.0969347577368667|                 []|           0|\n",
       "|          8|45.615033221654855|56.84339488686485| 6.785031041453738| 3.392515520726869| 2.4705419883035082|            [8, 46]|           2|\n",
       "|          9| 61.20957227224214|61.69339968747569|  94.6560674588893| 47.32803372944465| 2.7272811964139336|               [84]|           1|\n",
       "+-----------+------------------+-----------------+------------------+------------------+-------------------+-------------------+------------+"
      ]
     },
     "execution_count": 21,
     "metadata": {},
     "output_type": "execute_result"
    }
   ],
   "source": [
    "customers.limit(10)"
   ]
  },
  {
   "cell_type": "markdown",
   "id": "dbe1e4ca",
   "metadata": {},
   "source": [
    "### Обзор terminals"
   ]
  },
  {
   "cell_type": "code",
   "execution_count": 17,
   "id": "d5eafb99",
   "metadata": {},
   "outputs": [
    {
     "name": "stdout",
     "output_type": "stream",
     "text": [
      "root\n",
      " |-- TERMINAL_ID: integer (nullable = true)\n",
      " |-- x_terminal_id: double (nullable = true)\n",
      " |-- y_terminal_id: double (nullable = true)\n",
      "\n"
     ]
    }
   ],
   "source": [
    "terminals.printSchema()"
   ]
  },
  {
   "cell_type": "code",
   "execution_count": 22,
   "id": "4bf17373",
   "metadata": {},
   "outputs": [
    {
     "data": {
      "text/html": [
       "<table border='1'>\n",
       "<tr><th>TERMINAL_ID</th><th>x_terminal_id</th><th>y_terminal_id</th></tr>\n",
       "<tr><td>0</td><td>41.7022004702574</td><td>72.0324493442158</td></tr>\n",
       "<tr><td>1</td><td>0.011437481734488664</td><td>30.233257263183976</td></tr>\n",
       "<tr><td>2</td><td>14.675589081711305</td><td>9.233859476879779</td></tr>\n",
       "<tr><td>3</td><td>18.62602113776709</td><td>34.556072704304775</td></tr>\n",
       "<tr><td>4</td><td>39.67674742306699</td><td>53.88167340033569</td></tr>\n",
       "<tr><td>5</td><td>41.91945144032948</td><td>68.52195003967594</td></tr>\n",
       "<tr><td>6</td><td>20.445224973151742</td><td>87.81174363909454</td></tr>\n",
       "<tr><td>7</td><td>2.7387593197926163</td><td>67.04675101784022</td></tr>\n",
       "<tr><td>8</td><td>41.730480236712694</td><td>55.868982844575164</td></tr>\n",
       "<tr><td>9</td><td>14.038693859523377</td><td>19.81014890848788</td></tr>\n",
       "</table>\n"
      ],
      "text/plain": [
       "+-----------+--------------------+------------------+\n",
       "|TERMINAL_ID|       x_terminal_id|     y_terminal_id|\n",
       "+-----------+--------------------+------------------+\n",
       "|          0|    41.7022004702574|  72.0324493442158|\n",
       "|          1|0.011437481734488664|30.233257263183976|\n",
       "|          2|  14.675589081711305| 9.233859476879779|\n",
       "|          3|   18.62602113776709|34.556072704304775|\n",
       "|          4|   39.67674742306699| 53.88167340033569|\n",
       "|          5|   41.91945144032948| 68.52195003967594|\n",
       "|          6|  20.445224973151742| 87.81174363909454|\n",
       "|          7|  2.7387593197926163| 67.04675101784022|\n",
       "|          8|  41.730480236712694|55.868982844575164|\n",
       "|          9|  14.038693859523377| 19.81014890848788|\n",
       "+-----------+--------------------+------------------+"
      ]
     },
     "execution_count": 22,
     "metadata": {},
     "output_type": "execute_result"
    }
   ],
   "source": [
    "terminals.limit(10)"
   ]
  },
  {
   "cell_type": "markdown",
   "id": "c0e6e3ff",
   "metadata": {},
   "source": [
    "### Обзор transactions"
   ]
  },
  {
   "cell_type": "code",
   "execution_count": 18,
   "id": "c842d96a",
   "metadata": {},
   "outputs": [
    {
     "name": "stdout",
     "output_type": "stream",
     "text": [
      "root\n",
      " |-- TRANSACTION_ID: integer (nullable = true)\n",
      " |-- TX_DATETIME: string (nullable = true)\n",
      " |-- CUSTOMER_ID: integer (nullable = true)\n",
      " |-- TERMINAL_ID: integer (nullable = true)\n",
      " |-- TX_AMOUNT: double (nullable = true)\n",
      " |-- TX_TIME_SECONDS: integer (nullable = true)\n",
      " |-- TX_TIME_DAYS: integer (nullable = true)\n",
      " |-- TX_FRAUD: integer (nullable = true)\n",
      " |-- TX_FRAUD_SCENARIO: integer (nullable = true)\n",
      "\n"
     ]
    }
   ],
   "source": [
    "transactions.printSchema()"
   ]
  },
  {
   "cell_type": "code",
   "execution_count": 23,
   "id": "f59cebd3",
   "metadata": {},
   "outputs": [
    {
     "data": {
      "text/html": [
       "<table border='1'>\n",
       "<tr><th>TRANSACTION_ID</th><th>TX_DATETIME</th><th>CUSTOMER_ID</th><th>TERMINAL_ID</th><th>TX_AMOUNT</th><th>TX_TIME_SECONDS</th><th>TX_TIME_DAYS</th><th>TX_FRAUD</th><th>TX_FRAUD_SCENARIO</th></tr>\n",
       "<tr><td>0</td><td>2019-04-01 00:32:35</td><td>183</td><td>47</td><td>39.3</td><td>1955</td><td>0</td><td>0</td><td>0</td></tr>\n",
       "<tr><td>1</td><td>2019-04-01 00:43:59</td><td>382</td><td>43</td><td>15.35</td><td>2639</td><td>0</td><td>0</td><td>0</td></tr>\n",
       "<tr><td>2</td><td>2019-04-01 00:45:51</td><td>381</td><td>58</td><td>23.15</td><td>2751</td><td>0</td><td>0</td><td>0</td></tr>\n",
       "<tr><td>3</td><td>2019-04-01 00:57:25</td><td>426</td><td>50</td><td>82.58</td><td>3445</td><td>0</td><td>0</td><td>0</td></tr>\n",
       "<tr><td>4</td><td>2019-04-01 01:11:00</td><td>8</td><td>8</td><td>2.08</td><td>4260</td><td>0</td><td>0</td><td>0</td></tr>\n",
       "<tr><td>5</td><td>2019-04-01 01:26:30</td><td>408</td><td>60</td><td>23.41</td><td>5190</td><td>0</td><td>0</td><td>0</td></tr>\n",
       "<tr><td>6</td><td>2019-04-01 01:38:25</td><td>230</td><td>33</td><td>18.93</td><td>5905</td><td>0</td><td>0</td><td>0</td></tr>\n",
       "<tr><td>7</td><td>2019-04-01 01:55:28</td><td>474</td><td>18</td><td>10.67</td><td>6928</td><td>0</td><td>0</td><td>0</td></tr>\n",
       "<tr><td>8</td><td>2019-04-01 01:56:23</td><td>398</td><td>37</td><td>8.8</td><td>6983</td><td>0</td><td>0</td><td>0</td></tr>\n",
       "<tr><td>9</td><td>2019-04-01 01:56:44</td><td>55</td><td>81</td><td>35.06</td><td>7004</td><td>0</td><td>0</td><td>0</td></tr>\n",
       "</table>\n"
      ],
      "text/plain": [
       "+--------------+-------------------+-----------+-----------+---------+---------------+------------+--------+-----------------+\n",
       "|TRANSACTION_ID|        TX_DATETIME|CUSTOMER_ID|TERMINAL_ID|TX_AMOUNT|TX_TIME_SECONDS|TX_TIME_DAYS|TX_FRAUD|TX_FRAUD_SCENARIO|\n",
       "+--------------+-------------------+-----------+-----------+---------+---------------+------------+--------+-----------------+\n",
       "|             0|2019-04-01 00:32:35|        183|         47|     39.3|           1955|           0|       0|                0|\n",
       "|             1|2019-04-01 00:43:59|        382|         43|    15.35|           2639|           0|       0|                0|\n",
       "|             2|2019-04-01 00:45:51|        381|         58|    23.15|           2751|           0|       0|                0|\n",
       "|             3|2019-04-01 00:57:25|        426|         50|    82.58|           3445|           0|       0|                0|\n",
       "|             4|2019-04-01 01:11:00|          8|          8|     2.08|           4260|           0|       0|                0|\n",
       "|             5|2019-04-01 01:26:30|        408|         60|    23.41|           5190|           0|       0|                0|\n",
       "|             6|2019-04-01 01:38:25|        230|         33|    18.93|           5905|           0|       0|                0|\n",
       "|             7|2019-04-01 01:55:28|        474|         18|    10.67|           6928|           0|       0|                0|\n",
       "|             8|2019-04-01 01:56:23|        398|         37|      8.8|           6983|           0|       0|                0|\n",
       "|             9|2019-04-01 01:56:44|         55|         81|    35.06|           7004|           0|       0|                0|\n",
       "+--------------+-------------------+-----------+-----------+---------+---------------+------------+--------+-----------------+"
      ]
     },
     "execution_count": 23,
     "metadata": {},
     "output_type": "execute_result"
    }
   ],
   "source": [
    "transactions.limit(10)"
   ]
  },
  {
   "cell_type": "markdown",
   "id": "b9a73528",
   "metadata": {},
   "source": [
    "### Препроцессинг данных"
   ]
  },
  {
   "cell_type": "code",
   "execution_count": 48,
   "id": "0c8a483f",
   "metadata": {},
   "outputs": [],
   "source": [
    "# Удаляем вспомогательные при генерации столбцы, чтобы не было ликов при обучении\n",
    "customers = customers.drop(\"available_terminals\",\"nb_terminals\")\n",
    "transactions = transactions.drop(\"TX_FRAUD_SCENARIO\")"
   ]
  },
  {
   "cell_type": "code",
   "execution_count": 49,
   "id": "870fa56c",
   "metadata": {},
   "outputs": [],
   "source": [
    "# Удаляем мусорные признаки\n",
    "transactions = transactions.drop(\"TX_TIME_SECONDS\", \"TX_TIME_DAYS\")"
   ]
  },
  {
   "cell_type": "code",
   "execution_count": 50,
   "id": "7f51403f",
   "metadata": {},
   "outputs": [],
   "source": [
    "# Сводим все в одну таблицу\n",
    "result = transactions.join(customers, transactions.CUSTOMER_ID == customers.CUSTOMER_ID, \"left\")\n",
    "result = result.join(terminals, result.TERMINAL_ID == terminals.TERMINAL_ID, \"left\")"
   ]
  },
  {
   "cell_type": "code",
   "execution_count": 71,
   "id": "5e0d33b6",
   "metadata": {},
   "outputs": [],
   "source": [
    "# Работаем с временными признаками\n",
    "result = result.withColumn('day_of_week', dayofweek(result.TX_DATETIME))\n",
    "result = result.withColumn('hour', hour(result.TX_DATETIME))\n",
    "result = result.drop(\"TX_DATETIME\")"
   ]
  },
  {
   "cell_type": "code",
   "execution_count": 73,
   "id": "a74ddab4",
   "metadata": {},
   "outputs": [],
   "source": [
    "# Удаляем потенциально полезные признаки (надо проверить), чтобы не раздувать пространство\n",
    "result = result.drop(\"TRANSACTION_ID\", \"CUSTOMER_ID\", \"TERMINAL_ID\")"
   ]
  },
  {
   "cell_type": "code",
   "execution_count": 74,
   "id": "c82ca623",
   "metadata": {},
   "outputs": [
    {
     "data": {
      "text/html": [
       "<table border='1'>\n",
       "<tr><th>TX_AMOUNT</th><th>TX_FRAUD</th><th>x_customer_id</th><th>y_customer_id</th><th>mean_amount</th><th>std_amount</th><th>mean_nb_tx_per_day</th><th>x_terminal_id</th><th>y_terminal_id</th><th>day_of_week</th><th>hour</th></tr>\n",
       "<tr><td>39.3</td><td>0</td><td>36.49118360212381</td><td>26.090449938105976</td><td>52.11717806047961</td><td>26.058589030239805</td><td>2.726959780277445</td><td>40.81368027612812</td><td>23.70269802430277</td><td>2</td><td>0</td></tr>\n",
       "<tr><td>15.35</td><td>0</td><td>42.83785131058563</td><td>92.31590211737402</td><td>14.983995953654924</td><td>7.491997976827462</td><td>3.930295554723651</td><td>42.809118987129494</td><td>96.48400471483856</td><td>2</td><td>0</td></tr>\n",
       "<tr><td>23.15</td><td>0</td><td>77.05440616163654</td><td>90.8248379234579</td><td>19.28322690278018</td><td>9.64161345139009</td><td>2.233133696676994</td><td>75.38761884612464</td><td>92.30245355464834</td><td>2</td><td>0</td></tr>\n",
       "<tr><td>82.58</td><td>0</td><td>31.019549824420313</td><td>51.54330866863324</td><td>44.51556488982905</td><td>22.257782444914525</td><td>0.9250198119187538</td><td>32.664490177209615</td><td>52.70581022576093</td><td>2</td><td>0</td></tr>\n",
       "<tr><td>2.08</td><td>0</td><td>45.615033221654855</td><td>56.84339488686485</td><td>6.785031041453738</td><td>3.392515520726869</td><td>2.4705419883035082</td><td>41.730480236712694</td><td>55.868982844575164</td><td>2</td><td>1</td></tr>\n",
       "<tr><td>23.41</td><td>0</td><td>4.276313794779885</td><td>0.036734375145786036</td><td>31.0045997919041</td><td>15.50229989595205</td><td>1.8483901185097995</td><td>1.9880133839795588</td><td>2.621098687771928</td><td>2</td><td>1</td></tr>\n",
       "<tr><td>18.93</td><td>0</td><td>65.73189166171419</td><td>51.732608351608015</td><td>51.071736290016695</td><td>25.535868145008347</td><td>3.6046486825966464</td><td>66.37946452197887</td><td>51.48891120583086</td><td>2</td><td>1</td></tr>\n",
       "<tr><td>10.67</td><td>0</td><td>71.81865260891838</td><td>80.19572403734452</td><td>7.500526851988695</td><td>3.7502634259943477</td><td>2.875515661085698</td><td>68.65009276815837</td><td>83.46256718973729</td><td>2</td><td>1</td></tr>\n",
       "<tr><td>8.8</td><td>0</td><td>37.305452930520325</td><td>19.685205466531375</td><td>14.382189245102728</td><td>7.191094622551364</td><td>2.9944240233183113</td><td>39.767683698553355</td><td>16.53541971169328</td><td>2</td><td>1</td></tr>\n",
       "<tr><td>35.06</td><td>0</td><td>62.89818435911487</td><td>87.26506554473953</td><td>30.986493307485397</td><td>15.493246653742698</td><td>3.192187335650255</td><td>61.99557183813798</td><td>82.89808995501787</td><td>2</td><td>1</td></tr>\n",
       "</table>\n"
      ],
      "text/plain": [
       "+---------+--------+------------------+--------------------+------------------+------------------+------------------+------------------+------------------+-----------+----+\n",
       "|TX_AMOUNT|TX_FRAUD|     x_customer_id|       y_customer_id|       mean_amount|        std_amount|mean_nb_tx_per_day|     x_terminal_id|     y_terminal_id|day_of_week|hour|\n",
       "+---------+--------+------------------+--------------------+------------------+------------------+------------------+------------------+------------------+-----------+----+\n",
       "|     39.3|       0| 36.49118360212381|  26.090449938105976| 52.11717806047961|26.058589030239805| 2.726959780277445| 40.81368027612812| 23.70269802430277|          2|   0|\n",
       "|    15.35|       0| 42.83785131058563|   92.31590211737402|14.983995953654924| 7.491997976827462| 3.930295554723651|42.809118987129494| 96.48400471483856|          2|   0|\n",
       "|    23.15|       0| 77.05440616163654|    90.8248379234579| 19.28322690278018|  9.64161345139009| 2.233133696676994| 75.38761884612464| 92.30245355464834|          2|   0|\n",
       "|    82.58|       0|31.019549824420313|   51.54330866863324| 44.51556488982905|22.257782444914525|0.9250198119187538|32.664490177209615| 52.70581022576093|          2|   0|\n",
       "|     2.08|       0|45.615033221654855|   56.84339488686485| 6.785031041453738| 3.392515520726869|2.4705419883035082|41.730480236712694|55.868982844575164|          2|   1|\n",
       "|    23.41|       0| 4.276313794779885|0.036734375145786036|  31.0045997919041| 15.50229989595205|1.8483901185097995|1.9880133839795588| 2.621098687771928|          2|   1|\n",
       "|    18.93|       0| 65.73189166171419|  51.732608351608015|51.071736290016695|25.535868145008347|3.6046486825966464| 66.37946452197887| 51.48891120583086|          2|   1|\n",
       "|    10.67|       0| 71.81865260891838|   80.19572403734452| 7.500526851988695|3.7502634259943477| 2.875515661085698| 68.65009276815837| 83.46256718973729|          2|   1|\n",
       "|      8.8|       0|37.305452930520325|  19.685205466531375|14.382189245102728| 7.191094622551364|2.9944240233183113|39.767683698553355| 16.53541971169328|          2|   1|\n",
       "|    35.06|       0| 62.89818435911487|   87.26506554473953|30.986493307485397|15.493246653742698| 3.192187335650255| 61.99557183813798| 82.89808995501787|          2|   1|\n",
       "+---------+--------+------------------+--------------------+------------------+------------------+------------------+------------------+------------------+-----------+----+"
      ]
     },
     "execution_count": 74,
     "metadata": {},
     "output_type": "execute_result"
    }
   ],
   "source": [
    "result.limit(10)"
   ]
  },
  {
   "cell_type": "code",
   "execution_count": 77,
   "id": "ff35641c",
   "metadata": {
    "scrolled": true
   },
   "outputs": [
    {
     "ename": "IllegalArgumentException",
     "evalue": "requirement failed: Column hour_encoded already exists.",
     "output_type": "error",
     "traceback": [
      "\u001b[0;31m---------------------------------------------------------------------------\u001b[0m",
      "\u001b[0;31mIllegalArgumentException\u001b[0m                  Traceback (most recent call last)",
      "\u001b[0;32m<ipython-input-77-c3120b065dc2>\u001b[0m in \u001b[0;36m<module>\u001b[0;34m\u001b[0m\n\u001b[1;32m      1\u001b[0m \u001b[0mhour_encoder\u001b[0m \u001b[0;34m=\u001b[0m \u001b[0mOneHotEncoder\u001b[0m\u001b[0;34m(\u001b[0m\u001b[0minputCol\u001b[0m\u001b[0;34m=\u001b[0m\u001b[0;34m\"hour\"\u001b[0m\u001b[0;34m,\u001b[0m \u001b[0moutputCol\u001b[0m\u001b[0;34m=\u001b[0m\u001b[0;34m\"hour_encoded\"\u001b[0m\u001b[0;34m)\u001b[0m\u001b[0;34m\u001b[0m\u001b[0;34m\u001b[0m\u001b[0m\n\u001b[0;32m----> 2\u001b[0;31m \u001b[0mhour_encoder_model\u001b[0m \u001b[0;34m=\u001b[0m \u001b[0mhour_encoder\u001b[0m\u001b[0;34m.\u001b[0m\u001b[0mfit\u001b[0m\u001b[0;34m(\u001b[0m\u001b[0mresult\u001b[0m\u001b[0;34m)\u001b[0m\u001b[0;34m\u001b[0m\u001b[0;34m\u001b[0m\u001b[0m\n\u001b[0m\u001b[1;32m      3\u001b[0m \u001b[0mresult\u001b[0m \u001b[0;34m=\u001b[0m \u001b[0mhour_encoder_model\u001b[0m\u001b[0;34m.\u001b[0m\u001b[0mtransform\u001b[0m\u001b[0;34m(\u001b[0m\u001b[0mresult\u001b[0m\u001b[0;34m)\u001b[0m\u001b[0;34m\u001b[0m\u001b[0;34m\u001b[0m\u001b[0m\n",
      "\u001b[0;32m/usr/lib/spark/python/pyspark/ml/base.py\u001b[0m in \u001b[0;36mfit\u001b[0;34m(self, dataset, params)\u001b[0m\n\u001b[1;32m    127\u001b[0m                 \u001b[0;32mreturn\u001b[0m \u001b[0mself\u001b[0m\u001b[0;34m.\u001b[0m\u001b[0mcopy\u001b[0m\u001b[0;34m(\u001b[0m\u001b[0mparams\u001b[0m\u001b[0;34m)\u001b[0m\u001b[0;34m.\u001b[0m\u001b[0m_fit\u001b[0m\u001b[0;34m(\u001b[0m\u001b[0mdataset\u001b[0m\u001b[0;34m)\u001b[0m\u001b[0;34m\u001b[0m\u001b[0;34m\u001b[0m\u001b[0m\n\u001b[1;32m    128\u001b[0m             \u001b[0;32melse\u001b[0m\u001b[0;34m:\u001b[0m\u001b[0;34m\u001b[0m\u001b[0;34m\u001b[0m\u001b[0m\n\u001b[0;32m--> 129\u001b[0;31m                 \u001b[0;32mreturn\u001b[0m \u001b[0mself\u001b[0m\u001b[0;34m.\u001b[0m\u001b[0m_fit\u001b[0m\u001b[0;34m(\u001b[0m\u001b[0mdataset\u001b[0m\u001b[0;34m)\u001b[0m\u001b[0;34m\u001b[0m\u001b[0;34m\u001b[0m\u001b[0m\n\u001b[0m\u001b[1;32m    130\u001b[0m         \u001b[0;32melse\u001b[0m\u001b[0;34m:\u001b[0m\u001b[0;34m\u001b[0m\u001b[0;34m\u001b[0m\u001b[0m\n\u001b[1;32m    131\u001b[0m             raise ValueError(\"Params must be either a param map or a list/tuple of param maps, \"\n",
      "\u001b[0;32m/usr/lib/spark/python/pyspark/ml/wrapper.py\u001b[0m in \u001b[0;36m_fit\u001b[0;34m(self, dataset)\u001b[0m\n\u001b[1;32m    319\u001b[0m \u001b[0;34m\u001b[0m\u001b[0m\n\u001b[1;32m    320\u001b[0m     \u001b[0;32mdef\u001b[0m \u001b[0m_fit\u001b[0m\u001b[0;34m(\u001b[0m\u001b[0mself\u001b[0m\u001b[0;34m,\u001b[0m \u001b[0mdataset\u001b[0m\u001b[0;34m)\u001b[0m\u001b[0;34m:\u001b[0m\u001b[0;34m\u001b[0m\u001b[0;34m\u001b[0m\u001b[0m\n\u001b[0;32m--> 321\u001b[0;31m         \u001b[0mjava_model\u001b[0m \u001b[0;34m=\u001b[0m \u001b[0mself\u001b[0m\u001b[0;34m.\u001b[0m\u001b[0m_fit_java\u001b[0m\u001b[0;34m(\u001b[0m\u001b[0mdataset\u001b[0m\u001b[0;34m)\u001b[0m\u001b[0;34m\u001b[0m\u001b[0;34m\u001b[0m\u001b[0m\n\u001b[0m\u001b[1;32m    322\u001b[0m         \u001b[0mmodel\u001b[0m \u001b[0;34m=\u001b[0m \u001b[0mself\u001b[0m\u001b[0;34m.\u001b[0m\u001b[0m_create_model\u001b[0m\u001b[0;34m(\u001b[0m\u001b[0mjava_model\u001b[0m\u001b[0;34m)\u001b[0m\u001b[0;34m\u001b[0m\u001b[0;34m\u001b[0m\u001b[0m\n\u001b[1;32m    323\u001b[0m         \u001b[0;32mreturn\u001b[0m \u001b[0mself\u001b[0m\u001b[0;34m.\u001b[0m\u001b[0m_copyValues\u001b[0m\u001b[0;34m(\u001b[0m\u001b[0mmodel\u001b[0m\u001b[0;34m)\u001b[0m\u001b[0;34m\u001b[0m\u001b[0;34m\u001b[0m\u001b[0m\n",
      "\u001b[0;32m/usr/lib/spark/python/pyspark/ml/wrapper.py\u001b[0m in \u001b[0;36m_fit_java\u001b[0;34m(self, dataset)\u001b[0m\n\u001b[1;32m    316\u001b[0m         \"\"\"\n\u001b[1;32m    317\u001b[0m         \u001b[0mself\u001b[0m\u001b[0;34m.\u001b[0m\u001b[0m_transfer_params_to_java\u001b[0m\u001b[0;34m(\u001b[0m\u001b[0;34m)\u001b[0m\u001b[0;34m\u001b[0m\u001b[0;34m\u001b[0m\u001b[0m\n\u001b[0;32m--> 318\u001b[0;31m         \u001b[0;32mreturn\u001b[0m \u001b[0mself\u001b[0m\u001b[0;34m.\u001b[0m\u001b[0m_java_obj\u001b[0m\u001b[0;34m.\u001b[0m\u001b[0mfit\u001b[0m\u001b[0;34m(\u001b[0m\u001b[0mdataset\u001b[0m\u001b[0;34m.\u001b[0m\u001b[0m_jdf\u001b[0m\u001b[0;34m)\u001b[0m\u001b[0;34m\u001b[0m\u001b[0;34m\u001b[0m\u001b[0m\n\u001b[0m\u001b[1;32m    319\u001b[0m \u001b[0;34m\u001b[0m\u001b[0m\n\u001b[1;32m    320\u001b[0m     \u001b[0;32mdef\u001b[0m \u001b[0m_fit\u001b[0m\u001b[0;34m(\u001b[0m\u001b[0mself\u001b[0m\u001b[0;34m,\u001b[0m \u001b[0mdataset\u001b[0m\u001b[0;34m)\u001b[0m\u001b[0;34m:\u001b[0m\u001b[0;34m\u001b[0m\u001b[0;34m\u001b[0m\u001b[0m\n",
      "\u001b[0;32m/usr/lib/spark/python/lib/py4j-0.10.9-src.zip/py4j/java_gateway.py\u001b[0m in \u001b[0;36m__call__\u001b[0;34m(self, *args)\u001b[0m\n\u001b[1;32m   1302\u001b[0m \u001b[0;34m\u001b[0m\u001b[0m\n\u001b[1;32m   1303\u001b[0m         \u001b[0manswer\u001b[0m \u001b[0;34m=\u001b[0m \u001b[0mself\u001b[0m\u001b[0;34m.\u001b[0m\u001b[0mgateway_client\u001b[0m\u001b[0;34m.\u001b[0m\u001b[0msend_command\u001b[0m\u001b[0;34m(\u001b[0m\u001b[0mcommand\u001b[0m\u001b[0;34m)\u001b[0m\u001b[0;34m\u001b[0m\u001b[0;34m\u001b[0m\u001b[0m\n\u001b[0;32m-> 1304\u001b[0;31m         return_value = get_return_value(\n\u001b[0m\u001b[1;32m   1305\u001b[0m             answer, self.gateway_client, self.target_id, self.name)\n\u001b[1;32m   1306\u001b[0m \u001b[0;34m\u001b[0m\u001b[0m\n",
      "\u001b[0;32m/usr/lib/spark/python/pyspark/sql/utils.py\u001b[0m in \u001b[0;36mdeco\u001b[0;34m(*a, **kw)\u001b[0m\n\u001b[1;32m    132\u001b[0m                 \u001b[0;31m# Hide where the exception came from that shows a non-Pythonic\u001b[0m\u001b[0;34m\u001b[0m\u001b[0;34m\u001b[0m\u001b[0;34m\u001b[0m\u001b[0m\n\u001b[1;32m    133\u001b[0m                 \u001b[0;31m# JVM exception message.\u001b[0m\u001b[0;34m\u001b[0m\u001b[0;34m\u001b[0m\u001b[0;34m\u001b[0m\u001b[0m\n\u001b[0;32m--> 134\u001b[0;31m                 \u001b[0mraise_from\u001b[0m\u001b[0;34m(\u001b[0m\u001b[0mconverted\u001b[0m\u001b[0;34m)\u001b[0m\u001b[0;34m\u001b[0m\u001b[0;34m\u001b[0m\u001b[0m\n\u001b[0m\u001b[1;32m    135\u001b[0m             \u001b[0;32melse\u001b[0m\u001b[0;34m:\u001b[0m\u001b[0;34m\u001b[0m\u001b[0;34m\u001b[0m\u001b[0m\n\u001b[1;32m    136\u001b[0m                 \u001b[0;32mraise\u001b[0m\u001b[0;34m\u001b[0m\u001b[0;34m\u001b[0m\u001b[0m\n",
      "\u001b[0;32m/usr/lib/spark/python/pyspark/sql/utils.py\u001b[0m in \u001b[0;36mraise_from\u001b[0;34m(e)\u001b[0m\n",
      "\u001b[0;31mIllegalArgumentException\u001b[0m: requirement failed: Column hour_encoded already exists."
     ]
    }
   ],
   "source": [
    "# one-hot преобразование hour\n",
    "hour_encoder = OneHotEncoder(inputCol=\"hour\", outputCol=\"hour_encoded\")\n",
    "hour_encoder_model = hour_encoder.fit(result)\n",
    "result = hour_encoder_model.transform(result)"
   ]
  },
  {
   "cell_type": "code",
   "execution_count": 79,
   "id": "fcb4b06d",
   "metadata": {},
   "outputs": [],
   "source": [
    "# one-hot преобразование day_of_week\n",
    "day_encoder = OneHotEncoder(inputCol=\"day_of_week\", outputCol=\"day_of_week_encoded\")\n",
    "day_encoder_model = day_encoder.fit(result)\n",
    "result = day_encoder_model.transform(result)"
   ]
  },
  {
   "cell_type": "code",
   "execution_count": 84,
   "id": "dba413b5",
   "metadata": {},
   "outputs": [],
   "source": [
    "# Нормализация оставшихся признаков\n",
    "amount_assembler = VectorAssembler(inputCols=[\"TX_AMOUNT\"], outputCol=\"TX_AMOUNT_v\")\n",
    "result = amount_assembler.transform(result)\n",
    "\n",
    "amount_scaler = MinMaxScaler(inputCol=\"TX_AMOUNT_v\", outputCol=\"TX_AMOUNT_scaled\")\n",
    "amount_scaler_model = amount_scaler.fit(result)\n",
    "result = amount_scaler_model.transform(result)\n",
    "\n",
    "x_cus_assembler = VectorAssembler(inputCols=[\"x_customer_id\"], outputCol=\"x_customer_id_v\")\n",
    "result = x_cus_assembler.transform(result)\n",
    "\n",
    "x_cus_scaler = MinMaxScaler(inputCol=\"x_customer_id_v\", outputCol=\"x_customer_id_scaled\")\n",
    "x_cus_scaler_model = x_cus_scaler.fit(result)\n",
    "result = x_cus_scaler_model.transform(result)\n",
    "\n",
    "y_cus_assembler = VectorAssembler(inputCols=[\"y_customer_id\"], outputCol=\"y_customer_id_v\")\n",
    "result = y_cus_assembler.transform(result)\n",
    "\n",
    "y_cus_scaler = MinMaxScaler(inputCol=\"y_customer_id_v\", outputCol=\"y_customer_id_scaled\")\n",
    "y_cus_scaler_model = y_cus_scaler.fit(result)\n",
    "result = y_cus_scaler_model.transform(result)\n",
    "\n",
    "mean_amount_assembler = VectorAssembler(inputCols=[\"mean_amount\"], outputCol=\"mean_amount_v\")\n",
    "result = mean_amount_assembler.transform(result)\n",
    "\n",
    "mean_amount_scaler = MinMaxScaler(inputCol=\"mean_amount_v\", outputCol=\"mean_amount_scaled\")\n",
    "mean_amount_scaler_model = mean_amount_scaler.fit(result)\n",
    "result = mean_amount_scaler_model.transform(result)\n",
    "\n",
    "std_amount_assembler = VectorAssembler(inputCols=[\"std_amount\"], outputCol=\"std_amount_v\")\n",
    "result = std_amount_assembler.transform(result)\n",
    "\n",
    "std_amount_scaler = MinMaxScaler(inputCol=\"std_amount_v\", outputCol=\"std_amount_scaled\")\n",
    "std_amount_scaler_model = std_amount_scaler.fit(result)\n",
    "result = std_amount_scaler_model.transform(result)\n",
    "\n",
    "mean_nb_amount_assembler = VectorAssembler(inputCols=[\"mean_nb_tx_per_day\"], outputCol=\"mean_nb_tx_per_day_v\")\n",
    "result = mean_nb_amount_assembler.transform(result)\n",
    "\n",
    "mean_nb_amount_scaler = MinMaxScaler(inputCol=\"mean_nb_tx_per_day_v\", outputCol=\"mean_nb_tx_per_day_scaled\")\n",
    "mean_nb_amount_scaler_model = mean_nb_amount_scaler.fit(result)\n",
    "result = mean_nb_amount_scaler_model.transform(result)\n",
    "\n",
    "x_ter_assembler = VectorAssembler(inputCols=[\"x_terminal_id\"], outputCol=\"x_terminal_id_v\")\n",
    "result = x_ter_assembler.transform(result)\n",
    "\n",
    "x_ter_scaler = MinMaxScaler(inputCol=\"x_terminal_id_v\", outputCol=\"x_terminal_id_scaled\")\n",
    "x_ter_scaler_model = x_ter_scaler.fit(result)\n",
    "result = x_ter_scaler_model.transform(result)\n",
    "\n",
    "y_ter_assembler = VectorAssembler(inputCols=[\"y_terminal_id\"], outputCol=\"y_terminal_id_v\")\n",
    "result = y_ter_assembler.transform(result)\n",
    "\n",
    "y_ter_scaler = MinMaxScaler(inputCol=\"y_terminal_id_v\", outputCol=\"y_terminal_id_scaled\")\n",
    "y_ter_scaler_model = y_ter_scaler.fit(result)\n",
    "result = y_ter_scaler_model.transform(result)"
   ]
  },
  {
   "cell_type": "code",
   "execution_count": 102,
   "id": "ccc7c44b",
   "metadata": {},
   "outputs": [],
   "source": [
    "# Собираем все признаки вместе\n",
    "features_assembler = VectorAssembler(inputCols=[\n",
    "    \"hour_encoded\",\n",
    "    \"day_of_week_encoded\",\n",
    "    \"TX_AMOUNT_scaled\",\n",
    "    \"x_customer_id_scaled\",\n",
    "    \"y_customer_id_scaled\",\n",
    "    \"mean_amount_scaled\",\n",
    "    \"std_amount_scaled\",\n",
    "    \"mean_nb_tx_per_day_scaled\",\n",
    "    \"x_terminal_id_scaled\",\n",
    "    \"y_terminal_id_scaled\"\n",
    "    ],\n",
    "    outputCol=\"Features\",\n",
    ")\n",
    "\n",
    "result = features_assembler.transform(result)"
   ]
  },
  {
   "cell_type": "code",
   "execution_count": 104,
   "id": "44431365",
   "metadata": {},
   "outputs": [
    {
     "data": {
      "text/html": [
       "<table border='1'>\n",
       "<tr><th>TX_AMOUNT</th><th>TX_FRAUD</th><th>x_customer_id</th><th>y_customer_id</th><th>mean_amount</th><th>std_amount</th><th>mean_nb_tx_per_day</th><th>x_terminal_id</th><th>y_terminal_id</th><th>day_of_week</th><th>hour</th><th>hour_encoded</th><th>day_of_week_encoded</th><th>TX_AMOUNT_v</th><th>TX_AMOUNT_scaled</th><th>x_customer_id_v</th><th>x_customer_id_scaled</th><th>y_customer_id_v</th><th>y_customer_id_scaled</th><th>mean_amount_v</th><th>mean_amount_scaled</th><th>std_amount_v</th><th>std_amount_scaled</th><th>mean_nb_tx_per_day_v</th><th>mean_nb_tx_per_day_scaled</th><th>x_terminal_id_v</th><th>x_terminal_id_scaled</th><th>y_terminal_id_v</th><th>y_terminal_id_scaled</th><th>Features</th></tr>\n",
       "<tr><td>39.3</td><td>0</td><td>36.49118360212381</td><td>26.090449938105976</td><td>52.11717806047961</td><td>26.058589030239805</td><td>2.726959780277445</td><td>40.81368027612812</td><td>23.70269802430277</td><td>2</td><td>0</td><td>(23,[0],[1.0])</td><td>(7,[2],[1.0])</td><td>[39.3]</td><td>[0.05700767745961...</td><td>[36.49118360212381]</td><td>[0.3686956504910844]</td><td>[26.090449938105976]</td><td>[0.2609338630841068]</td><td>[52.11717806047961]</td><td>[0.4957302436435352]</td><td>[26.058589030239805]</td><td>[0.4957302436435352]</td><td>[2.726959780277445]</td><td>[0.6807323241738981]</td><td>[40.81368027612812]</td><td>[0.4110246174713778]</td><td>[23.70269802430277]</td><td>[0.22794328978316...</td><td>(38,[0,25,30,31,3...</td></tr>\n",
       "<tr><td>15.35</td><td>0</td><td>42.83785131058563</td><td>92.31590211737402</td><td>14.983995953654924</td><td>7.491997976827462</td><td>3.930295554723651</td><td>42.809118987129494</td><td>96.48400471483856</td><td>2</td><td>0</td><td>(23,[0],[1.0])</td><td>(7,[2],[1.0])</td><td>[15.35]</td><td>[0.02224866841792...</td><td>[42.83785131058563]</td><td>[0.43329899332362...</td><td>[92.31590211737402]</td><td>[0.9241967681338312]</td><td>[14.983995953654924]</td><td>[0.10451990712158...</td><td>[7.491997976827462]</td><td>[0.10451990712158...</td><td>[3.930295554723651]</td><td>[0.9832049076436719]</td><td>[42.809118987129494]</td><td>[0.43126252220799...</td><td>[96.48400471483856]</td><td>[0.9670147277665311]</td><td>(38,[0,25,30,31,3...</td></tr>\n",
       "<tr><td>23.15</td><td>0</td><td>77.05440616163654</td><td>90.8248379234579</td><td>19.28322690278018</td><td>9.64161345139009</td><td>2.233133696676994</td><td>75.38761884612464</td><td>92.30245355464834</td><td>2</td><td>0</td><td>(23,[0],[1.0])</td><td>(7,[2],[1.0])</td><td>[23.15]</td><td>[0.03356893023525...</td><td>[77.05440616163654]</td><td>[0.7815926058352345]</td><td>[90.8248379234579]</td><td>[0.909263422473988]</td><td>[19.28322690278018]</td><td>[0.14981372496769...</td><td>[9.64161345139009]</td><td>[0.14981372496769...</td><td>[2.233133696676994]</td><td>[0.5566033366848235]</td><td>[75.38761884612464]</td><td>[0.7616763670297363]</td><td>[92.30245355464834]</td><td>[0.9245523817399148]</td><td>(38,[0,25,30,31,3...</td></tr>\n",
       "<tr><td>82.58</td><td>0</td><td>31.019549824420313</td><td>51.54330866863324</td><td>44.51556488982905</td><td>22.257782444914525</td><td>0.9250198119187538</td><td>32.664490177209615</td><td>52.70581022576093</td><td>2</td><td>0</td><td>(23,[0],[1.0])</td><td>(7,[2],[1.0])</td><td>[82.58]</td><td>[0.11982061738966...</td><td>[31.019549824420313]</td><td>[0.3129993624494391]</td><td>[51.54330866863324]</td><td>[0.5158500088845376]</td><td>[44.51556488982905]</td><td>[0.4156447385003248]</td><td>[22.257782444914525]</td><td>[0.4156447385003248]</td><td>[0.9250198119187538]</td><td>[0.2277935442745549]</td><td>[32.664490177209615]</td><td>[0.3283748562969536]</td><td>[52.70581022576093]</td><td>[0.5224608357770447]</td><td>(38,[0,25,30,31,3...</td></tr>\n",
       "<tr><td>2.08</td><td>0</td><td>45.615033221654855</td><td>56.84339488686485</td><td>6.785031041453738</td><td>3.392515520726869</td><td>2.4705419883035082</td><td>41.730480236712694</td><td>55.868982844575164</td><td>2</td><td>1</td><td>(23,[1],[1.0])</td><td>(7,[2],[1.0])</td><td>[2.08]</td><td>[0.00298971017227...</td><td>[45.615033221654855]</td><td>[0.4615681958958572]</td><td>[56.84339488686485]</td><td>[0.5689315729424542]</td><td>[6.785031041453738]</td><td>[0.01814110410905...</td><td>[3.392515520726869]</td><td>[0.01814110410905...</td><td>[2.4705419883035082]</td><td>[0.6162786998131782]</td><td>[41.730480236712694]</td><td>[0.4203228786319676]</td><td>[55.868982844575164]</td><td>[0.5545818657815892]</td><td>(38,[1,25,30,31,3...</td></tr>\n",
       "<tr><td>23.41</td><td>0</td><td>4.276313794779885</td><td>0.036734375145786036</td><td>31.0045997919041</td><td>15.50229989595205</td><td>1.8483901185097995</td><td>1.9880133839795588</td><td>2.621098687771928</td><td>2</td><td>1</td><td>(23,[1],[1.0])</td><td>(7,[2],[1.0])</td><td>[23.41]</td><td>[0.03394627229583...</td><td>[4.276313794779885]</td><td>[0.04077738313091...</td><td>[0.03673437514578...</td><td>[0.0]</td><td>[31.0045997919041]</td><td>[0.27330225927272...</td><td>[15.50229989595205]</td><td>[0.27330225927272...</td><td>[1.8483901185097995]</td><td>[0.45989351841718...</td><td>[1.9880133839795588]</td><td>[0.01725148699799...</td><td>[2.621098687771928]</td><td>[0.01386623284204...</td><td>(38,[1,25,30,31,3...</td></tr>\n",
       "<tr><td>18.93</td><td>0</td><td>65.73189166171419</td><td>51.732608351608015</td><td>51.071736290016695</td><td>25.535868145008347</td><td>3.6046486825966464</td><td>66.37946452197887</td><td>51.48891120583086</td><td>2</td><td>1</td><td>(23,[1],[1.0])</td><td>(7,[2],[1.0])</td><td>[18.93]</td><td>[0.02744437832895...</td><td>[65.73189166171419]</td><td>[0.6663396385198563]</td><td>[51.732608351608015]</td><td>[0.5177458880899369]</td><td>[51.071736290016695]</td><td>[0.484716169340387]</td><td>[25.535868145008347]</td><td>[0.484716169340387]</td><td>[3.6046486825966464]</td><td>[0.9013497406962444]</td><td>[66.37946452197887]</td><td>[0.6703149195146254]</td><td>[51.48891120583086]</td><td>[0.5101036062982668]</td><td>(38,[1,25,30,31,3...</td></tr>\n",
       "<tr><td>10.67</td><td>0</td><td>71.81865260891838</td><td>80.19572403734452</td><td>7.500526851988695</td><td>3.7502634259943477</td><td>2.875515661085698</td><td>68.65009276815837</td><td>83.46256718973729</td><td>2</td><td>1</td><td>(23,[1],[1.0])</td><td>(7,[2],[1.0])</td><td>[10.67]</td><td>[0.01545651132751...</td><td>[71.81865260891838]</td><td>[0.7282973653577823]</td><td>[80.19572403734452]</td><td>[0.8028104391840541]</td><td>[7.500526851988695]</td><td>[0.02567908876154...</td><td>[3.7502634259943477]</td><td>[0.02567908876154...</td><td>[2.875515661085698]</td><td>[0.7180735900216448]</td><td>[68.65009276815837]</td><td>[0.693343819317508]</td><td>[83.46256718973729]</td><td>[0.834786096626296]</td><td>(38,[1,25,30,31,3...</td></tr>\n",
       "<tr><td>8.8</td><td>0</td><td>37.305452930520325</td><td>19.685205466531375</td><td>14.382189245102728</td><td>7.191094622551364</td><td>2.9944240233183113</td><td>39.767683698553355</td><td>16.53541971169328</td><td>2</td><td>1</td><td>(23,[1],[1.0])</td><td>(7,[2],[1.0])</td><td>[8.8]</td><td>[0.01274255112259...</td><td>[37.305452930520325]</td><td>[0.37698417653291...</td><td>[19.685205466531375]</td><td>[0.1967838887770954]</td><td>[14.382189245102728]</td><td>[0.09817967470367...</td><td>[7.191094622551364]</td><td>[0.09817967470367...</td><td>[2.9944240233183113]</td><td>[0.7479626037819235]</td><td>[39.767683698553355]</td><td>[0.4004160335168457]</td><td>[16.53541971169328]</td><td>[0.1551618170424977]</td><td>(38,[1,25,30,31,3...</td></tr>\n",
       "<tr><td>35.06</td><td>0</td><td>62.89818435911487</td><td>87.26506554473953</td><td>30.986493307485397</td><td>15.493246653742698</td><td>3.192187335650255</td><td>61.99557183813798</td><td>82.89808995501787</td><td>2</td><td>1</td><td>(23,[1],[1.0])</td><td>(7,[2],[1.0])</td><td>[35.06]</td><td>[0.05085409924096...</td><td>[62.89818435911487]</td><td>[0.6374950585345477]</td><td>[87.26506554473953]</td><td>[0.8736114957369192]</td><td>[30.986493307485397]</td><td>[0.2731115014798045]</td><td>[15.493246653742698]</td><td>[0.2731115014798045]</td><td>[3.192187335650255]</td><td>[0.7976727356228155]</td><td>[61.99557183813798]</td><td>[0.6258531166930369]</td><td>[82.89808995501787]</td><td>[0.8290540066083628]</td><td>(38,[1,25,30,31,3...</td></tr>\n",
       "</table>\n"
      ],
      "text/plain": [
       "+---------+--------+------------------+--------------------+------------------+------------------+------------------+------------------+------------------+-----------+----+--------------+-------------------+-----------+--------------------+--------------------+--------------------+--------------------+--------------------+--------------------+--------------------+--------------------+--------------------+--------------------+-------------------------+--------------------+--------------------+--------------------+--------------------+--------------------+\n",
       "|TX_AMOUNT|TX_FRAUD|     x_customer_id|       y_customer_id|       mean_amount|        std_amount|mean_nb_tx_per_day|     x_terminal_id|     y_terminal_id|day_of_week|hour|  hour_encoded|day_of_week_encoded|TX_AMOUNT_v|    TX_AMOUNT_scaled|     x_customer_id_v|x_customer_id_scaled|     y_customer_id_v|y_customer_id_scaled|       mean_amount_v|  mean_amount_scaled|        std_amount_v|   std_amount_scaled|mean_nb_tx_per_day_v|mean_nb_tx_per_day_scaled|     x_terminal_id_v|x_terminal_id_scaled|     y_terminal_id_v|y_terminal_id_scaled|            Features|\n",
       "+---------+--------+------------------+--------------------+------------------+------------------+------------------+------------------+------------------+-----------+----+--------------+-------------------+-----------+--------------------+--------------------+--------------------+--------------------+--------------------+--------------------+--------------------+--------------------+--------------------+--------------------+-------------------------+--------------------+--------------------+--------------------+--------------------+--------------------+\n",
       "|     39.3|       0| 36.49118360212381|  26.090449938105976| 52.11717806047961|26.058589030239805| 2.726959780277445| 40.81368027612812| 23.70269802430277|          2|   0|(23,[0],[1.0])|      (7,[2],[1.0])|     [39.3]|[0.05700767745961...| [36.49118360212381]|[0.3686956504910844]|[26.090449938105976]|[0.2609338630841068]| [52.11717806047961]|[0.4957302436435352]|[26.058589030239805]|[0.4957302436435352]| [2.726959780277445]|     [0.6807323241738981]| [40.81368027612812]|[0.4110246174713778]| [23.70269802430277]|[0.22794328978316...|(38,[0,25,30,31,3...|\n",
       "|    15.35|       0| 42.83785131058563|   92.31590211737402|14.983995953654924| 7.491997976827462| 3.930295554723651|42.809118987129494| 96.48400471483856|          2|   0|(23,[0],[1.0])|      (7,[2],[1.0])|    [15.35]|[0.02224866841792...| [42.83785131058563]|[0.43329899332362...| [92.31590211737402]|[0.9241967681338312]|[14.983995953654924]|[0.10451990712158...| [7.491997976827462]|[0.10451990712158...| [3.930295554723651]|     [0.9832049076436719]|[42.809118987129494]|[0.43126252220799...| [96.48400471483856]|[0.9670147277665311]|(38,[0,25,30,31,3...|\n",
       "|    23.15|       0| 77.05440616163654|    90.8248379234579| 19.28322690278018|  9.64161345139009| 2.233133696676994| 75.38761884612464| 92.30245355464834|          2|   0|(23,[0],[1.0])|      (7,[2],[1.0])|    [23.15]|[0.03356893023525...| [77.05440616163654]|[0.7815926058352345]|  [90.8248379234579]| [0.909263422473988]| [19.28322690278018]|[0.14981372496769...|  [9.64161345139009]|[0.14981372496769...| [2.233133696676994]|     [0.5566033366848235]| [75.38761884612464]|[0.7616763670297363]| [92.30245355464834]|[0.9245523817399148]|(38,[0,25,30,31,3...|\n",
       "|    82.58|       0|31.019549824420313|   51.54330866863324| 44.51556488982905|22.257782444914525|0.9250198119187538|32.664490177209615| 52.70581022576093|          2|   0|(23,[0],[1.0])|      (7,[2],[1.0])|    [82.58]|[0.11982061738966...|[31.019549824420313]|[0.3129993624494391]| [51.54330866863324]|[0.5158500088845376]| [44.51556488982905]|[0.4156447385003248]|[22.257782444914525]|[0.4156447385003248]|[0.9250198119187538]|     [0.2277935442745549]|[32.664490177209615]|[0.3283748562969536]| [52.70581022576093]|[0.5224608357770447]|(38,[0,25,30,31,3...|\n",
       "|     2.08|       0|45.615033221654855|   56.84339488686485| 6.785031041453738| 3.392515520726869|2.4705419883035082|41.730480236712694|55.868982844575164|          2|   1|(23,[1],[1.0])|      (7,[2],[1.0])|     [2.08]|[0.00298971017227...|[45.615033221654855]|[0.4615681958958572]| [56.84339488686485]|[0.5689315729424542]| [6.785031041453738]|[0.01814110410905...| [3.392515520726869]|[0.01814110410905...|[2.4705419883035082]|     [0.6162786998131782]|[41.730480236712694]|[0.4203228786319676]|[55.868982844575164]|[0.5545818657815892]|(38,[1,25,30,31,3...|\n",
       "|    23.41|       0| 4.276313794779885|0.036734375145786036|  31.0045997919041| 15.50229989595205|1.8483901185097995|1.9880133839795588| 2.621098687771928|          2|   1|(23,[1],[1.0])|      (7,[2],[1.0])|    [23.41]|[0.03394627229583...| [4.276313794779885]|[0.04077738313091...|[0.03673437514578...|               [0.0]|  [31.0045997919041]|[0.27330225927272...| [15.50229989595205]|[0.27330225927272...|[1.8483901185097995]|     [0.45989351841718...|[1.9880133839795588]|[0.01725148699799...| [2.621098687771928]|[0.01386623284204...|(38,[1,25,30,31,3...|\n",
       "|    18.93|       0| 65.73189166171419|  51.732608351608015|51.071736290016695|25.535868145008347|3.6046486825966464| 66.37946452197887| 51.48891120583086|          2|   1|(23,[1],[1.0])|      (7,[2],[1.0])|    [18.93]|[0.02744437832895...| [65.73189166171419]|[0.6663396385198563]|[51.732608351608015]|[0.5177458880899369]|[51.071736290016695]| [0.484716169340387]|[25.535868145008347]| [0.484716169340387]|[3.6046486825966464]|     [0.9013497406962444]| [66.37946452197887]|[0.6703149195146254]| [51.48891120583086]|[0.5101036062982668]|(38,[1,25,30,31,3...|\n",
       "|    10.67|       0| 71.81865260891838|   80.19572403734452| 7.500526851988695|3.7502634259943477| 2.875515661085698| 68.65009276815837| 83.46256718973729|          2|   1|(23,[1],[1.0])|      (7,[2],[1.0])|    [10.67]|[0.01545651132751...| [71.81865260891838]|[0.7282973653577823]| [80.19572403734452]|[0.8028104391840541]| [7.500526851988695]|[0.02567908876154...|[3.7502634259943477]|[0.02567908876154...| [2.875515661085698]|     [0.7180735900216448]| [68.65009276815837]| [0.693343819317508]| [83.46256718973729]| [0.834786096626296]|(38,[1,25,30,31,3...|\n",
       "|      8.8|       0|37.305452930520325|  19.685205466531375|14.382189245102728| 7.191094622551364|2.9944240233183113|39.767683698553355| 16.53541971169328|          2|   1|(23,[1],[1.0])|      (7,[2],[1.0])|      [8.8]|[0.01274255112259...|[37.305452930520325]|[0.37698417653291...|[19.685205466531375]|[0.1967838887770954]|[14.382189245102728]|[0.09817967470367...| [7.191094622551364]|[0.09817967470367...|[2.9944240233183113]|     [0.7479626037819235]|[39.767683698553355]|[0.4004160335168457]| [16.53541971169328]|[0.1551618170424977]|(38,[1,25,30,31,3...|\n",
       "|    35.06|       0| 62.89818435911487|   87.26506554473953|30.986493307485397|15.493246653742698| 3.192187335650255| 61.99557183813798| 82.89808995501787|          2|   1|(23,[1],[1.0])|      (7,[2],[1.0])|    [35.06]|[0.05085409924096...| [62.89818435911487]|[0.6374950585345477]| [87.26506554473953]|[0.8736114957369192]|[30.986493307485397]|[0.2731115014798045]|[15.493246653742698]|[0.2731115014798045]| [3.192187335650255]|     [0.7976727356228155]| [61.99557183813798]|[0.6258531166930369]| [82.89808995501787]|[0.8290540066083628]|(38,[1,25,30,31,3...|\n",
       "+---------+--------+------------------+--------------------+------------------+------------------+------------------+------------------+------------------+-----------+----+--------------+-------------------+-----------+--------------------+--------------------+--------------------+--------------------+--------------------+--------------------+--------------------+--------------------+--------------------+--------------------+-------------------------+--------------------+--------------------+--------------------+--------------------+--------------------+"
      ]
     },
     "execution_count": 104,
     "metadata": {},
     "output_type": "execute_result"
    }
   ],
   "source": [
    "result.limit(10)"
   ]
  },
  {
   "cell_type": "markdown",
   "id": "820f5dd5",
   "metadata": {},
   "source": [
    "### Сохранение данных в формате parquet"
   ]
  },
  {
   "cell_type": "code",
   "execution_count": 109,
   "id": "1b303bfa",
   "metadata": {},
   "outputs": [],
   "source": [
    "result.write.parquet('/user/processed_data/03_11_2019-08_11_2019/processed.parquet')"
   ]
  },
  {
   "cell_type": "markdown",
   "id": "5c3bb48e",
   "metadata": {},
   "source": [
    "### Проверка, что сохраненный spark'ом датафрейм номально открывается"
   ]
  },
  {
   "cell_type": "code",
   "execution_count": 110,
   "id": "644bcf90",
   "metadata": {
    "scrolled": true
   },
   "outputs": [
    {
     "name": "stdout",
     "output_type": "stream",
     "text": [
      "Found 3 items\n",
      "drwxr-xr-x   - ubuntu hadoop          0 2022-12-02 10:04 /user/processed_data/01_04_2019-06_04_2019\n",
      "drwxr-xr-x   - ubuntu hadoop          0 2022-12-02 10:05 /user/processed_data/01_05_2019-06_05_2019\n",
      "drwxr-xr-x   - ubuntu hadoop          0 2022-12-02 10:07 /user/processed_data/03_11_2019-08_11_2019\n"
     ]
    }
   ],
   "source": [
    "!hdfs dfs -ls /user/processed_data/"
   ]
  },
  {
   "cell_type": "code",
   "execution_count": 111,
   "id": "04ca46f3",
   "metadata": {},
   "outputs": [
    {
     "data": {
      "text/html": [
       "<table border='1'>\n",
       "<tr><th>TX_AMOUNT</th><th>TX_FRAUD</th><th>x_customer_id</th><th>y_customer_id</th><th>mean_amount</th><th>std_amount</th><th>mean_nb_tx_per_day</th><th>x_terminal_id</th><th>y_terminal_id</th><th>day_of_week</th><th>hour</th><th>hour_encoded</th><th>day_of_week_encoded</th><th>TX_AMOUNT_v</th><th>TX_AMOUNT_scaled</th><th>x_customer_id_v</th><th>x_customer_id_scaled</th><th>y_customer_id_v</th><th>y_customer_id_scaled</th><th>mean_amount_v</th><th>mean_amount_scaled</th><th>std_amount_v</th><th>std_amount_scaled</th><th>mean_nb_tx_per_day_v</th><th>mean_nb_tx_per_day_scaled</th><th>x_terminal_id_v</th><th>x_terminal_id_scaled</th><th>y_terminal_id_v</th><th>y_terminal_id_scaled</th><th>Features</th></tr>\n",
       "<tr><td>39.3</td><td>0</td><td>36.49118360212381</td><td>26.090449938105976</td><td>52.11717806047961</td><td>26.058589030239805</td><td>2.726959780277445</td><td>40.81368027612812</td><td>23.70269802430277</td><td>2</td><td>0</td><td>(23,[0],[1.0])</td><td>(7,[2],[1.0])</td><td>[39.3]</td><td>[0.05700767745961...</td><td>[36.49118360212381]</td><td>[0.3686956504910844]</td><td>[26.090449938105976]</td><td>[0.2609338630841068]</td><td>[52.11717806047961]</td><td>[0.4957302436435352]</td><td>[26.058589030239805]</td><td>[0.4957302436435352]</td><td>[2.726959780277445]</td><td>[0.6807323241738981]</td><td>[40.81368027612812]</td><td>[0.4110246174713778]</td><td>[23.70269802430277]</td><td>[0.22794328978316...</td><td>(38,[0,25,30,31,3...</td></tr>\n",
       "<tr><td>15.35</td><td>0</td><td>42.83785131058563</td><td>92.31590211737402</td><td>14.983995953654924</td><td>7.491997976827462</td><td>3.930295554723651</td><td>42.809118987129494</td><td>96.48400471483856</td><td>2</td><td>0</td><td>(23,[0],[1.0])</td><td>(7,[2],[1.0])</td><td>[15.35]</td><td>[0.02224866841792...</td><td>[42.83785131058563]</td><td>[0.43329899332362...</td><td>[92.31590211737402]</td><td>[0.9241967681338312]</td><td>[14.983995953654924]</td><td>[0.10451990712158...</td><td>[7.491997976827462]</td><td>[0.10451990712158...</td><td>[3.930295554723651]</td><td>[0.9832049076436719]</td><td>[42.809118987129494]</td><td>[0.43126252220799...</td><td>[96.48400471483856]</td><td>[0.9670147277665311]</td><td>(38,[0,25,30,31,3...</td></tr>\n",
       "<tr><td>23.15</td><td>0</td><td>77.05440616163654</td><td>90.8248379234579</td><td>19.28322690278018</td><td>9.64161345139009</td><td>2.233133696676994</td><td>75.38761884612464</td><td>92.30245355464834</td><td>2</td><td>0</td><td>(23,[0],[1.0])</td><td>(7,[2],[1.0])</td><td>[23.15]</td><td>[0.03356893023525...</td><td>[77.05440616163654]</td><td>[0.7815926058352345]</td><td>[90.8248379234579]</td><td>[0.909263422473988]</td><td>[19.28322690278018]</td><td>[0.14981372496769...</td><td>[9.64161345139009]</td><td>[0.14981372496769...</td><td>[2.233133696676994]</td><td>[0.5566033366848235]</td><td>[75.38761884612464]</td><td>[0.7616763670297363]</td><td>[92.30245355464834]</td><td>[0.9245523817399148]</td><td>(38,[0,25,30,31,3...</td></tr>\n",
       "<tr><td>82.58</td><td>0</td><td>31.019549824420313</td><td>51.54330866863324</td><td>44.51556488982905</td><td>22.257782444914525</td><td>0.9250198119187538</td><td>32.664490177209615</td><td>52.70581022576093</td><td>2</td><td>0</td><td>(23,[0],[1.0])</td><td>(7,[2],[1.0])</td><td>[82.58]</td><td>[0.11982061738966...</td><td>[31.019549824420313]</td><td>[0.3129993624494391]</td><td>[51.54330866863324]</td><td>[0.5158500088845376]</td><td>[44.51556488982905]</td><td>[0.4156447385003248]</td><td>[22.257782444914525]</td><td>[0.4156447385003248]</td><td>[0.9250198119187538]</td><td>[0.2277935442745549]</td><td>[32.664490177209615]</td><td>[0.3283748562969536]</td><td>[52.70581022576093]</td><td>[0.5224608357770447]</td><td>(38,[0,25,30,31,3...</td></tr>\n",
       "<tr><td>2.08</td><td>0</td><td>45.615033221654855</td><td>56.84339488686485</td><td>6.785031041453738</td><td>3.392515520726869</td><td>2.4705419883035082</td><td>41.730480236712694</td><td>55.868982844575164</td><td>2</td><td>1</td><td>(23,[1],[1.0])</td><td>(7,[2],[1.0])</td><td>[2.08]</td><td>[0.00298971017227...</td><td>[45.615033221654855]</td><td>[0.4615681958958572]</td><td>[56.84339488686485]</td><td>[0.5689315729424542]</td><td>[6.785031041453738]</td><td>[0.01814110410905...</td><td>[3.392515520726869]</td><td>[0.01814110410905...</td><td>[2.4705419883035082]</td><td>[0.6162786998131782]</td><td>[41.730480236712694]</td><td>[0.4203228786319676]</td><td>[55.868982844575164]</td><td>[0.5545818657815892]</td><td>(38,[1,25,30,31,3...</td></tr>\n",
       "<tr><td>23.41</td><td>0</td><td>4.276313794779885</td><td>0.036734375145786036</td><td>31.0045997919041</td><td>15.50229989595205</td><td>1.8483901185097995</td><td>1.9880133839795588</td><td>2.621098687771928</td><td>2</td><td>1</td><td>(23,[1],[1.0])</td><td>(7,[2],[1.0])</td><td>[23.41]</td><td>[0.03394627229583...</td><td>[4.276313794779885]</td><td>[0.04077738313091...</td><td>[0.03673437514578...</td><td>[0.0]</td><td>[31.0045997919041]</td><td>[0.27330225927272...</td><td>[15.50229989595205]</td><td>[0.27330225927272...</td><td>[1.8483901185097995]</td><td>[0.45989351841718...</td><td>[1.9880133839795588]</td><td>[0.01725148699799...</td><td>[2.621098687771928]</td><td>[0.01386623284204...</td><td>(38,[1,25,30,31,3...</td></tr>\n",
       "<tr><td>18.93</td><td>0</td><td>65.73189166171419</td><td>51.732608351608015</td><td>51.071736290016695</td><td>25.535868145008347</td><td>3.6046486825966464</td><td>66.37946452197887</td><td>51.48891120583086</td><td>2</td><td>1</td><td>(23,[1],[1.0])</td><td>(7,[2],[1.0])</td><td>[18.93]</td><td>[0.02744437832895...</td><td>[65.73189166171419]</td><td>[0.6663396385198563]</td><td>[51.732608351608015]</td><td>[0.5177458880899369]</td><td>[51.071736290016695]</td><td>[0.484716169340387]</td><td>[25.535868145008347]</td><td>[0.484716169340387]</td><td>[3.6046486825966464]</td><td>[0.9013497406962444]</td><td>[66.37946452197887]</td><td>[0.6703149195146254]</td><td>[51.48891120583086]</td><td>[0.5101036062982668]</td><td>(38,[1,25,30,31,3...</td></tr>\n",
       "<tr><td>10.67</td><td>0</td><td>71.81865260891838</td><td>80.19572403734452</td><td>7.500526851988695</td><td>3.7502634259943477</td><td>2.875515661085698</td><td>68.65009276815837</td><td>83.46256718973729</td><td>2</td><td>1</td><td>(23,[1],[1.0])</td><td>(7,[2],[1.0])</td><td>[10.67]</td><td>[0.01545651132751...</td><td>[71.81865260891838]</td><td>[0.7282973653577823]</td><td>[80.19572403734452]</td><td>[0.8028104391840541]</td><td>[7.500526851988695]</td><td>[0.02567908876154...</td><td>[3.7502634259943477]</td><td>[0.02567908876154...</td><td>[2.875515661085698]</td><td>[0.7180735900216448]</td><td>[68.65009276815837]</td><td>[0.693343819317508]</td><td>[83.46256718973729]</td><td>[0.834786096626296]</td><td>(38,[1,25,30,31,3...</td></tr>\n",
       "<tr><td>8.8</td><td>0</td><td>37.305452930520325</td><td>19.685205466531375</td><td>14.382189245102728</td><td>7.191094622551364</td><td>2.9944240233183113</td><td>39.767683698553355</td><td>16.53541971169328</td><td>2</td><td>1</td><td>(23,[1],[1.0])</td><td>(7,[2],[1.0])</td><td>[8.8]</td><td>[0.01274255112259...</td><td>[37.305452930520325]</td><td>[0.37698417653291...</td><td>[19.685205466531375]</td><td>[0.1967838887770954]</td><td>[14.382189245102728]</td><td>[0.09817967470367...</td><td>[7.191094622551364]</td><td>[0.09817967470367...</td><td>[2.9944240233183113]</td><td>[0.7479626037819235]</td><td>[39.767683698553355]</td><td>[0.4004160335168457]</td><td>[16.53541971169328]</td><td>[0.1551618170424977]</td><td>(38,[1,25,30,31,3...</td></tr>\n",
       "<tr><td>35.06</td><td>0</td><td>62.89818435911487</td><td>87.26506554473953</td><td>30.986493307485397</td><td>15.493246653742698</td><td>3.192187335650255</td><td>61.99557183813798</td><td>82.89808995501787</td><td>2</td><td>1</td><td>(23,[1],[1.0])</td><td>(7,[2],[1.0])</td><td>[35.06]</td><td>[0.05085409924096...</td><td>[62.89818435911487]</td><td>[0.6374950585345477]</td><td>[87.26506554473953]</td><td>[0.8736114957369192]</td><td>[30.986493307485397]</td><td>[0.2731115014798045]</td><td>[15.493246653742698]</td><td>[0.2731115014798045]</td><td>[3.192187335650255]</td><td>[0.7976727356228155]</td><td>[61.99557183813798]</td><td>[0.6258531166930369]</td><td>[82.89808995501787]</td><td>[0.8290540066083628]</td><td>(38,[1,25,30,31,3...</td></tr>\n",
       "</table>\n"
      ],
      "text/plain": [
       "+---------+--------+------------------+--------------------+------------------+------------------+------------------+------------------+------------------+-----------+----+--------------+-------------------+-----------+--------------------+--------------------+--------------------+--------------------+--------------------+--------------------+--------------------+--------------------+--------------------+--------------------+-------------------------+--------------------+--------------------+--------------------+--------------------+--------------------+\n",
       "|TX_AMOUNT|TX_FRAUD|     x_customer_id|       y_customer_id|       mean_amount|        std_amount|mean_nb_tx_per_day|     x_terminal_id|     y_terminal_id|day_of_week|hour|  hour_encoded|day_of_week_encoded|TX_AMOUNT_v|    TX_AMOUNT_scaled|     x_customer_id_v|x_customer_id_scaled|     y_customer_id_v|y_customer_id_scaled|       mean_amount_v|  mean_amount_scaled|        std_amount_v|   std_amount_scaled|mean_nb_tx_per_day_v|mean_nb_tx_per_day_scaled|     x_terminal_id_v|x_terminal_id_scaled|     y_terminal_id_v|y_terminal_id_scaled|            Features|\n",
       "+---------+--------+------------------+--------------------+------------------+------------------+------------------+------------------+------------------+-----------+----+--------------+-------------------+-----------+--------------------+--------------------+--------------------+--------------------+--------------------+--------------------+--------------------+--------------------+--------------------+--------------------+-------------------------+--------------------+--------------------+--------------------+--------------------+--------------------+\n",
       "|     39.3|       0| 36.49118360212381|  26.090449938105976| 52.11717806047961|26.058589030239805| 2.726959780277445| 40.81368027612812| 23.70269802430277|          2|   0|(23,[0],[1.0])|      (7,[2],[1.0])|     [39.3]|[0.05700767745961...| [36.49118360212381]|[0.3686956504910844]|[26.090449938105976]|[0.2609338630841068]| [52.11717806047961]|[0.4957302436435352]|[26.058589030239805]|[0.4957302436435352]| [2.726959780277445]|     [0.6807323241738981]| [40.81368027612812]|[0.4110246174713778]| [23.70269802430277]|[0.22794328978316...|(38,[0,25,30,31,3...|\n",
       "|    15.35|       0| 42.83785131058563|   92.31590211737402|14.983995953654924| 7.491997976827462| 3.930295554723651|42.809118987129494| 96.48400471483856|          2|   0|(23,[0],[1.0])|      (7,[2],[1.0])|    [15.35]|[0.02224866841792...| [42.83785131058563]|[0.43329899332362...| [92.31590211737402]|[0.9241967681338312]|[14.983995953654924]|[0.10451990712158...| [7.491997976827462]|[0.10451990712158...| [3.930295554723651]|     [0.9832049076436719]|[42.809118987129494]|[0.43126252220799...| [96.48400471483856]|[0.9670147277665311]|(38,[0,25,30,31,3...|\n",
       "|    23.15|       0| 77.05440616163654|    90.8248379234579| 19.28322690278018|  9.64161345139009| 2.233133696676994| 75.38761884612464| 92.30245355464834|          2|   0|(23,[0],[1.0])|      (7,[2],[1.0])|    [23.15]|[0.03356893023525...| [77.05440616163654]|[0.7815926058352345]|  [90.8248379234579]| [0.909263422473988]| [19.28322690278018]|[0.14981372496769...|  [9.64161345139009]|[0.14981372496769...| [2.233133696676994]|     [0.5566033366848235]| [75.38761884612464]|[0.7616763670297363]| [92.30245355464834]|[0.9245523817399148]|(38,[0,25,30,31,3...|\n",
       "|    82.58|       0|31.019549824420313|   51.54330866863324| 44.51556488982905|22.257782444914525|0.9250198119187538|32.664490177209615| 52.70581022576093|          2|   0|(23,[0],[1.0])|      (7,[2],[1.0])|    [82.58]|[0.11982061738966...|[31.019549824420313]|[0.3129993624494391]| [51.54330866863324]|[0.5158500088845376]| [44.51556488982905]|[0.4156447385003248]|[22.257782444914525]|[0.4156447385003248]|[0.9250198119187538]|     [0.2277935442745549]|[32.664490177209615]|[0.3283748562969536]| [52.70581022576093]|[0.5224608357770447]|(38,[0,25,30,31,3...|\n",
       "|     2.08|       0|45.615033221654855|   56.84339488686485| 6.785031041453738| 3.392515520726869|2.4705419883035082|41.730480236712694|55.868982844575164|          2|   1|(23,[1],[1.0])|      (7,[2],[1.0])|     [2.08]|[0.00298971017227...|[45.615033221654855]|[0.4615681958958572]| [56.84339488686485]|[0.5689315729424542]| [6.785031041453738]|[0.01814110410905...| [3.392515520726869]|[0.01814110410905...|[2.4705419883035082]|     [0.6162786998131782]|[41.730480236712694]|[0.4203228786319676]|[55.868982844575164]|[0.5545818657815892]|(38,[1,25,30,31,3...|\n",
       "|    23.41|       0| 4.276313794779885|0.036734375145786036|  31.0045997919041| 15.50229989595205|1.8483901185097995|1.9880133839795588| 2.621098687771928|          2|   1|(23,[1],[1.0])|      (7,[2],[1.0])|    [23.41]|[0.03394627229583...| [4.276313794779885]|[0.04077738313091...|[0.03673437514578...|               [0.0]|  [31.0045997919041]|[0.27330225927272...| [15.50229989595205]|[0.27330225927272...|[1.8483901185097995]|     [0.45989351841718...|[1.9880133839795588]|[0.01725148699799...| [2.621098687771928]|[0.01386623284204...|(38,[1,25,30,31,3...|\n",
       "|    18.93|       0| 65.73189166171419|  51.732608351608015|51.071736290016695|25.535868145008347|3.6046486825966464| 66.37946452197887| 51.48891120583086|          2|   1|(23,[1],[1.0])|      (7,[2],[1.0])|    [18.93]|[0.02744437832895...| [65.73189166171419]|[0.6663396385198563]|[51.732608351608015]|[0.5177458880899369]|[51.071736290016695]| [0.484716169340387]|[25.535868145008347]| [0.484716169340387]|[3.6046486825966464]|     [0.9013497406962444]| [66.37946452197887]|[0.6703149195146254]| [51.48891120583086]|[0.5101036062982668]|(38,[1,25,30,31,3...|\n",
       "|    10.67|       0| 71.81865260891838|   80.19572403734452| 7.500526851988695|3.7502634259943477| 2.875515661085698| 68.65009276815837| 83.46256718973729|          2|   1|(23,[1],[1.0])|      (7,[2],[1.0])|    [10.67]|[0.01545651132751...| [71.81865260891838]|[0.7282973653577823]| [80.19572403734452]|[0.8028104391840541]| [7.500526851988695]|[0.02567908876154...|[3.7502634259943477]|[0.02567908876154...| [2.875515661085698]|     [0.7180735900216448]| [68.65009276815837]| [0.693343819317508]| [83.46256718973729]| [0.834786096626296]|(38,[1,25,30,31,3...|\n",
       "|      8.8|       0|37.305452930520325|  19.685205466531375|14.382189245102728| 7.191094622551364|2.9944240233183113|39.767683698553355| 16.53541971169328|          2|   1|(23,[1],[1.0])|      (7,[2],[1.0])|      [8.8]|[0.01274255112259...|[37.305452930520325]|[0.37698417653291...|[19.685205466531375]|[0.1967838887770954]|[14.382189245102728]|[0.09817967470367...| [7.191094622551364]|[0.09817967470367...|[2.9944240233183113]|     [0.7479626037819235]|[39.767683698553355]|[0.4004160335168457]| [16.53541971169328]|[0.1551618170424977]|(38,[1,25,30,31,3...|\n",
       "|    35.06|       0| 62.89818435911487|   87.26506554473953|30.986493307485397|15.493246653742698| 3.192187335650255| 61.99557183813798| 82.89808995501787|          2|   1|(23,[1],[1.0])|      (7,[2],[1.0])|    [35.06]|[0.05085409924096...| [62.89818435911487]|[0.6374950585345477]| [87.26506554473953]|[0.8736114957369192]|[30.986493307485397]|[0.2731115014798045]|[15.493246653742698]|[0.2731115014798045]| [3.192187335650255]|     [0.7976727356228155]| [61.99557183813798]|[0.6258531166930369]| [82.89808995501787]|[0.8290540066083628]|(38,[1,25,30,31,3...|\n",
       "+---------+--------+------------------+--------------------+------------------+------------------+------------------+------------------+------------------+-----------+----+--------------+-------------------+-----------+--------------------+--------------------+--------------------+--------------------+--------------------+--------------------+--------------------+--------------------+--------------------+--------------------+-------------------------+--------------------+--------------------+--------------------+--------------------+--------------------+"
      ]
     },
     "execution_count": 111,
     "metadata": {},
     "output_type": "execute_result"
    }
   ],
   "source": [
    "data_processed = spark.read.parquet('/user/processed_data/03_11_2019-08_11_2019/processed.parquet')\n",
    "data_processed.limit(10)"
   ]
  },
  {
   "cell_type": "code",
   "execution_count": 1,
   "id": "97938f21",
   "metadata": {},
   "outputs": [
    {
     "name": "stdout",
     "output_type": "stream",
     "text": [
      "/bin/bash: строка 1: hdfs: команда не найдена\r\n"
     ]
    }
   ],
   "source": [
    "!hdfs dfs -ls /user/processed_data"
   ]
  },
  {
   "cell_type": "markdown",
   "id": "7c38a2b7",
   "metadata": {},
   "source": [
    "# Конвертация модели в onnx"
   ]
  },
  {
   "cell_type": "code",
   "execution_count": 26,
   "id": "3167a2a0",
   "metadata": {},
   "outputs": [],
   "source": [
    "from onnxmltools import convert_sparkml\n",
    "from onnxmltools.convert.sparkml.utils import buildInitialTypesSimple "
   ]
  },
  {
   "cell_type": "code",
   "execution_count": 27,
   "id": "e5936cab",
   "metadata": {},
   "outputs": [],
   "source": [
    "# Создаем сессию (версии должны соответствовать реальным)\n",
    "spark = (SparkSession\n",
    "         .builder\n",
    "         .master('local')\n",
    "         .appName('wiki-changes-event-consumer')\n",
    "         # Add kafka package\n",
    "         .config(\"spark.jars.packages\", \"org.apache.spark:spark-sql-kafka-0-10_2.12:3.0.3\")\n",
    "         .getOrCreate())\n",
    "sc = spark.sparkContext"
   ]
  },
  {
   "cell_type": "code",
   "execution_count": 28,
   "id": "02e981c5",
   "metadata": {},
   "outputs": [
    {
     "name": "stderr",
     "output_type": "stream",
     "text": [
      "2023/01/06 14:00:16 INFO mlflow.spark: URI 's3://mlflowbucket/artifacts/0057be9b420a4bd69313c89200aba356/artifacts/fitted_model_name/sparkml' does not point to the current DFS.\n",
      "2023/01/06 14:00:16 INFO mlflow.spark: File 's3://mlflowbucket/artifacts/0057be9b420a4bd69313c89200aba356/artifacts/fitted_model_name/sparkml' not found on DFS. Will attempt to upload the file.\n",
      "2023/01/06 14:00:17 INFO mlflow.spark: Copied SparkML model to /tmp/mlflow/a83a7c34-3cfa-4f07-8514-80b1bd62f209\n"
     ]
    }
   ],
   "source": [
    "# Загружаем модель\n",
    "model_path =\"s3://mlflowbucket/artifacts/0057be9b420a4bd69313c89200aba356/artifacts/fitted_model_name\" \n",
    "loaded_model = mlflow.spark.load_model(model_uri=model_path)"
   ]
  },
  {
   "cell_type": "code",
   "execution_count": 29,
   "id": "e8960377",
   "metadata": {},
   "outputs": [
    {
     "data": {
      "text/plain": [
       "pyspark.ml.pipeline.PipelineModel"
      ]
     },
     "execution_count": 29,
     "metadata": {},
     "output_type": "execute_result"
    }
   ],
   "source": [
    "type(loaded_model)"
   ]
  },
  {
   "cell_type": "code",
   "execution_count": 30,
   "id": "aed3c1b8",
   "metadata": {},
   "outputs": [],
   "source": [
    "# Загружаем данные\n",
    "data_processed = spark.read.parquet('/user/processed_data/11_11_2018-17_11_2018/processed.parquet')"
   ]
  },
  {
   "cell_type": "code",
   "execution_count": 31,
   "id": "1b338d8e",
   "metadata": {},
   "outputs": [
    {
     "data": {
      "text/plain": [
       "StructType(List(StructField(TX_AMOUNT,DoubleType,true),StructField(TX_FRAUD,IntegerType,true),StructField(x_customer_id,DoubleType,true),StructField(y_customer_id,DoubleType,true),StructField(mean_amount,DoubleType,true),StructField(std_amount,DoubleType,true),StructField(mean_nb_tx_per_day,DoubleType,true),StructField(x_terminal_id,DoubleType,true),StructField(y_terminal_id,DoubleType,true),StructField(day_of_week,IntegerType,true),StructField(hour,IntegerType,true)))"
      ]
     },
     "execution_count": 31,
     "metadata": {},
     "output_type": "execute_result"
    }
   ],
   "source": [
    "data_processed.schema"
   ]
  },
  {
   "cell_type": "code",
   "execution_count": 32,
   "id": "a0ef0fdf",
   "metadata": {},
   "outputs": [
    {
     "data": {
      "text/plain": [
       "pyspark.sql.dataframe.DataFrame"
      ]
     },
     "execution_count": 32,
     "metadata": {},
     "output_type": "execute_result"
    }
   ],
   "source": [
    "type(data_processed)"
   ]
  },
  {
   "cell_type": "code",
   "execution_count": 33,
   "id": "44235cba",
   "metadata": {},
   "outputs": [],
   "source": [
    "initial_types = buildInitialTypesSimple(data_processed.drop(\"TX_FRAUD\"))"
   ]
  },
  {
   "cell_type": "code",
   "execution_count": 35,
   "id": "4d9f1b2e",
   "metadata": {},
   "outputs": [
    {
     "data": {
      "text/plain": [
       "[('TX_AMOUNT', FloatTensorType(shape=[1, 1])),\n",
       " ('x_customer_id', FloatTensorType(shape=[1, 1])),\n",
       " ('y_customer_id', FloatTensorType(shape=[1, 1])),\n",
       " ('mean_amount', FloatTensorType(shape=[1, 1])),\n",
       " ('std_amount', FloatTensorType(shape=[1, 1])),\n",
       " ('mean_nb_tx_per_day', FloatTensorType(shape=[1, 1])),\n",
       " ('x_terminal_id', FloatTensorType(shape=[1, 1])),\n",
       " ('y_terminal_id', FloatTensorType(shape=[1, 1])),\n",
       " ('day_of_week', FloatTensorType(shape=[1, 1])),\n",
       " ('hour', FloatTensorType(shape=[1, 1]))]"
      ]
     },
     "execution_count": 35,
     "metadata": {},
     "output_type": "execute_result"
    }
   ],
   "source": [
    "initial_types"
   ]
  },
  {
   "cell_type": "code",
   "execution_count": 34,
   "id": "af6a5063",
   "metadata": {},
   "outputs": [
    {
     "ename": "RuntimeError",
     "evalue": "The 'handleInvalid' and 'dropLast' parameters must be set to ('keep', True) or ('error', False), but got ('error', True) instead.",
     "output_type": "error",
     "traceback": [
      "\u001b[0;31m---------------------------------------------------------------------------\u001b[0m",
      "\u001b[0;31mRuntimeError\u001b[0m                              Traceback (most recent call last)",
      "\u001b[0;32m<ipython-input-34-b29578d6a08e>\u001b[0m in \u001b[0;36m<module>\u001b[0;34m\u001b[0m\n\u001b[0;32m----> 1\u001b[0;31m \u001b[0monnx_model\u001b[0m \u001b[0;34m=\u001b[0m \u001b[0mconvert_sparkml\u001b[0m\u001b[0;34m(\u001b[0m\u001b[0mloaded_model\u001b[0m\u001b[0;34m,\u001b[0m \u001b[0;34m'Pyspark_model'\u001b[0m\u001b[0;34m,\u001b[0m \u001b[0minitial_types\u001b[0m\u001b[0;34m,\u001b[0m \u001b[0mspark_session\u001b[0m \u001b[0;34m=\u001b[0m \u001b[0mspark\u001b[0m\u001b[0;34m)\u001b[0m\u001b[0;34m\u001b[0m\u001b[0;34m\u001b[0m\u001b[0m\n\u001b[0m",
      "\u001b[0;32m~/.local/lib/python3.8/site-packages/onnxmltools/convert/main.py\u001b[0m in \u001b[0;36mconvert_sparkml\u001b[0;34m(model, name, initial_types, doc_string, target_opset, targeted_onnx, custom_conversion_functions, custom_shape_calculators, spark_session)\u001b[0m\n\u001b[1;32m    164\u001b[0m \u001b[0;34m\u001b[0m\u001b[0m\n\u001b[1;32m    165\u001b[0m     \u001b[0;32mfrom\u001b[0m \u001b[0;34m.\u001b[0m\u001b[0msparkml\u001b[0m\u001b[0;34m.\u001b[0m\u001b[0mconvert\u001b[0m \u001b[0;32mimport\u001b[0m \u001b[0mconvert\u001b[0m\u001b[0;34m\u001b[0m\u001b[0;34m\u001b[0m\u001b[0m\n\u001b[0;32m--> 166\u001b[0;31m     return convert(model, name, initial_types, doc_string, target_opset, targeted_onnx,\n\u001b[0m\u001b[1;32m    167\u001b[0m                    custom_conversion_functions, custom_shape_calculators, spark_session)\n\u001b[1;32m    168\u001b[0m \u001b[0;34m\u001b[0m\u001b[0m\n",
      "\u001b[0;32m~/.local/lib/python3.8/site-packages/onnxmltools/convert/sparkml/convert.py\u001b[0m in \u001b[0;36mconvert\u001b[0;34m(model, name, initial_types, doc_string, target_opset, targeted_onnx, custom_conversion_functions, custom_shape_calculators, spark_session)\u001b[0m\n\u001b[1;32m     66\u001b[0m \u001b[0;34m\u001b[0m\u001b[0m\n\u001b[1;32m     67\u001b[0m     \u001b[0;31m# Infer variable shapes\u001b[0m\u001b[0;34m\u001b[0m\u001b[0;34m\u001b[0m\u001b[0;34m\u001b[0m\u001b[0m\n\u001b[0;32m---> 68\u001b[0;31m     \u001b[0mtopology\u001b[0m\u001b[0;34m.\u001b[0m\u001b[0mcompile\u001b[0m\u001b[0;34m(\u001b[0m\u001b[0;34m)\u001b[0m\u001b[0;34m\u001b[0m\u001b[0;34m\u001b[0m\u001b[0m\n\u001b[0m\u001b[1;32m     69\u001b[0m \u001b[0;34m\u001b[0m\u001b[0m\n\u001b[1;32m     70\u001b[0m     \u001b[0;31m# Convert our Topology object into ONNX. The outcome is an ONNX model.\u001b[0m\u001b[0;34m\u001b[0m\u001b[0;34m\u001b[0m\u001b[0;34m\u001b[0m\u001b[0m\n",
      "\u001b[0;32m~/.local/lib/python3.8/site-packages/onnxconverter_common/topology.py\u001b[0m in \u001b[0;36mcompile\u001b[0;34m(self)\u001b[0m\n\u001b[1;32m    676\u001b[0m         \u001b[0mself\u001b[0m\u001b[0;34m.\u001b[0m\u001b[0m_resolve_duplicates\u001b[0m\u001b[0;34m(\u001b[0m\u001b[0;34m)\u001b[0m\u001b[0;34m\u001b[0m\u001b[0;34m\u001b[0m\u001b[0m\n\u001b[1;32m    677\u001b[0m         \u001b[0mself\u001b[0m\u001b[0;34m.\u001b[0m\u001b[0m_fix_shapes\u001b[0m\u001b[0;34m(\u001b[0m\u001b[0;34m)\u001b[0m\u001b[0;34m\u001b[0m\u001b[0;34m\u001b[0m\u001b[0m\n\u001b[0;32m--> 678\u001b[0;31m         \u001b[0mself\u001b[0m\u001b[0;34m.\u001b[0m\u001b[0m_infer_all_types\u001b[0m\u001b[0;34m(\u001b[0m\u001b[0;34m)\u001b[0m\u001b[0;34m\u001b[0m\u001b[0;34m\u001b[0m\u001b[0m\n\u001b[0m\u001b[1;32m    679\u001b[0m         \u001b[0mself\u001b[0m\u001b[0;34m.\u001b[0m\u001b[0m_check_structure\u001b[0m\u001b[0;34m(\u001b[0m\u001b[0;34m)\u001b[0m\u001b[0;34m\u001b[0m\u001b[0;34m\u001b[0m\u001b[0m\n\u001b[1;32m    680\u001b[0m \u001b[0;34m\u001b[0m\u001b[0m\n",
      "\u001b[0;32m~/.local/lib/python3.8/site-packages/onnxconverter_common/topology.py\u001b[0m in \u001b[0;36m_infer_all_types\u001b[0;34m(self)\u001b[0m\n\u001b[1;32m    551\u001b[0m                 \u001b[0;32mpass\u001b[0m  \u001b[0;31m# in Keras converter, the shape calculator can be optional.\u001b[0m\u001b[0;34m\u001b[0m\u001b[0;34m\u001b[0m\u001b[0m\n\u001b[1;32m    552\u001b[0m             \u001b[0;32melse\u001b[0m\u001b[0;34m:\u001b[0m\u001b[0;34m\u001b[0m\u001b[0;34m\u001b[0m\u001b[0m\n\u001b[0;32m--> 553\u001b[0;31m                 \u001b[0moperator\u001b[0m\u001b[0;34m.\u001b[0m\u001b[0minfer_types\u001b[0m\u001b[0;34m(\u001b[0m\u001b[0;34m)\u001b[0m\u001b[0;34m\u001b[0m\u001b[0;34m\u001b[0m\u001b[0m\n\u001b[0m\u001b[1;32m    554\u001b[0m \u001b[0;34m\u001b[0m\u001b[0m\n\u001b[1;32m    555\u001b[0m     \u001b[0;32mdef\u001b[0m \u001b[0m_resolve_duplicates\u001b[0m\u001b[0;34m(\u001b[0m\u001b[0mself\u001b[0m\u001b[0;34m)\u001b[0m\u001b[0;34m:\u001b[0m\u001b[0;34m\u001b[0m\u001b[0;34m\u001b[0m\u001b[0m\n",
      "\u001b[0;32m~/.local/lib/python3.8/site-packages/onnxconverter_common/topology.py\u001b[0m in \u001b[0;36minfer_types\u001b[0;34m(self)\u001b[0m\n\u001b[1;32m    105\u001b[0m     \u001b[0;32mdef\u001b[0m \u001b[0minfer_types\u001b[0m\u001b[0;34m(\u001b[0m\u001b[0mself\u001b[0m\u001b[0;34m)\u001b[0m\u001b[0;34m:\u001b[0m\u001b[0;34m\u001b[0m\u001b[0;34m\u001b[0m\u001b[0m\n\u001b[1;32m    106\u001b[0m         \u001b[0;31m# Invoke a core inference function\u001b[0m\u001b[0;34m\u001b[0m\u001b[0;34m\u001b[0m\u001b[0;34m\u001b[0m\u001b[0m\n\u001b[0;32m--> 107\u001b[0;31m         \u001b[0mget_shape_calculator\u001b[0m\u001b[0;34m(\u001b[0m\u001b[0mself\u001b[0m\u001b[0;34m.\u001b[0m\u001b[0mtype\u001b[0m\u001b[0;34m)\u001b[0m\u001b[0;34m(\u001b[0m\u001b[0mself\u001b[0m\u001b[0;34m)\u001b[0m\u001b[0;34m\u001b[0m\u001b[0;34m\u001b[0m\u001b[0m\n\u001b[0m\u001b[1;32m    108\u001b[0m \u001b[0;34m\u001b[0m\u001b[0m\n\u001b[1;32m    109\u001b[0m \u001b[0;34m\u001b[0m\u001b[0m\n",
      "\u001b[0;32m~/.local/lib/python3.8/site-packages/onnxmltools/convert/sparkml/operator_converters/onehot_encoder.py\u001b[0m in \u001b[0;36mcalculate_sparkml_one_hot_encoder_output_shapes\u001b[0;34m(operator)\u001b[0m\n\u001b[1;32m     70\u001b[0m \u001b[0;34m\u001b[0m\u001b[0m\n\u001b[1;32m     71\u001b[0m \u001b[0;32mdef\u001b[0m \u001b[0mcalculate_sparkml_one_hot_encoder_output_shapes\u001b[0m\u001b[0;34m(\u001b[0m\u001b[0moperator\u001b[0m\u001b[0;34m:\u001b[0m \u001b[0mOperator\u001b[0m\u001b[0;34m)\u001b[0m\u001b[0;34m:\u001b[0m\u001b[0;34m\u001b[0m\u001b[0;34m\u001b[0m\u001b[0m\n\u001b[0;32m---> 72\u001b[0;31m     \u001b[0mcategories\u001b[0m \u001b[0;34m=\u001b[0m \u001b[0m_get_categories\u001b[0m\u001b[0;34m(\u001b[0m\u001b[0moperator\u001b[0m\u001b[0;34m)\u001b[0m\u001b[0;34m\u001b[0m\u001b[0;34m\u001b[0m\u001b[0m\n\u001b[0m\u001b[1;32m     73\u001b[0m     \u001b[0mN\u001b[0m \u001b[0;34m=\u001b[0m \u001b[0moperator\u001b[0m\u001b[0;34m.\u001b[0m\u001b[0minputs\u001b[0m\u001b[0;34m[\u001b[0m\u001b[0;36m0\u001b[0m\u001b[0;34m]\u001b[0m\u001b[0;34m.\u001b[0m\u001b[0mtype\u001b[0m\u001b[0;34m.\u001b[0m\u001b[0mshape\u001b[0m\u001b[0;34m[\u001b[0m\u001b[0;36m0\u001b[0m\u001b[0;34m]\u001b[0m\u001b[0;34m\u001b[0m\u001b[0;34m\u001b[0m\u001b[0m\n\u001b[1;32m     74\u001b[0m     \u001b[0;32mfor\u001b[0m \u001b[0mi\u001b[0m\u001b[0;34m,\u001b[0m \u001b[0moutput\u001b[0m \u001b[0;32min\u001b[0m \u001b[0menumerate\u001b[0m\u001b[0;34m(\u001b[0m\u001b[0moperator\u001b[0m\u001b[0;34m.\u001b[0m\u001b[0moutputs\u001b[0m\u001b[0;34m)\u001b[0m\u001b[0;34m:\u001b[0m\u001b[0;34m\u001b[0m\u001b[0;34m\u001b[0m\u001b[0m\n",
      "\u001b[0;32m~/.local/lib/python3.8/site-packages/onnxmltools/convert/sparkml/operator_converters/onehot_encoder.py\u001b[0m in \u001b[0;36m_get_categories\u001b[0;34m(operator)\u001b[0m\n\u001b[1;32m     22\u001b[0m         \u001b[0mop\u001b[0m\u001b[0;34m.\u001b[0m\u001b[0mgetHandleInvalid\u001b[0m\u001b[0;34m(\u001b[0m\u001b[0;34m)\u001b[0m \u001b[0;34m==\u001b[0m \u001b[0;34m\"error\"\u001b[0m \u001b[0;32mand\u001b[0m \u001b[0mop\u001b[0m\u001b[0;34m.\u001b[0m\u001b[0mgetDropLast\u001b[0m\u001b[0;34m(\u001b[0m\u001b[0;34m)\u001b[0m \u001b[0;34m==\u001b[0m \u001b[0;32mTrue\u001b[0m\u001b[0;34m\u001b[0m\u001b[0;34m\u001b[0m\u001b[0m\n\u001b[1;32m     23\u001b[0m     ):\n\u001b[0;32m---> 24\u001b[0;31m         raise RuntimeError(\n\u001b[0m\u001b[1;32m     25\u001b[0m             \u001b[0;34mf\"The 'handleInvalid' and 'dropLast' parameters must be set to ('keep', True) or ('error', False), but got ('{op.getHandleInvalid()}', {op.getDropLast()}) instead.\"\u001b[0m\u001b[0;34m\u001b[0m\u001b[0;34m\u001b[0m\u001b[0m\n\u001b[1;32m     26\u001b[0m         )\n",
      "\u001b[0;31mRuntimeError\u001b[0m: The 'handleInvalid' and 'dropLast' parameters must be set to ('keep', True) or ('error', False), but got ('error', True) instead."
     ]
    }
   ],
   "source": [
    "onnx_model = convert_sparkml(loaded_model, 'Pyspark_model', initial_types, spark_session = spark)"
   ]
  },
  {
   "cell_type": "code",
   "execution_count": null,
   "id": "3b71b970",
   "metadata": {},
   "outputs": [],
   "source": []
  }
 ],
 "metadata": {
  "kernelspec": {
   "display_name": "Python 3",
   "language": "python",
   "name": "python3"
  },
  "language_info": {
   "codemirror_mode": {
    "name": "ipython",
    "version": 3
   },
   "file_extension": ".py",
   "mimetype": "text/x-python",
   "name": "python",
   "nbconvert_exporter": "python",
   "pygments_lexer": "ipython3",
   "version": "3.8.10"
  }
 },
 "nbformat": 4,
 "nbformat_minor": 5
}
