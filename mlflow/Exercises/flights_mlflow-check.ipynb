{
 "cells": [
  {
   "cell_type": "markdown",
   "id": "66db7b32",
   "metadata": {},
   "source": [
    "## Проверка загруженной модели"
   ]
  },
  {
   "cell_type": "code",
   "execution_count": null,
   "id": "e36abad3",
   "metadata": {},
   "outputs": [],
   "source": [
    "APP_NAME='Flights_Spark_TrainValidationSplit'"
   ]
  },
  {
   "cell_type": "code",
   "execution_count": null,
   "id": "7854d0fc",
   "metadata": {},
   "outputs": [],
   "source": [
    "S3_DATA='s3a://mlflow-test/data/flights-larger.csv'"
   ]
  },
  {
   "cell_type": "markdown",
   "id": "f68af937",
   "metadata": {},
   "source": [
    "### Используйте свой путь до директории с моделью"
   ]
  },
  {
   "cell_type": "code",
   "execution_count": null,
   "id": "7bca4aad",
   "metadata": {},
   "outputs": [],
   "source": [
    "saved_model_path = 'Student_Name_flights_LR_only'"
   ]
  },
  {
   "cell_type": "code",
   "execution_count": 1,
   "id": "8ea8bb6d",
   "metadata": {},
   "outputs": [],
   "source": [
    "#! pip install findspark"
   ]
  },
  {
   "cell_type": "code",
   "execution_count": 1,
   "id": "f3fa08c3",
   "metadata": {},
   "outputs": [
    {
     "data": {
      "text/plain": [
       "'/usr/lib/spark'"
      ]
     },
     "execution_count": 1,
     "metadata": {},
     "output_type": "execute_result"
    }
   ],
   "source": [
    "import findspark\n",
    "findspark.init()\n",
    "findspark.find()"
   ]
  },
  {
   "cell_type": "code",
   "execution_count": 2,
   "id": "3cf349d8",
   "metadata": {},
   "outputs": [],
   "source": [
    "from pyspark.ml.feature import VectorAssembler\n",
    "from pyspark.ml.evaluation import RegressionEvaluator\n",
    "from pyspark.sql import SparkSession"
   ]
  },
  {
   "cell_type": "code",
   "execution_count": 10,
   "id": "a742d416",
   "metadata": {},
   "outputs": [],
   "source": [
    "#! pip install mlflow"
   ]
  },
  {
   "cell_type": "code",
   "execution_count": 3,
   "id": "648d3107",
   "metadata": {},
   "outputs": [],
   "source": [
    "import mlflow"
   ]
  },
  {
   "cell_type": "code",
   "execution_count": 4,
   "id": "077e6ab1",
   "metadata": {},
   "outputs": [],
   "source": [
    "from datetime import datetime"
   ]
  },
  {
   "cell_type": "code",
   "execution_count": 2,
   "id": "5904d87e",
   "metadata": {},
   "outputs": [
    {
     "name": "stdout",
     "output_type": "stream",
     "text": [
      "config\tcredentials\r\n"
     ]
    }
   ],
   "source": [
    "!ls $HOME/.aws"
   ]
  },
  {
   "cell_type": "code",
   "execution_count": 6,
   "id": "2ce6ac41",
   "metadata": {},
   "outputs": [],
   "source": [
    "spark = SparkSession\\\n",
    "    .builder\\\n",
    "    .appName(APP_NAME)\\\n",
    "    .config(\"spark.jars\", \"mlflow-spark-1.27.0.jar\")\\\n",
    "    .getOrCreate()"
   ]
  },
  {
   "cell_type": "code",
   "execution_count": 7,
   "id": "511bd9a0",
   "metadata": {},
   "outputs": [],
   "source": [
    "# spark.stop()"
   ]
  },
  {
   "cell_type": "code",
   "execution_count": 8,
   "id": "ad7505ac",
   "metadata": {},
   "outputs": [],
   "source": [
    "data = (spark.read.format('csv')\n",
    "        .options(header='true', inferSchema='true')\n",
    "        .load(S3_DATA))"
   ]
  },
  {
   "cell_type": "code",
   "execution_count": 9,
   "id": "29577b48",
   "metadata": {},
   "outputs": [],
   "source": [
    "assembler = VectorAssembler(inputCols=[\"mile\"], outputCol=\"features\")\n",
    "out_data = assembler.transform(data)"
   ]
  },
  {
   "cell_type": "code",
   "execution_count": 10,
   "id": "5ee09bf3",
   "metadata": {},
   "outputs": [
    {
     "name": "stdout",
     "output_type": "stream",
     "text": [
      "+---+---+---+-------+------+---+----+------+--------+-----+--------+\n",
      "|mon|dom|dow|carrier|flight|org|mile|depart|duration|delay|features|\n",
      "+---+---+---+-------+------+---+----+------+--------+-----+--------+\n",
      "| 10| 10|  1|     OO|  5836|ORD| 157|  8.18|      51|   27| [157.0]|\n",
      "|  1|  4|  1|     OO|  5866|ORD| 466|  15.5|     102|   NA| [466.0]|\n",
      "| 11| 22|  1|     OO|  6016|ORD| 738|  7.17|     127|  -19| [738.0]|\n",
      "|  2| 14|  5|     B6|   199|JFK|2248| 21.17|     365|   60|[2248.0]|\n",
      "|  5| 25|  3|     WN|  1675|SJC| 386| 12.92|      85|   22| [386.0]|\n",
      "|  3| 28|  1|     B6|   377|LGA|1076| 13.33|     182|   70|[1076.0]|\n",
      "|  5| 28|  6|     B6|   904|ORD| 740|  9.58|     130|   47| [740.0]|\n",
      "|  1| 19|  2|     UA|   820|SFO| 679| 12.75|     123|  135| [679.0]|\n",
      "|  8|  5|  5|     US|  2175|LGA| 214|  13.0|      71|  -10| [214.0]|\n",
      "|  5| 27|  5|     AA|  1240|ORD|1197| 14.42|     195|  -11|[1197.0]|\n",
      "|  8| 20|  6|     B6|   119|JFK|1182| 14.67|     198|   20|[1182.0]|\n",
      "|  2|  3|  1|     AA|  1881|JFK|1090| 15.92|     200|   -9|[1090.0]|\n",
      "|  8| 26|  5|     B6|    35|JFK|1028| 20.58|     193|  102|[1028.0]|\n",
      "|  4|  9|  5|     AA|   336|ORD| 733|  20.5|     125|   32| [733.0]|\n",
      "|  3|  8|  2|     UA|   678|ORD| 733| 10.95|     129|   55| [733.0]|\n",
      "|  8| 10|  3|     OH|  6347|LGA| 292| 11.75|     102|    8| [292.0]|\n",
      "|  8| 14|  0|     UA|   624|ORD| 612| 17.92|     109|   57| [612.0]|\n",
      "|  4|  8|  4|     OH|  5585|JFK| 301| 13.25|      88|   23| [301.0]|\n",
      "|  1| 14|  4|     UA|  1524|SFO| 414| 14.87|      91|   27| [414.0]|\n",
      "|  1|  2|  6|     AA|  1341|ORD|1846|   7.5|     275|   26|[1846.0]|\n",
      "+---+---+---+-------+------+---+----+------+--------+-----+--------+\n",
      "only showing top 20 rows\n",
      "\n"
     ]
    }
   ],
   "source": [
    "out_data.show()"
   ]
  },
  {
   "cell_type": "code",
   "execution_count": 11,
   "id": "c33498d1",
   "metadata": {},
   "outputs": [],
   "source": [
    "evaluator = RegressionEvaluator(labelCol='duration')"
   ]
  },
  {
   "cell_type": "code",
   "execution_count": 13,
   "id": "b9d86912",
   "metadata": {},
   "outputs": [
    {
     "name": "stderr",
     "output_type": "stream",
     "text": [
      "2022/07/27 13:13:47 INFO mlflow.spark: File 'Student_Name_flights_LR_only/sparkml' not found on DFS. Will attempt to upload the file.\n",
      "2022/07/27 13:13:48 INFO mlflow.spark: Copied SparkML model to /tmp/mlflow/ac2d15c7-5636-46a9-afc0-39de128d968f\n"
     ]
    }
   ],
   "source": [
    "loaded_model = mlflow.spark.load_model(saved_model_path)"
   ]
  },
  {
   "cell_type": "code",
   "execution_count": 17,
   "id": "0518690d",
   "metadata": {},
   "outputs": [],
   "source": [
    "predictions = loaded_model.transform(out_data)\\\n",
    "    .select(\"features\", \"duration\", \"prediction\")"
   ]
  },
  {
   "cell_type": "code",
   "execution_count": 18,
   "id": "a80c64a2",
   "metadata": {},
   "outputs": [
    {
     "name": "stdout",
     "output_type": "stream",
     "text": [
      "+--------+--------+------------------+\n",
      "|features|duration|        prediction|\n",
      "+--------+--------+------------------+\n",
      "| [157.0]|      51|63.381402677702845|\n",
      "| [466.0]|     102|101.03866245585063|\n",
      "| [738.0]|     127|134.18680051299043|\n",
      "|[2248.0]|     365| 318.2077139919651|\n",
      "| [386.0]|      85| 91.28921008610362|\n",
      "|[1076.0]|     182| 175.3782367751715|\n",
      "| [740.0]|     130| 134.4305368222341|\n",
      "| [679.0]|     123|  126.996579390302|\n",
      "| [214.0]|      71| 70.32788749114758|\n",
      "|[1197.0]|     195|190.12428348441384|\n",
      "|[1182.0]|     198|188.29626116508626|\n",
      "|[1090.0]|     200| 177.0843909398772|\n",
      "|[1028.0]|     193| 169.5285653533233|\n",
      "| [733.0]|     125|133.57745973988125|\n",
      "| [733.0]|     129|133.57745973988125|\n",
      "| [292.0]|     102|  79.8336035516509|\n",
      "| [612.0]|     109|118.83141303063891|\n",
      "| [301.0]|      88| 80.93041694324745|\n",
      "| [414.0]|      91| 94.70151841551508|\n",
      "|[1846.0]|     275|269.21671583398637|\n",
      "+--------+--------+------------------+\n",
      "only showing top 20 rows\n",
      "\n"
     ]
    }
   ],
   "source": [
    "predictions.show()"
   ]
  },
  {
   "cell_type": "code",
   "execution_count": 19,
   "id": "798ff909",
   "metadata": {},
   "outputs": [
    {
     "data": {
      "text/plain": [
       "17.19136134051717"
      ]
     },
     "execution_count": 19,
     "metadata": {},
     "output_type": "execute_result"
    }
   ],
   "source": [
    "evaluator.evaluate(predictions)"
   ]
  },
  {
   "cell_type": "code",
   "execution_count": 20,
   "id": "592df936",
   "metadata": {},
   "outputs": [],
   "source": [
    "spark.stop()"
   ]
  }
 ],
 "metadata": {
  "kernelspec": {
   "display_name": "Python 3",
   "language": "python",
   "name": "python3"
  },
  "language_info": {
   "codemirror_mode": {
    "name": "ipython",
    "version": 3
   },
   "file_extension": ".py",
   "mimetype": "text/x-python",
   "name": "python",
   "nbconvert_exporter": "python",
   "pygments_lexer": "ipython3",
   "version": "3.8.10"
  }
 },
 "nbformat": 4,
 "nbformat_minor": 5
}
